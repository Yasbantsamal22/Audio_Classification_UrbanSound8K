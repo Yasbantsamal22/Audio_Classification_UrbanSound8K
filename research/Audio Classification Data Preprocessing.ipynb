{
 "cells": [
  {
   "cell_type": "code",
   "execution_count": 2,
   "id": "526d2381",
   "metadata": {},
   "outputs": [],
   "source": [
    "import os"
   ]
  },
  {
   "cell_type": "code",
   "execution_count": 3,
   "id": "692daf47",
   "metadata": {},
   "outputs": [
    {
     "data": {
      "text/plain": [
       "'c:\\\\Users\\\\yasba\\\\OneDrive\\\\Documents\\\\Projects\\\\Audio_Classification_UrbanSound8K\\\\research'"
      ]
     },
     "execution_count": 3,
     "metadata": {},
     "output_type": "execute_result"
    }
   ],
   "source": [
    "%pwd"
   ]
  },
  {
   "cell_type": "code",
   "execution_count": 4,
   "id": "fcc02d05",
   "metadata": {},
   "outputs": [],
   "source": [
    "os.chdir(\"../\")"
   ]
  },
  {
   "cell_type": "code",
   "execution_count": 5,
   "id": "bc7a9dd4",
   "metadata": {},
   "outputs": [
    {
     "data": {
      "text/plain": [
       "'c:\\\\Users\\\\yasba\\\\OneDrive\\\\Documents\\\\Projects\\\\Audio_Classification_UrbanSound8K'"
      ]
     },
     "execution_count": 5,
     "metadata": {},
     "output_type": "execute_result"
    }
   ],
   "source": [
    "%pwd"
   ]
  },
  {
   "cell_type": "code",
   "execution_count": 36,
   "id": "d3f7aedf",
   "metadata": {},
   "outputs": [],
   "source": [
    "## Let's read a sample audio using librosa\n",
    "import librosa\n",
    "audio_file_path = r'C:\\Users\\yasba\\OneDrive\\Documents\\Projects\\Audio_Classification_UrbanSound8K\\data\\raw\\fold1\\9031-3-3-0.wav'\n",
    "librosa_audio_data, librosa_sample_rate = librosa.load(audio_file_path)"
   ]
  },
  {
   "cell_type": "code",
   "execution_count": 37,
   "id": "27825d5a-d19e-42c9-bd85-b5036c585297",
   "metadata": {},
   "outputs": [
    {
     "name": "stdout",
     "output_type": "stream",
     "text": [
      "[0.05424668 0.0778658  0.06725552 ... 0.07426675 0.07336666 0.08047701]\n"
     ]
    }
   ],
   "source": [
    "print(librosa_audio_data)"
   ]
  },
  {
   "cell_type": "code",
   "execution_count": 38,
   "id": "1784cf17-bb4a-41e0-930d-dff2edf10a38",
   "metadata": {},
   "outputs": [
    {
     "data": {
      "text/plain": [
       "[<matplotlib.lines.Line2D at 0x2cd0ccb3790>]"
      ]
     },
     "execution_count": 38,
     "metadata": {},
     "output_type": "execute_result"
    },
    {
     "data": {
      "image/png": "[encoded data removed]",
      "text/plain": [
       "<Figure size 1200x400 with 1 Axes>"
      ]
     },
     "metadata": {},
     "output_type": "display_data"
    }
   ],
   "source": [
    "## Let's plot the librosa audio data\n",
    "import matplotlib.pyplot as plt\n",
    "# Original audio with 1 channel\n",
    "plt.figure(figsize=(12,4))\n",
    "plt.plot(librosa_audio_data)"
   ]
  },
  {
   "cell_type": "markdown",
   "id": "9101aac2-c67d-480b-a93c-1b47553b677e",
   "metadata": {},
   "source": [
    "**Observation**\n",
    "\n",
    "Here Librosa converts the signal to mono, meaning the channel will always be 1 "
   ]
  },
  {
   "cell_type": "markdown",
   "id": "ce4a4b0e-a245-40c2-9b27-aac10ff927a0",
   "metadata": {},
   "source": [
    "**Extract Features**\n",
    "\n",
    "Here we will be using Mel-Frequency Cepstral Coefficient(MFCC) from the audio samples. The MFCC Summarises the frequency distribution across the window size, so it is possible to analyse both the frequency and time characteristics of the sound. these audio representations will allow us to identify features for classification."
   ]
  },
  {
   "cell_type": "code",
   "execution_count": 39,
   "id": "251e3995-f181-4c3f-8b87-e81f7b00f940",
   "metadata": {},
   "outputs": [
    {
     "name": "stdout",
     "output_type": "stream",
     "text": [
      "(40, 75)\n"
     ]
    }
   ],
   "source": [
    "mfcc = librosa.feature.mfcc(y=librosa_audio_data, sr=librosa_sample_rate, n_mfcc=40)\n",
    "print(mfcc.shape)"
   ]
  },
  {
   "cell_type": "code",
   "execution_count": 40,
   "id": "6d8ce8cb-7f1d-4170-8c89-aaa9e22c68da",
   "metadata": {},
   "outputs": [
    {
     "data": {
      "text/plain": [
       "array([[-3.05890625e+02, -3.35162384e+02, -2.75130829e+02, ...,\n",
       "        -3.73950043e+02, -3.44669159e+02, -2.87315552e+02],\n",
       "       [ 1.14268600e+02,  1.04809540e+02, -5.22994270e+01, ...,\n",
       "        -3.38385391e+00,  6.14054337e+01,  9.21986847e+01],\n",
       "       [ 1.50286827e+01, -1.11787872e+01, -1.06178185e+02, ...,\n",
       "        -7.99420471e+01, -1.18086891e+01,  2.19801674e+01],\n",
       "       ...,\n",
       "       [ 1.58183181e+00, -5.97155666e+00,  7.09352255e-01, ...,\n",
       "         5.85048318e-01,  1.41096389e+00,  1.62975812e+00],\n",
       "       [ 1.04925191e+00,  1.00868015e+01,  8.79019165e+00, ...,\n",
       "         1.23267865e+00,  3.66824865e+00,  3.24818945e+00],\n",
       "       [ 2.49328613e+00,  4.05441093e+00,  6.66254616e+00, ...,\n",
       "         1.08980665e+01,  4.55692720e+00, -5.90178967e-02]], dtype=float32)"
      ]
     },
     "execution_count": 40,
     "metadata": {},
     "output_type": "execute_result"
    }
   ],
   "source": [
    "mfcc"
   ]
  },
  {
   "cell_type": "code",
   "execution_count": 41,
   "id": "57d2243a-5a69-45c3-a611-ec6a8798bff2",
   "metadata": {},
   "outputs": [
    {
     "data": {
      "text/html": [
       "<div>\n",
       "<style scoped>\n",
       "    .dataframe tbody tr th:only-of-type {\n",
       "        vertical-align: middle;\n",
       "    }\n",
       "\n",
       "    .dataframe tbody tr th {\n",
       "        vertical-align: top;\n",
       "    }\n",
       "\n",
       "    .dataframe thead th {\n",
       "        text-align: right;\n",
       "    }\n",
       "</style>\n",
       "<table border=\"1\" class=\"dataframe\">\n",
       "  <thead>\n",
       "    <tr style=\"text-align: right;\">\n",
       "      <th></th>\n",
       "      <th>slice_file_name</th>\n",
       "      <th>fsID</th>\n",
       "      <th>start</th>\n",
       "      <th>end</th>\n",
       "      <th>salience</th>\n",
       "      <th>fold</th>\n",
       "      <th>classID</th>\n",
       "      <th>class</th>\n",
       "    </tr>\n",
       "  </thead>\n",
       "  <tbody>\n",
       "    <tr>\n",
       "      <th>0</th>\n",
       "      <td>100032-3-0-0.wav</td>\n",
       "      <td>100032</td>\n",
       "      <td>0.0</td>\n",
       "      <td>0.317551</td>\n",
       "      <td>1</td>\n",
       "      <td>5</td>\n",
       "      <td>3</td>\n",
       "      <td>dog_bark</td>\n",
       "    </tr>\n",
       "    <tr>\n",
       "      <th>1</th>\n",
       "      <td>100263-2-0-117.wav</td>\n",
       "      <td>100263</td>\n",
       "      <td>58.5</td>\n",
       "      <td>62.500000</td>\n",
       "      <td>1</td>\n",
       "      <td>5</td>\n",
       "      <td>2</td>\n",
       "      <td>children_playing</td>\n",
       "    </tr>\n",
       "    <tr>\n",
       "      <th>2</th>\n",
       "      <td>100263-2-0-121.wav</td>\n",
       "      <td>100263</td>\n",
       "      <td>60.5</td>\n",
       "      <td>64.500000</td>\n",
       "      <td>1</td>\n",
       "      <td>5</td>\n",
       "      <td>2</td>\n",
       "      <td>children_playing</td>\n",
       "    </tr>\n",
       "    <tr>\n",
       "      <th>3</th>\n",
       "      <td>100263-2-0-126.wav</td>\n",
       "      <td>100263</td>\n",
       "      <td>63.0</td>\n",
       "      <td>67.000000</td>\n",
       "      <td>1</td>\n",
       "      <td>5</td>\n",
       "      <td>2</td>\n",
       "      <td>children_playing</td>\n",
       "    </tr>\n",
       "    <tr>\n",
       "      <th>4</th>\n",
       "      <td>100263-2-0-137.wav</td>\n",
       "      <td>100263</td>\n",
       "      <td>68.5</td>\n",
       "      <td>72.500000</td>\n",
       "      <td>1</td>\n",
       "      <td>5</td>\n",
       "      <td>2</td>\n",
       "      <td>children_playing</td>\n",
       "    </tr>\n",
       "  </tbody>\n",
       "</table>\n",
       "</div>"
      ],
      "text/plain": [
       "      slice_file_name    fsID  start        end  salience  fold  classID  \\\n",
       "0    100032-3-0-0.wav  100032    0.0   0.317551         1     5        3   \n",
       "1  100263-2-0-117.wav  100263   58.5  62.500000         1     5        2   \n",
       "2  100263-2-0-121.wav  100263   60.5  64.500000         1     5        2   \n",
       "3  100263-2-0-126.wav  100263   63.0  67.000000         1     5        2   \n",
       "4  100263-2-0-137.wav  100263   68.5  72.500000         1     5        2   \n",
       "\n",
       "              class  \n",
       "0          dog_bark  \n",
       "1  children_playing  \n",
       "2  children_playing  \n",
       "3  children_playing  \n",
       "4  children_playing  "
      ]
     },
     "execution_count": 41,
     "metadata": {},
     "output_type": "execute_result"
    }
   ],
   "source": [
    "### Extracting MFCC'S for every audio file\n",
    "import pandas as pd\n",
    "import os\n",
    "import librosa\n",
    "\n",
    "audio_dataset_path = 'data\\\\raw'\n",
    "csv_path = r\"C:\\Users\\yasba\\OneDrive\\Documents\\Projects\\Audio_Classification_UrbanSound8K\\data\\UrbanSound8K.csv\"\n",
    "metadata = pd.read_csv(csv_path)\n",
    "metadata.head()"
   ]
  },
  {
   "cell_type": "code",
   "execution_count": 42,
   "id": "09980971-9ca3-4ab5-b016-3db6dbbf30d3",
   "metadata": {},
   "outputs": [
    {
     "data": {
      "text/plain": [
       "(10,)"
      ]
     },
     "execution_count": 42,
     "metadata": {},
     "output_type": "execute_result"
    }
   ],
   "source": [
    "metadata[\"class\"].unique().shape"
   ]
  },
  {
   "cell_type": "code",
   "execution_count": 43,
   "id": "c4f16751",
   "metadata": {},
   "outputs": [],
   "source": [
    "import numpy as np"
   ]
  },
  {
   "cell_type": "code",
   "execution_count": 44,
   "id": "782160e6-0e99-493d-ad41-06e9eb130f00",
   "metadata": {},
   "outputs": [],
   "source": [
    "def feature_extractor(file_name):\n",
    "    audio, sample_rate = librosa.load(file_name)\n",
    "    mfccs_features = librosa.feature.mfcc(y=audio, sr=sample_rate, n_mfcc=40)\n",
    "    mfccs_scaled_features = np.mean(mfccs_features.T, axis=0)\n",
    "\n",
    "    return mfccs_scaled_features"
   ]
  },
  {
   "cell_type": "code",
   "execution_count": 45,
   "id": "99798aee-51bf-4e9c-80e5-39272d554d3b",
   "metadata": {},
   "outputs": [
    {
     "name": "stderr",
     "output_type": "stream",
     "text": [
      "3554it [00:54, 66.23it/s] c:\\Users\\yasba\\OneDrive\\Documents\\Projects\\Audio_Classification_UrbanSound8K\\venv\\lib\\site-packages\\librosa\\core\\spectrum.py:266: UserWarning: n_fft=2048 is too large for input signal of length=1323\n",
      "  warnings.warn(\n",
      "8320it [02:04, 86.05it/s] c:\\Users\\yasba\\OneDrive\\Documents\\Projects\\Audio_Classification_UrbanSound8K\\venv\\lib\\site-packages\\librosa\\core\\spectrum.py:266: UserWarning: n_fft=2048 is too large for input signal of length=1103\n",
      "  warnings.warn(\n",
      "c:\\Users\\yasba\\OneDrive\\Documents\\Projects\\Audio_Classification_UrbanSound8K\\venv\\lib\\site-packages\\librosa\\core\\spectrum.py:266: UserWarning: n_fft=2048 is too large for input signal of length=1523\n",
      "  warnings.warn(\n",
      "8732it [02:09, 67.28it/s]\n"
     ]
    }
   ],
   "source": [
    "import numpy as np\n",
    "from tqdm import tqdm\n",
    "## Now we iterate through every audio file and extract features\n",
    "## using Mel-Frequency Cepstral Coefficients\n",
    "## C:\\Users\\yasba\\OneDrive\\Documents\\Projects\\Audio_Classification_UrbanSound8K\\data\\raw\\fold1\\7061-6-0-0.wav\n",
    "extracted_features = []\n",
    "for index_num, row in tqdm(metadata.iterrows()):\n",
    "    file_name = str(os.path.join(os.path.abspath(audio_dataset_path), f'fold{row[\"fold\"]}', row[\"slice_file_name\"]))\n",
    "    final_class_labels = row[\"class\"]\n",
    "    data = feature_extractor(file_name)\n",
    "    extracted_features.append([data, final_class_labels])"
   ]
  },
  {
   "cell_type": "code",
   "execution_count": 46,
   "id": "7cb024c2-469c-4f01-af2a-1103badcb039",
   "metadata": {},
   "outputs": [
    {
     "data": {
      "text/html": [
       "<div>\n",
       "<style scoped>\n",
       "    .dataframe tbody tr th:only-of-type {\n",
       "        vertical-align: middle;\n",
       "    }\n",
       "\n",
       "    .dataframe tbody tr th {\n",
       "        vertical-align: top;\n",
       "    }\n",
       "\n",
       "    .dataframe thead th {\n",
       "        text-align: right;\n",
       "    }\n",
       "</style>\n",
       "<table border=\"1\" class=\"dataframe\">\n",
       "  <thead>\n",
       "    <tr style=\"text-align: right;\">\n",
       "      <th></th>\n",
       "      <th>Features</th>\n",
       "      <th>Class</th>\n",
       "    </tr>\n",
       "  </thead>\n",
       "  <tbody>\n",
       "    <tr>\n",
       "      <th>0</th>\n",
       "      <td>[-211.93698, 62.581203, -122.81315, -60.745293...</td>\n",
       "      <td>dog_bark</td>\n",
       "    </tr>\n",
       "    <tr>\n",
       "      <th>1</th>\n",
       "      <td>[-417.0052, 99.336624, -42.995586, 51.073326, ...</td>\n",
       "      <td>children_playing</td>\n",
       "    </tr>\n",
       "    <tr>\n",
       "      <th>2</th>\n",
       "      <td>[-452.39316, 112.36253, -37.578068, 43.195866,...</td>\n",
       "      <td>children_playing</td>\n",
       "    </tr>\n",
       "    <tr>\n",
       "      <th>3</th>\n",
       "      <td>[-406.47922, 91.1966, -25.043558, 42.78452, 11...</td>\n",
       "      <td>children_playing</td>\n",
       "    </tr>\n",
       "    <tr>\n",
       "      <th>4</th>\n",
       "      <td>[-439.63873, 103.86224, -42.658787, 50.690277,...</td>\n",
       "      <td>children_playing</td>\n",
       "    </tr>\n",
       "  </tbody>\n",
       "</table>\n",
       "</div>"
      ],
      "text/plain": [
       "                                            Features             Class\n",
       "0  [-211.93698, 62.581203, -122.81315, -60.745293...          dog_bark\n",
       "1  [-417.0052, 99.336624, -42.995586, 51.073326, ...  children_playing\n",
       "2  [-452.39316, 112.36253, -37.578068, 43.195866,...  children_playing\n",
       "3  [-406.47922, 91.1966, -25.043558, 42.78452, 11...  children_playing\n",
       "4  [-439.63873, 103.86224, -42.658787, 50.690277,...  children_playing"
      ]
     },
     "execution_count": 46,
     "metadata": {},
     "output_type": "execute_result"
    }
   ],
   "source": [
    "extracted_features_df = pd.DataFrame(extracted_features, columns=[\"Features\",\"Class\"])\n",
    "extracted_features_df.head()"
   ]
  },
  {
   "cell_type": "code",
   "execution_count": 47,
   "id": "587df2f7-5744-4e91-b783-9b50cf717c72",
   "metadata": {},
   "outputs": [],
   "source": [
    "## Split the dataset into independent and dependent dataset\n",
    "X = np.array(extracted_features_df[\"Features\"].tolist())\n",
    "y = np.array(extracted_features_df[\"Class\"].tolist())"
   ]
  },
  {
   "cell_type": "code",
   "execution_count": 48,
   "id": "d5213cc3-aa3c-462b-ba2d-79ce963a083d",
   "metadata": {},
   "outputs": [
    {
     "data": {
      "text/plain": [
       "((8732, 40), (8732,))"
      ]
     },
     "execution_count": 48,
     "metadata": {},
     "output_type": "execute_result"
    }
   ],
   "source": [
    "X.shape, y.shape"
   ]
  },
  {
   "cell_type": "code",
   "execution_count": 49,
   "id": "b8ffdb63-3d01-4839-bc4d-7dab56bffda0",
   "metadata": {},
   "outputs": [
    {
     "data": {
      "text/plain": [
       "(8732,)"
      ]
     },
     "execution_count": 49,
     "metadata": {},
     "output_type": "execute_result"
    }
   ],
   "source": [
    "## Label Encoding \n",
    "from sklearn.preprocessing import LabelEncoder\n",
    "le = LabelEncoder()\n",
    "y = le.fit_transform(y)\n",
    "y.shape"
   ]
  },
  {
   "cell_type": "code",
   "execution_count": 50,
   "id": "ee698446-b2e1-41ac-8eda-31b56e601800",
   "metadata": {},
   "outputs": [],
   "source": [
    "## Train test Splitting\n",
    "from sklearn.model_selection import train_test_split\n",
    "X_train, X_test, y_train, y_test = train_test_split(X,y,test_size=0.2,random_state=42)"
   ]
  },
  {
   "cell_type": "code",
   "execution_count": 51,
   "id": "ba0595b4-65f0-4f01-b1a9-9811731952d7",
   "metadata": {},
   "outputs": [
    {
     "data": {
      "text/plain": [
       "((6985, 40), (1747, 40), (6985,), (1747,))"
      ]
     },
     "execution_count": 51,
     "metadata": {},
     "output_type": "execute_result"
    }
   ],
   "source": [
    "X_train.shape, X_test.shape, y_train.shape, y_test.shape"
   ]
  },
  {
   "cell_type": "markdown",
   "id": "65aa499f-7eab-4dd0-bb21-b0100a96c141",
   "metadata": {},
   "source": [
    "# Model Creation"
   ]
  },
  {
   "cell_type": "code",
   "execution_count": 52,
   "id": "eb239885-6278-4e2e-8d71-133a3786b27a",
   "metadata": {},
   "outputs": [],
   "source": [
    "import tensorflow as tf"
   ]
  },
  {
   "cell_type": "code",
   "execution_count": 53,
   "id": "f01dc5bd-5e98-4215-9896-47321810bd7d",
   "metadata": {},
   "outputs": [],
   "source": [
    "from tensorflow.keras.models import Sequential\n",
    "from tensorflow.keras.layers import Dense, Dropout, Activation, Flatten\n",
    "from tensorflow.keras.optimizers import Adam\n",
    "from sklearn import metrics"
   ]
  },
  {
   "cell_type": "code",
   "execution_count": 54,
   "id": "91955130-cd81-4468-ae6c-59bc24136bac",
   "metadata": {},
   "outputs": [],
   "source": [
    "import warnings\n",
    "warnings.filterwarnings(\"ignore\")\n",
    "model = Sequential()\n",
    "\n",
    "## First Layer\n",
    "model.add(Dense(100,input_shape=(40,)))\n",
    "model.add(Activation(\"relu\"))\n",
    "model.add(Dropout(0.5))\n",
    "\n",
    "## Second Layer\n",
    "model.add(Dense(200))\n",
    "model.add(Activation('relu'))\n",
    "model.add(Dropout(0.5))\n",
    "\n",
    "## Third Layer\n",
    "model.add(Dense(100))\n",
    "model.add(Activation('relu'))\n",
    "model.add(Dropout(0.5))\n",
    "\n",
    "## Final Layer\n",
    "model.add(Dense(10))\n",
    "model.add(Activation(\"softmax\"))"
   ]
  },
  {
   "cell_type": "code",
   "execution_count": 55,
   "id": "ad7c1d23-2000-4c9a-a173-98ba7ec8840f",
   "metadata": {},
   "outputs": [
    {
     "name": "stdout",
     "output_type": "stream",
     "text": [
      "Model: \"sequential\"\n",
      "_________________________________________________________________\n",
      " Layer (type)                Output Shape              Param #   \n",
      "=================================================================\n",
      " dense (Dense)               (None, 100)               4100      \n",
      "                                                                 \n",
      " activation (Activation)     (None, 100)               0         \n",
      "                                                                 \n",
      " dropout (Dropout)           (None, 100)               0         \n",
      "                                                                 \n",
      " dense_1 (Dense)             (None, 200)               20200     \n",
      "                                                                 \n",
      " activation_1 (Activation)   (None, 200)               0         \n",
      "                                                                 \n",
      " dropout_1 (Dropout)         (None, 200)               0         \n",
      "                                                                 \n",
      " dense_2 (Dense)             (None, 100)               20100     \n",
      "                                                                 \n",
      " activation_2 (Activation)   (None, 100)               0         \n",
      "                                                                 \n",
      " dropout_2 (Dropout)         (None, 100)               0         \n",
      "                                                                 \n",
      " dense_3 (Dense)             (None, 10)                1010      \n",
      "                                                                 \n",
      " activation_3 (Activation)   (None, 10)                0         \n",
      "                                                                 \n",
      "=================================================================\n",
      "Total params: 45410 (177.38 KB)\n",
      "Trainable params: 45410 (177.38 KB)\n",
      "Non-trainable params: 0 (0.00 Byte)\n",
      "_________________________________________________________________\n"
     ]
    }
   ],
   "source": [
    "model.summary()"
   ]
  },
  {
   "cell_type": "code",
   "execution_count": 56,
   "id": "114e7234-19c4-46f6-a062-417bff445a09",
   "metadata": {},
   "outputs": [],
   "source": [
    "model.compile(loss='sparse_categorical_crossentropy', optimizer='adam', metrics=['accuracy'])\n",
    "## Use categorical_crossentropy if the target variable is label encoded\n",
    "## Else use sparse_categorical_crossentropy if target variable is onehot encode or other format"
   ]
  },
  {
   "cell_type": "code",
   "execution_count": 75,
   "id": "fa2dbac7-872d-4fa0-bc1b-858bde133cc4",
   "metadata": {},
   "outputs": [
    {
     "name": "stdout",
     "output_type": "stream",
     "text": [
      "Epoch 1/100\n",
      "202/219 [==========================>...] - ETA: 0s - loss: 0.9311 - accuracy: 0.6860\n",
      "Epoch 1: val_loss improved from inf to 0.70274, saving model to saved_models\\audio_classification.h5\n",
      "219/219 [==============================] - 1s 3ms/step - loss: 0.9432 - accuracy: 0.6827 - val_loss: 0.7027 - val_accuracy: 0.7790\n",
      "Epoch 2/100\n",
      "208/219 [===========================>..] - ETA: 0s - loss: 0.9379 - accuracy: 0.6789\n",
      "Epoch 2: val_loss improved from 0.70274 to 0.69517, saving model to saved_models\\audio_classification.h5\n",
      "219/219 [==============================] - 1s 3ms/step - loss: 0.9414 - accuracy: 0.6775 - val_loss: 0.6952 - val_accuracy: 0.7745\n",
      "Epoch 3/100\n",
      "216/219 [============================>.] - ETA: 0s - loss: 0.9605 - accuracy: 0.6795\n",
      "Epoch 3: val_loss did not improve from 0.69517\n",
      "219/219 [==============================] - 1s 3ms/step - loss: 0.9582 - accuracy: 0.6802 - val_loss: 0.7435 - val_accuracy: 0.7802\n",
      "Epoch 4/100\n",
      "206/219 [===========================>..] - ETA: 0s - loss: 0.9533 - accuracy: 0.6742\n",
      "Epoch 4: val_loss did not improve from 0.69517\n",
      "219/219 [==============================] - 1s 3ms/step - loss: 0.9518 - accuracy: 0.6750 - val_loss: 0.7224 - val_accuracy: 0.7716\n",
      "Epoch 5/100\n",
      "206/219 [===========================>..] - ETA: 0s - loss: 0.9449 - accuracy: 0.6873\n",
      "Epoch 5: val_loss improved from 0.69517 to 0.69390, saving model to saved_models\\audio_classification.h5\n",
      "219/219 [==============================] - 1s 3ms/step - loss: 0.9436 - accuracy: 0.6882 - val_loss: 0.6939 - val_accuracy: 0.7773\n",
      "Epoch 6/100\n",
      "213/219 [============================>.] - ETA: 0s - loss: 0.9422 - accuracy: 0.6822\n",
      "Epoch 6: val_loss improved from 0.69390 to 0.68913, saving model to saved_models\\audio_classification.h5\n",
      "219/219 [==============================] - 1s 3ms/step - loss: 0.9442 - accuracy: 0.6805 - val_loss: 0.6891 - val_accuracy: 0.7750\n",
      "Epoch 7/100\n",
      "192/219 [=========================>....] - ETA: 0s - loss: 0.9261 - accuracy: 0.6862\n",
      "Epoch 7: val_loss did not improve from 0.68913\n",
      "219/219 [==============================] - 1s 3ms/step - loss: 0.9282 - accuracy: 0.6869 - val_loss: 0.7065 - val_accuracy: 0.7779\n",
      "Epoch 8/100\n",
      "207/219 [===========================>..] - ETA: 0s - loss: 0.9329 - accuracy: 0.6858\n",
      "Epoch 8: val_loss did not improve from 0.68913\n",
      "219/219 [==============================] - 1s 2ms/step - loss: 0.9352 - accuracy: 0.6846 - val_loss: 0.7032 - val_accuracy: 0.7670\n",
      "Epoch 9/100\n",
      "218/219 [============================>.] - ETA: 0s - loss: 0.9441 - accuracy: 0.6864\n",
      "Epoch 9: val_loss did not improve from 0.68913\n",
      "219/219 [==============================] - 1s 3ms/step - loss: 0.9436 - accuracy: 0.6865 - val_loss: 0.6902 - val_accuracy: 0.7796\n",
      "Epoch 10/100\n",
      "215/219 [============================>.] - ETA: 0s - loss: 0.9469 - accuracy: 0.6871\n",
      "Epoch 10: val_loss did not improve from 0.68913\n",
      "219/219 [==============================] - 1s 3ms/step - loss: 0.9467 - accuracy: 0.6862 - val_loss: 0.7331 - val_accuracy: 0.7642\n",
      "Epoch 11/100\n",
      "199/219 [==========================>...] - ETA: 0s - loss: 0.9607 - accuracy: 0.6792\n",
      "Epoch 11: val_loss improved from 0.68913 to 0.68743, saving model to saved_models\\audio_classification.h5\n",
      "219/219 [==============================] - 1s 2ms/step - loss: 0.9539 - accuracy: 0.6800 - val_loss: 0.6874 - val_accuracy: 0.7865\n",
      "Epoch 12/100\n",
      "197/219 [=========================>....] - ETA: 0s - loss: 0.9307 - accuracy: 0.6881\n",
      "Epoch 12: val_loss did not improve from 0.68743\n",
      "219/219 [==============================] - 1s 3ms/step - loss: 0.9340 - accuracy: 0.6880 - val_loss: 0.7115 - val_accuracy: 0.7676\n",
      "Epoch 13/100\n",
      "214/219 [============================>.] - ETA: 0s - loss: 0.9189 - accuracy: 0.6852\n",
      "Epoch 13: val_loss improved from 0.68743 to 0.68197, saving model to saved_models\\audio_classification.h5\n",
      "219/219 [==============================] - 1s 3ms/step - loss: 0.9191 - accuracy: 0.6856 - val_loss: 0.6820 - val_accuracy: 0.7831\n",
      "Epoch 14/100\n",
      "215/219 [============================>.] - ETA: 0s - loss: 0.9287 - accuracy: 0.6869\n",
      "Epoch 14: val_loss did not improve from 0.68197\n",
      "219/219 [==============================] - 1s 3ms/step - loss: 0.9293 - accuracy: 0.6865 - val_loss: 0.6941 - val_accuracy: 0.7819\n",
      "Epoch 15/100\n",
      "216/219 [============================>.] - ETA: 0s - loss: 0.9413 - accuracy: 0.6824\n",
      "Epoch 15: val_loss did not improve from 0.68197\n",
      "219/219 [==============================] - 1s 2ms/step - loss: 0.9419 - accuracy: 0.6825 - val_loss: 0.6832 - val_accuracy: 0.7922\n",
      "Epoch 16/100\n",
      "210/219 [===========================>..] - ETA: 0s - loss: 0.9428 - accuracy: 0.6871\n",
      "Epoch 16: val_loss did not improve from 0.68197\n",
      "219/219 [==============================] - 1s 3ms/step - loss: 0.9453 - accuracy: 0.6866 - val_loss: 0.6854 - val_accuracy: 0.7831\n",
      "Epoch 17/100\n",
      "211/219 [===========================>..] - ETA: 0s - loss: 0.9382 - accuracy: 0.6841\n",
      "Epoch 17: val_loss improved from 0.68197 to 0.67144, saving model to saved_models\\audio_classification.h5\n",
      "219/219 [==============================] - 1s 3ms/step - loss: 0.9409 - accuracy: 0.6833 - val_loss: 0.6714 - val_accuracy: 0.7865\n",
      "Epoch 18/100\n",
      "219/219 [==============================] - ETA: 0s - loss: 0.9220 - accuracy: 0.6932\n",
      "Epoch 18: val_loss did not improve from 0.67144\n",
      "219/219 [==============================] - 1s 3ms/step - loss: 0.9220 - accuracy: 0.6932 - val_loss: 0.6926 - val_accuracy: 0.7859\n",
      "Epoch 19/100\n",
      "194/219 [=========================>....] - ETA: 0s - loss: 0.9331 - accuracy: 0.6844\n",
      "Epoch 19: val_loss did not improve from 0.67144\n",
      "219/219 [==============================] - 1s 2ms/step - loss: 0.9293 - accuracy: 0.6865 - val_loss: 0.6745 - val_accuracy: 0.8008\n",
      "Epoch 20/100\n",
      "215/219 [============================>.] - ETA: 0s - loss: 0.9240 - accuracy: 0.6881\n",
      "Epoch 20: val_loss did not improve from 0.67144\n",
      "219/219 [==============================] - 1s 3ms/step - loss: 0.9241 - accuracy: 0.6883 - val_loss: 0.6828 - val_accuracy: 0.7876\n",
      "Epoch 21/100\n",
      "210/219 [===========================>..] - ETA: 0s - loss: 0.9357 - accuracy: 0.6833\n",
      "Epoch 21: val_loss did not improve from 0.67144\n",
      "219/219 [==============================] - 1s 2ms/step - loss: 0.9302 - accuracy: 0.6858 - val_loss: 0.6910 - val_accuracy: 0.7865\n",
      "Epoch 22/100\n",
      "207/219 [===========================>..] - ETA: 0s - loss: 0.9190 - accuracy: 0.6929\n",
      "Epoch 22: val_loss did not improve from 0.67144\n",
      "219/219 [==============================] - 1s 3ms/step - loss: 0.9128 - accuracy: 0.6958 - val_loss: 0.6775 - val_accuracy: 0.7899\n",
      "Epoch 23/100\n",
      "218/219 [============================>.] - ETA: 0s - loss: 0.9275 - accuracy: 0.6908\n",
      "Epoch 23: val_loss did not improve from 0.67144\n",
      "219/219 [==============================] - 1s 3ms/step - loss: 0.9268 - accuracy: 0.6911 - val_loss: 0.6964 - val_accuracy: 0.7836\n",
      "Epoch 24/100\n",
      "199/219 [==========================>...] - ETA: 0s - loss: 0.9431 - accuracy: 0.6847\n",
      "Epoch 24: val_loss did not improve from 0.67144\n",
      "219/219 [==============================] - 1s 2ms/step - loss: 0.9428 - accuracy: 0.6840 - val_loss: 0.6854 - val_accuracy: 0.7911\n",
      "Epoch 25/100\n",
      "197/219 [=========================>....] - ETA: 0s - loss: 0.9158 - accuracy: 0.6924\n",
      "Epoch 25: val_loss did not improve from 0.67144\n",
      "219/219 [==============================] - 1s 2ms/step - loss: 0.9115 - accuracy: 0.6943 - val_loss: 0.6965 - val_accuracy: 0.7836\n",
      "Epoch 26/100\n",
      "201/219 [==========================>...] - ETA: 0s - loss: 0.9192 - accuracy: 0.6933\n",
      "Epoch 26: val_loss did not improve from 0.67144\n",
      "219/219 [==============================] - 1s 3ms/step - loss: 0.9235 - accuracy: 0.6915 - val_loss: 0.6715 - val_accuracy: 0.7888\n",
      "Epoch 27/100\n",
      "214/219 [============================>.] - ETA: 0s - loss: 0.9221 - accuracy: 0.6901\n",
      "Epoch 27: val_loss did not improve from 0.67144\n",
      "219/219 [==============================] - 1s 3ms/step - loss: 0.9239 - accuracy: 0.6899 - val_loss: 0.6900 - val_accuracy: 0.7762\n",
      "Epoch 28/100\n",
      "211/219 [===========================>..] - ETA: 0s - loss: 0.9095 - accuracy: 0.6902\n",
      "Epoch 28: val_loss improved from 0.67144 to 0.67046, saving model to saved_models\\audio_classification.h5\n",
      "219/219 [==============================] - 1s 2ms/step - loss: 0.9123 - accuracy: 0.6905 - val_loss: 0.6705 - val_accuracy: 0.8002\n",
      "Epoch 29/100\n",
      "216/219 [============================>.] - ETA: 0s - loss: 0.9068 - accuracy: 0.6953\n",
      "Epoch 29: val_loss did not improve from 0.67046\n",
      "219/219 [==============================] - 1s 3ms/step - loss: 0.9079 - accuracy: 0.6949 - val_loss: 0.6845 - val_accuracy: 0.7848\n",
      "Epoch 30/100\n",
      "205/219 [===========================>..] - ETA: 0s - loss: 0.9104 - accuracy: 0.6860\n",
      "Epoch 30: val_loss did not improve from 0.67046\n",
      "219/219 [==============================] - 1s 3ms/step - loss: 0.9119 - accuracy: 0.6863 - val_loss: 0.6868 - val_accuracy: 0.7790\n",
      "Epoch 31/100\n",
      "211/219 [===========================>..] - ETA: 0s - loss: 0.9075 - accuracy: 0.6925\n",
      "Epoch 31: val_loss improved from 0.67046 to 0.65930, saving model to saved_models\\audio_classification.h5\n",
      "219/219 [==============================] - 1s 3ms/step - loss: 0.9100 - accuracy: 0.6919 - val_loss: 0.6593 - val_accuracy: 0.7865\n",
      "Epoch 32/100\n",
      "203/219 [==========================>...] - ETA: 0s - loss: 0.9131 - accuracy: 0.6933\n",
      "Epoch 32: val_loss did not improve from 0.65930\n",
      "219/219 [==============================] - 1s 3ms/step - loss: 0.9135 - accuracy: 0.6923 - val_loss: 0.6765 - val_accuracy: 0.7916\n",
      "Epoch 33/100\n",
      "214/219 [============================>.] - ETA: 0s - loss: 0.8990 - accuracy: 0.7028\n",
      "Epoch 33: val_loss did not improve from 0.65930\n",
      "219/219 [==============================] - 1s 3ms/step - loss: 0.8999 - accuracy: 0.7019 - val_loss: 0.6958 - val_accuracy: 0.7888\n",
      "Epoch 34/100\n",
      "208/219 [===========================>..] - ETA: 0s - loss: 0.9302 - accuracy: 0.6864\n",
      "Epoch 34: val_loss did not improve from 0.65930\n",
      "219/219 [==============================] - 1s 4ms/step - loss: 0.9249 - accuracy: 0.6883 - val_loss: 0.6642 - val_accuracy: 0.7939\n",
      "Epoch 35/100\n",
      "204/219 [==========================>...] - ETA: 0s - loss: 0.9191 - accuracy: 0.6936\n",
      "Epoch 35: val_loss improved from 0.65930 to 0.64929, saving model to saved_models\\audio_classification.h5\n",
      "219/219 [==============================] - 1s 4ms/step - loss: 0.9157 - accuracy: 0.6942 - val_loss: 0.6493 - val_accuracy: 0.7956\n",
      "Epoch 36/100\n",
      "211/219 [===========================>..] - ETA: 0s - loss: 0.9018 - accuracy: 0.6979\n",
      "Epoch 36: val_loss did not improve from 0.64929\n",
      "219/219 [==============================] - 1s 4ms/step - loss: 0.9024 - accuracy: 0.6986 - val_loss: 0.6663 - val_accuracy: 0.7934\n",
      "Epoch 37/100\n",
      "203/219 [==========================>...] - ETA: 0s - loss: 0.8919 - accuracy: 0.6960\n",
      "Epoch 37: val_loss did not improve from 0.64929\n",
      "219/219 [==============================] - 1s 2ms/step - loss: 0.8925 - accuracy: 0.6969 - val_loss: 0.6550 - val_accuracy: 0.7951\n",
      "Epoch 38/100\n",
      "200/219 [==========================>...] - ETA: 0s - loss: 0.9030 - accuracy: 0.7011\n",
      "Epoch 38: val_loss did not improve from 0.64929\n",
      "219/219 [==============================] - 1s 2ms/step - loss: 0.9063 - accuracy: 0.7009 - val_loss: 0.6604 - val_accuracy: 0.7974\n",
      "Epoch 39/100\n",
      "195/219 [=========================>....] - ETA: 0s - loss: 0.9218 - accuracy: 0.6894\n",
      "Epoch 39: val_loss did not improve from 0.64929\n",
      "219/219 [==============================] - 1s 3ms/step - loss: 0.9247 - accuracy: 0.6899 - val_loss: 0.6927 - val_accuracy: 0.7796\n",
      "Epoch 40/100\n",
      "204/219 [==========================>...] - ETA: 0s - loss: 0.9135 - accuracy: 0.6947\n",
      "Epoch 40: val_loss did not improve from 0.64929\n",
      "219/219 [==============================] - 1s 3ms/step - loss: 0.9130 - accuracy: 0.6952 - val_loss: 0.6545 - val_accuracy: 0.7974\n",
      "Epoch 41/100\n",
      "211/219 [===========================>..] - ETA: 0s - loss: 0.9031 - accuracy: 0.6999\n",
      "Epoch 41: val_loss did not improve from 0.64929\n",
      "219/219 [==============================] - 1s 2ms/step - loss: 0.9012 - accuracy: 0.6995 - val_loss: 0.6648 - val_accuracy: 0.7894\n",
      "Epoch 42/100\n",
      "203/219 [==========================>...] - ETA: 0s - loss: 0.8830 - accuracy: 0.7027\n",
      "Epoch 42: val_loss did not improve from 0.64929\n",
      "219/219 [==============================] - 1s 3ms/step - loss: 0.8873 - accuracy: 0.7034 - val_loss: 0.6682 - val_accuracy: 0.7962\n",
      "Epoch 43/100\n",
      "214/219 [============================>.] - ETA: 0s - loss: 0.9062 - accuracy: 0.6966\n",
      "Epoch 43: val_loss did not improve from 0.64929\n",
      "219/219 [==============================] - 1s 2ms/step - loss: 0.9054 - accuracy: 0.6971 - val_loss: 0.6734 - val_accuracy: 0.7756\n",
      "Epoch 44/100\n",
      "201/219 [==========================>...] - ETA: 0s - loss: 0.9190 - accuracy: 0.6867\n",
      "Epoch 44: val_loss did not improve from 0.64929\n",
      "219/219 [==============================] - 1s 3ms/step - loss: 0.9174 - accuracy: 0.6885 - val_loss: 0.6775 - val_accuracy: 0.7899\n",
      "Epoch 45/100\n",
      "219/219 [==============================] - ETA: 0s - loss: 0.8994 - accuracy: 0.7019\n",
      "Epoch 45: val_loss did not improve from 0.64929\n",
      "219/219 [==============================] - 1s 3ms/step - loss: 0.8994 - accuracy: 0.7019 - val_loss: 0.6674 - val_accuracy: 0.7813\n",
      "Epoch 46/100\n",
      "202/219 [==========================>...] - ETA: 0s - loss: 0.9206 - accuracy: 0.6901\n",
      "Epoch 46: val_loss did not improve from 0.64929\n",
      "219/219 [==============================] - 1s 2ms/step - loss: 0.9175 - accuracy: 0.6921 - val_loss: 0.6601 - val_accuracy: 0.7853\n",
      "Epoch 47/100\n",
      "207/219 [===========================>..] - ETA: 0s - loss: 0.9082 - accuracy: 0.7027\n",
      "Epoch 47: val_loss did not improve from 0.64929\n",
      "219/219 [==============================] - 1s 2ms/step - loss: 0.9056 - accuracy: 0.7031 - val_loss: 0.6563 - val_accuracy: 0.7951\n",
      "Epoch 48/100\n",
      "202/219 [==========================>...] - ETA: 0s - loss: 0.8722 - accuracy: 0.7090\n",
      "Epoch 48: val_loss did not improve from 0.64929\n",
      "219/219 [==============================] - 1s 2ms/step - loss: 0.8832 - accuracy: 0.7068 - val_loss: 0.6619 - val_accuracy: 0.7819\n",
      "Epoch 49/100\n",
      "216/219 [============================>.] - ETA: 0s - loss: 0.9002 - accuracy: 0.6944\n",
      "Epoch 49: val_loss did not improve from 0.64929\n",
      "219/219 [==============================] - 1s 3ms/step - loss: 0.8984 - accuracy: 0.6951 - val_loss: 0.6529 - val_accuracy: 0.7974\n",
      "Epoch 50/100\n",
      "199/219 [==========================>...] - ETA: 0s - loss: 0.9023 - accuracy: 0.6979\n",
      "Epoch 50: val_loss did not improve from 0.64929\n",
      "219/219 [==============================] - 1s 2ms/step - loss: 0.9005 - accuracy: 0.6988 - val_loss: 0.6548 - val_accuracy: 0.7865\n",
      "Epoch 51/100\n",
      "216/219 [============================>.] - ETA: 0s - loss: 0.8950 - accuracy: 0.7008\n",
      "Epoch 51: val_loss improved from 0.64929 to 0.64779, saving model to saved_models\\audio_classification.h5\n",
      "219/219 [==============================] - 1s 3ms/step - loss: 0.8962 - accuracy: 0.7002 - val_loss: 0.6478 - val_accuracy: 0.7962\n",
      "Epoch 52/100\n",
      "207/219 [===========================>..] - ETA: 0s - loss: 0.8749 - accuracy: 0.7023\n",
      "Epoch 52: val_loss improved from 0.64779 to 0.63985, saving model to saved_models\\audio_classification.h5\n",
      "219/219 [==============================] - 1s 3ms/step - loss: 0.8774 - accuracy: 0.7014 - val_loss: 0.6399 - val_accuracy: 0.8002\n",
      "Epoch 53/100\n",
      "194/219 [=========================>....] - ETA: 0s - loss: 0.9119 - accuracy: 0.6918\n",
      "Epoch 53: val_loss did not improve from 0.63985\n",
      "219/219 [==============================] - 1s 3ms/step - loss: 0.8975 - accuracy: 0.6972 - val_loss: 0.6502 - val_accuracy: 0.8037\n",
      "Epoch 54/100\n",
      "206/219 [===========================>..] - ETA: 0s - loss: 0.8862 - accuracy: 0.7027\n",
      "Epoch 54: val_loss did not improve from 0.63985\n",
      "219/219 [==============================] - 1s 2ms/step - loss: 0.8887 - accuracy: 0.7018 - val_loss: 0.6700 - val_accuracy: 0.7853\n",
      "Epoch 55/100\n",
      "206/219 [===========================>..] - ETA: 0s - loss: 0.9086 - accuracy: 0.6972\n",
      "Epoch 55: val_loss did not improve from 0.63985\n",
      "219/219 [==============================] - 1s 3ms/step - loss: 0.9079 - accuracy: 0.6979 - val_loss: 0.6596 - val_accuracy: 0.8019\n",
      "Epoch 56/100\n",
      "199/219 [==========================>...] - ETA: 0s - loss: 0.9139 - accuracy: 0.6903\n",
      "Epoch 56: val_loss did not improve from 0.63985\n",
      "219/219 [==============================] - 1s 3ms/step - loss: 0.9092 - accuracy: 0.6925 - val_loss: 0.6569 - val_accuracy: 0.7945\n",
      "Epoch 57/100\n",
      "211/219 [===========================>..] - ETA: 0s - loss: 0.9167 - accuracy: 0.6919\n",
      "Epoch 57: val_loss did not improve from 0.63985\n",
      "219/219 [==============================] - 1s 3ms/step - loss: 0.9144 - accuracy: 0.6932 - val_loss: 0.6452 - val_accuracy: 0.7979\n",
      "Epoch 58/100\n",
      "210/219 [===========================>..] - ETA: 0s - loss: 0.9118 - accuracy: 0.6938\n",
      "Epoch 58: val_loss improved from 0.63985 to 0.63542, saving model to saved_models\\audio_classification.h5\n",
      "219/219 [==============================] - 1s 2ms/step - loss: 0.9097 - accuracy: 0.6938 - val_loss: 0.6354 - val_accuracy: 0.8077\n",
      "Epoch 59/100\n",
      "210/219 [===========================>..] - ETA: 0s - loss: 0.8734 - accuracy: 0.7089\n",
      "Epoch 59: val_loss improved from 0.63542 to 0.62002, saving model to saved_models\\audio_classification.h5\n",
      "219/219 [==============================] - 1s 3ms/step - loss: 0.8685 - accuracy: 0.7101 - val_loss: 0.6200 - val_accuracy: 0.7968\n",
      "Epoch 60/100\n",
      "208/219 [===========================>..] - ETA: 0s - loss: 0.9021 - accuracy: 0.7018\n",
      "Epoch 60: val_loss did not improve from 0.62002\n",
      "219/219 [==============================] - 1s 3ms/step - loss: 0.8991 - accuracy: 0.7022 - val_loss: 0.6479 - val_accuracy: 0.7974\n",
      "Epoch 61/100\n",
      "211/219 [===========================>..] - ETA: 0s - loss: 0.8660 - accuracy: 0.7063\n",
      "Epoch 61: val_loss did not improve from 0.62002\n",
      "219/219 [==============================] - 1s 3ms/step - loss: 0.8662 - accuracy: 0.7064 - val_loss: 0.6335 - val_accuracy: 0.7985\n",
      "Epoch 62/100\n",
      "215/219 [============================>.] - ETA: 0s - loss: 0.8831 - accuracy: 0.7042\n",
      "Epoch 62: val_loss did not improve from 0.62002\n",
      "219/219 [==============================] - 1s 3ms/step - loss: 0.8822 - accuracy: 0.7041 - val_loss: 0.6621 - val_accuracy: 0.7916\n",
      "Epoch 63/100\n",
      "204/219 [==========================>...] - ETA: 0s - loss: 0.8812 - accuracy: 0.7013\n",
      "Epoch 63: val_loss did not improve from 0.62002\n",
      "219/219 [==============================] - 1s 3ms/step - loss: 0.8852 - accuracy: 0.7002 - val_loss: 0.6464 - val_accuracy: 0.7985\n",
      "Epoch 64/100\n",
      "209/219 [===========================>..] - ETA: 0s - loss: 0.8856 - accuracy: 0.6920\n",
      "Epoch 64: val_loss did not improve from 0.62002\n",
      "219/219 [==============================] - 1s 3ms/step - loss: 0.8863 - accuracy: 0.6919 - val_loss: 0.6506 - val_accuracy: 0.7871\n",
      "Epoch 65/100\n",
      "200/219 [==========================>...] - ETA: 0s - loss: 0.9151 - accuracy: 0.6964\n",
      "Epoch 65: val_loss did not improve from 0.62002\n",
      "219/219 [==============================] - 1s 3ms/step - loss: 0.9071 - accuracy: 0.6971 - val_loss: 0.6545 - val_accuracy: 0.7951\n",
      "Epoch 66/100\n",
      "200/219 [==========================>...] - ETA: 0s - loss: 0.8867 - accuracy: 0.7059\n",
      "Epoch 66: val_loss did not improve from 0.62002\n",
      "219/219 [==============================] - 1s 3ms/step - loss: 0.8877 - accuracy: 0.7042 - val_loss: 0.6413 - val_accuracy: 0.7968\n",
      "Epoch 67/100\n",
      "210/219 [===========================>..] - ETA: 0s - loss: 0.8887 - accuracy: 0.6979\n",
      "Epoch 67: val_loss did not improve from 0.62002\n",
      "219/219 [==============================] - 1s 3ms/step - loss: 0.8886 - accuracy: 0.6975 - val_loss: 0.6411 - val_accuracy: 0.7945\n",
      "Epoch 68/100\n",
      "197/219 [=========================>....] - ETA: 0s - loss: 0.8898 - accuracy: 0.7037\n",
      "Epoch 68: val_loss did not improve from 0.62002\n",
      "219/219 [==============================] - 1s 3ms/step - loss: 0.8911 - accuracy: 0.7032 - val_loss: 0.6578 - val_accuracy: 0.7842\n",
      "Epoch 69/100\n",
      "212/219 [============================>.] - ETA: 0s - loss: 0.9043 - accuracy: 0.7000\n",
      "Epoch 69: val_loss did not improve from 0.62002\n",
      "219/219 [==============================] - 1s 3ms/step - loss: 0.9062 - accuracy: 0.7002 - val_loss: 0.6416 - val_accuracy: 0.7974\n",
      "Epoch 70/100\n",
      "209/219 [===========================>..] - ETA: 0s - loss: 0.8886 - accuracy: 0.7081\n",
      "Epoch 70: val_loss did not improve from 0.62002\n",
      "219/219 [==============================] - 1s 3ms/step - loss: 0.8921 - accuracy: 0.7071 - val_loss: 0.6599 - val_accuracy: 0.7916\n",
      "Epoch 71/100\n",
      "208/219 [===========================>..] - ETA: 0s - loss: 0.8776 - accuracy: 0.7054\n",
      "Epoch 71: val_loss did not improve from 0.62002\n",
      "219/219 [==============================] - 1s 3ms/step - loss: 0.8774 - accuracy: 0.7047 - val_loss: 0.6390 - val_accuracy: 0.8008\n",
      "Epoch 72/100\n",
      "215/219 [============================>.] - ETA: 0s - loss: 0.8879 - accuracy: 0.7045\n",
      "Epoch 72: val_loss did not improve from 0.62002\n",
      "219/219 [==============================] - 1s 4ms/step - loss: 0.8851 - accuracy: 0.7052 - val_loss: 0.6288 - val_accuracy: 0.7991\n",
      "Epoch 73/100\n",
      "217/219 [============================>.] - ETA: 0s - loss: 0.8721 - accuracy: 0.7081\n",
      "Epoch 73: val_loss did not improve from 0.62002\n",
      "219/219 [==============================] - 1s 3ms/step - loss: 0.8721 - accuracy: 0.7084 - val_loss: 0.6470 - val_accuracy: 0.7945\n",
      "Epoch 74/100\n",
      "210/219 [===========================>..] - ETA: 0s - loss: 0.8716 - accuracy: 0.7094\n",
      "Epoch 74: val_loss improved from 0.62002 to 0.61481, saving model to saved_models\\audio_classification.h5\n",
      "219/219 [==============================] - 1s 3ms/step - loss: 0.8672 - accuracy: 0.7112 - val_loss: 0.6148 - val_accuracy: 0.8071\n",
      "Epoch 75/100\n",
      "211/219 [===========================>..] - ETA: 0s - loss: 0.8660 - accuracy: 0.7091\n",
      "Epoch 75: val_loss did not improve from 0.61481\n",
      "219/219 [==============================] - 1s 3ms/step - loss: 0.8626 - accuracy: 0.7098 - val_loss: 0.6330 - val_accuracy: 0.8002\n",
      "Epoch 76/100\n",
      "219/219 [==============================] - ETA: 0s - loss: 0.8849 - accuracy: 0.7028\n",
      "Epoch 76: val_loss did not improve from 0.61481\n",
      "219/219 [==============================] - 1s 3ms/step - loss: 0.8849 - accuracy: 0.7028 - val_loss: 0.6359 - val_accuracy: 0.8082\n",
      "Epoch 77/100\n",
      "199/219 [==========================>...] - ETA: 0s - loss: 0.8495 - accuracy: 0.7180\n",
      "Epoch 77: val_loss did not improve from 0.61481\n",
      "219/219 [==============================] - 1s 3ms/step - loss: 0.8549 - accuracy: 0.7160 - val_loss: 0.6524 - val_accuracy: 0.7894\n",
      "Epoch 78/100\n",
      "201/219 [==========================>...] - ETA: 0s - loss: 0.8554 - accuracy: 0.7055\n",
      "Epoch 78: val_loss improved from 0.61481 to 0.61420, saving model to saved_models\\audio_classification.h5\n",
      "219/219 [==============================] - 1s 3ms/step - loss: 0.8640 - accuracy: 0.7032 - val_loss: 0.6142 - val_accuracy: 0.8111\n",
      "Epoch 79/100\n",
      "206/219 [===========================>..] - ETA: 0s - loss: 0.8577 - accuracy: 0.7136\n",
      "Epoch 79: val_loss did not improve from 0.61420\n",
      "219/219 [==============================] - 1s 3ms/step - loss: 0.8593 - accuracy: 0.7132 - val_loss: 0.6265 - val_accuracy: 0.8014\n",
      "Epoch 80/100\n",
      "219/219 [==============================] - ETA: 0s - loss: 0.8670 - accuracy: 0.7101\n",
      "Epoch 80: val_loss did not improve from 0.61420\n",
      "219/219 [==============================] - 1s 2ms/step - loss: 0.8670 - accuracy: 0.7101 - val_loss: 0.6215 - val_accuracy: 0.8151\n",
      "Epoch 81/100\n",
      "214/219 [============================>.] - ETA: 0s - loss: 0.8664 - accuracy: 0.7116\n",
      "Epoch 81: val_loss did not improve from 0.61420\n",
      "219/219 [==============================] - 1s 3ms/step - loss: 0.8685 - accuracy: 0.7111 - val_loss: 0.6261 - val_accuracy: 0.8060\n",
      "Epoch 82/100\n",
      "218/219 [============================>.] - ETA: 0s - loss: 0.8896 - accuracy: 0.7054\n",
      "Epoch 82: val_loss did not improve from 0.61420\n",
      "219/219 [==============================] - 1s 2ms/step - loss: 0.8903 - accuracy: 0.7054 - val_loss: 0.6225 - val_accuracy: 0.8060\n",
      "Epoch 83/100\n",
      "209/219 [===========================>..] - ETA: 0s - loss: 0.8674 - accuracy: 0.7102\n",
      "Epoch 83: val_loss did not improve from 0.61420\n",
      "219/219 [==============================] - 1s 3ms/step - loss: 0.8734 - accuracy: 0.7075 - val_loss: 0.6193 - val_accuracy: 0.8054\n",
      "Epoch 84/100\n",
      "213/219 [============================>.] - ETA: 0s - loss: 0.8947 - accuracy: 0.7022\n",
      "Epoch 84: val_loss did not improve from 0.61420\n",
      "219/219 [==============================] - 1s 3ms/step - loss: 0.8955 - accuracy: 0.7014 - val_loss: 0.6421 - val_accuracy: 0.7962\n",
      "Epoch 85/100\n",
      "210/219 [===========================>..] - ETA: 0s - loss: 0.8846 - accuracy: 0.7116\n",
      "Epoch 85: val_loss did not improve from 0.61420\n",
      "219/219 [==============================] - 1s 3ms/step - loss: 0.8798 - accuracy: 0.7128 - val_loss: 0.6419 - val_accuracy: 0.8008\n",
      "Epoch 86/100\n",
      "201/219 [==========================>...] - ETA: 0s - loss: 0.8832 - accuracy: 0.7066\n",
      "Epoch 86: val_loss improved from 0.61420 to 0.61053, saving model to saved_models\\audio_classification.h5\n",
      "219/219 [==============================] - 1s 3ms/step - loss: 0.8851 - accuracy: 0.7064 - val_loss: 0.6105 - val_accuracy: 0.8128\n",
      "Epoch 87/100\n",
      "210/219 [===========================>..] - ETA: 0s - loss: 0.8617 - accuracy: 0.7074\n",
      "Epoch 87: val_loss did not improve from 0.61053\n",
      "219/219 [==============================] - 1s 4ms/step - loss: 0.8670 - accuracy: 0.7059 - val_loss: 0.6294 - val_accuracy: 0.7945\n",
      "Epoch 88/100\n",
      "214/219 [============================>.] - ETA: 0s - loss: 0.8592 - accuracy: 0.7109\n",
      "Epoch 88: val_loss improved from 0.61053 to 0.59615, saving model to saved_models\\audio_classification.h5\n",
      "219/219 [==============================] - 1s 3ms/step - loss: 0.8559 - accuracy: 0.7112 - val_loss: 0.5962 - val_accuracy: 0.8117\n",
      "Epoch 89/100\n",
      "199/219 [==========================>...] - ETA: 0s - loss: 0.8912 - accuracy: 0.7071\n",
      "Epoch 89: val_loss did not improve from 0.59615\n",
      "219/219 [==============================] - 1s 3ms/step - loss: 0.8897 - accuracy: 0.7075 - val_loss: 0.6165 - val_accuracy: 0.8071\n",
      "Epoch 90/100\n",
      "219/219 [==============================] - ETA: 0s - loss: 0.8527 - accuracy: 0.7128\n",
      "Epoch 90: val_loss did not improve from 0.59615\n",
      "219/219 [==============================] - 1s 3ms/step - loss: 0.8527 - accuracy: 0.7128 - val_loss: 0.6091 - val_accuracy: 0.8008\n",
      "Epoch 91/100\n",
      "214/219 [============================>.] - ETA: 0s - loss: 0.8603 - accuracy: 0.7114\n",
      "Epoch 91: val_loss did not improve from 0.59615\n",
      "219/219 [==============================] - 1s 3ms/step - loss: 0.8580 - accuracy: 0.7124 - val_loss: 0.6081 - val_accuracy: 0.8065\n",
      "Epoch 92/100\n",
      "216/219 [============================>.] - ETA: 0s - loss: 0.8511 - accuracy: 0.7190\n",
      "Epoch 92: val_loss did not improve from 0.59615\n",
      "219/219 [==============================] - 1s 3ms/step - loss: 0.8532 - accuracy: 0.7191 - val_loss: 0.6299 - val_accuracy: 0.7945\n",
      "Epoch 93/100\n",
      "217/219 [============================>.] - ETA: 0s - loss: 0.8559 - accuracy: 0.7166\n",
      "Epoch 93: val_loss did not improve from 0.59615\n",
      "219/219 [==============================] - 1s 2ms/step - loss: 0.8572 - accuracy: 0.7162 - val_loss: 0.6213 - val_accuracy: 0.7997\n",
      "Epoch 94/100\n",
      "214/219 [============================>.] - ETA: 0s - loss: 0.8568 - accuracy: 0.7154\n",
      "Epoch 94: val_loss did not improve from 0.59615\n",
      "219/219 [==============================] - 1s 3ms/step - loss: 0.8569 - accuracy: 0.7152 - val_loss: 0.6213 - val_accuracy: 0.8014\n",
      "Epoch 95/100\n",
      "216/219 [============================>.] - ETA: 0s - loss: 0.8575 - accuracy: 0.7067\n",
      "Epoch 95: val_loss did not improve from 0.59615\n",
      "219/219 [==============================] - 1s 3ms/step - loss: 0.8557 - accuracy: 0.7077 - val_loss: 0.6371 - val_accuracy: 0.8031\n",
      "Epoch 96/100\n",
      "216/219 [============================>.] - ETA: 0s - loss: 0.8763 - accuracy: 0.7115\n",
      "Epoch 96: val_loss did not improve from 0.59615\n",
      "219/219 [==============================] - 1s 3ms/step - loss: 0.8747 - accuracy: 0.7115 - val_loss: 0.6368 - val_accuracy: 0.8031\n",
      "Epoch 97/100\n",
      "218/219 [============================>.] - ETA: 0s - loss: 0.8482 - accuracy: 0.7198\n",
      "Epoch 97: val_loss did not improve from 0.59615\n",
      "219/219 [==============================] - 1s 3ms/step - loss: 0.8482 - accuracy: 0.7197 - val_loss: 0.6029 - val_accuracy: 0.8122\n",
      "Epoch 98/100\n",
      "218/219 [============================>.] - ETA: 0s - loss: 0.8502 - accuracy: 0.7139\n",
      "Epoch 98: val_loss did not improve from 0.59615\n",
      "219/219 [==============================] - 1s 3ms/step - loss: 0.8503 - accuracy: 0.7137 - val_loss: 0.6215 - val_accuracy: 0.7979\n",
      "Epoch 99/100\n",
      "216/219 [============================>.] - ETA: 0s - loss: 0.8710 - accuracy: 0.7106\n",
      "Epoch 99: val_loss did not improve from 0.59615\n",
      "219/219 [==============================] - 1s 3ms/step - loss: 0.8695 - accuracy: 0.7110 - val_loss: 0.6171 - val_accuracy: 0.8082\n",
      "Epoch 100/100\n",
      "219/219 [==============================] - ETA: 0s - loss: 0.8851 - accuracy: 0.7105\n",
      "Epoch 100: val_loss did not improve from 0.59615\n",
      "219/219 [==============================] - 1s 2ms/step - loss: 0.8851 - accuracy: 0.7105 - val_loss: 0.6335 - val_accuracy: 0.8065\n",
      "Training completed in time:  0:01:02.315475\n"
     ]
    }
   ],
   "source": [
    "## Training my model\n",
    "from tensorflow.keras.utils import to_categorical\n",
    "from tensorflow.keras.callbacks import ModelCheckpoint\n",
    "from datetime import datetime\n",
    "\n",
    "# num_classes = 10\n",
    "\n",
    "# # One-hot encode the targets\n",
    "# y_train = to_categorical(y_train, num_classes)\n",
    "# y_test = to_categorical(y_test, num_classes)\n",
    "\n",
    "num_epochs = 100\n",
    "num_batch_size = 32\n",
    "\n",
    "checkpointer = ModelCheckpoint(filepath='saved_models/audio_classification.h5', verbose=1, save_best_only=True)\n",
    "\n",
    "start = datetime.now()\n",
    "\n",
    "model.fit(X_train, y_train, batch_size=num_batch_size, epochs=num_epochs, validation_data=(X_test,y_test), callbacks=[checkpointer])\n",
    "\n",
    "duration = datetime.now() - start\n",
    "print(\"Training completed in time: \",duration)"
   ]
  },
  {
   "cell_type": "code",
   "execution_count": 76,
   "id": "8790929e-1270-4910-b64f-ec3c8fd06251",
   "metadata": {},
   "outputs": [
    {
     "name": "stdout",
     "output_type": "stream",
     "text": [
      "0.806525468826294\n"
     ]
    }
   ],
   "source": [
    "test_accuracy = model.evaluate(X_test, y_test, verbose=0)\n",
    "print(test_accuracy[1])"
   ]
  },
  {
   "cell_type": "markdown",
   "id": "067b9a60-17c9-4770-85af-7a2fdae7e10c",
   "metadata": {},
   "source": [
    "## Testing Some Test Audio Data"
   ]
  },
  {
   "cell_type": "markdown",
   "id": "9cf57d55-b65c-4044-84f1-9bab8b6ff723",
   "metadata": {},
   "source": [
    "Steps\n",
    "\n",
    "- Preprocess the new audio data\n",
    "- predict the classes\n",
    "- invere transform the predicted label"
   ]
  },
  {
   "cell_type": "code",
   "execution_count": 87,
   "id": "e60cf65b-2171-466a-8a24-ca18c06cb323",
   "metadata": {},
   "outputs": [
    {
     "name": "stdout",
     "output_type": "stream",
     "text": [
      "[-74.15034     71.171295    -7.2813187  -13.05415      4.0155325\n",
      "  -5.845897    -6.818139    -4.2881436   -8.95169      1.2468196\n",
      "  -7.87719      0.43814105  -7.215785     0.08722974  -7.969287\n",
      "  -4.153098    -9.48869     -2.0341449   -1.6445242    1.6244239\n",
      "  -2.7746882   -4.331586    -9.972777    -8.417545    -7.9463887\n",
      "   0.64830995   2.177376     1.9039183   -6.6562457   -3.7984414\n",
      "  -3.7553144   -0.51080257  -2.8393679   -1.3745583   -7.393749\n",
      "  -1.8019917    0.159959     0.8673938   -5.444731    -2.399574  ]\n",
      "[[-74.15034     71.171295    -7.2813187  -13.05415      4.0155325\n",
      "   -5.845897    -6.818139    -4.2881436   -8.95169      1.2468196\n",
      "   -7.87719      0.43814105  -7.215785     0.08722974  -7.969287\n",
      "   -4.153098    -9.48869     -2.0341449   -1.6445242    1.6244239\n",
      "   -2.7746882   -4.331586    -9.972777    -8.417545    -7.9463887\n",
      "    0.64830995   2.177376     1.9039183   -6.6562457   -3.7984414\n",
      "   -3.7553144   -0.51080257  -2.8393679   -1.3745583   -7.393749\n",
      "   -1.8019917    0.159959     0.8673938   -5.444731    -2.399574  ]]\n",
      "(1, 40)\n",
      "1/1 [==============================] - 0s 25ms/step\n",
      "[[0.13379815 0.01431695 0.09051828 0.22151177 0.05410344 0.0363427\n",
      "  0.05307069 0.01366964 0.03641167 0.34625673]]\n",
      "[9]\n",
      "This sound is of: ['street_music']\n"
     ]
    }
   ],
   "source": [
    "filename = \"data\\\\raw\\\\fold2\\\\14780-9-0-2.wav\"\n",
    "audio, sample_rate = librosa.load(filename)\n",
    "mfccs_features = librosa.feature.mfcc(y=audio, sr=sample_rate, n_mfcc=40)\n",
    "mfccs_sacled_features = np.mean(mfccs_features.T, axis = 0)\n",
    "\n",
    "print(mfccs_sacled_features)\n",
    "mfccs_sacled_features = mfccs_sacled_features.reshape(1,-1)\n",
    "print(mfccs_sacled_features)\n",
    "print(mfccs_sacled_features.shape)\n",
    "predicted_label = model.predict(mfccs_sacled_features)\n",
    "print(predicted_label)\n",
    "# Convert probabilities to class indices\n",
    "predicted_indices = np.argmax(predicted_label, axis=1)\n",
    "prediction_class = le.inverse_transform(predicted_indices)\n",
    "# classes[prediction_class]\n",
    "print(predicted_indices)\n",
    "print(\"This sound is of:\",prediction_class)"
   ]
  },
  {
   "cell_type": "code",
   "execution_count": 80,
   "id": "fdfe26a9-375b-429b-8e74-8c4296cbd3e5",
   "metadata": {},
   "outputs": [
    {
     "data": {
      "text/plain": [
       "array(['dog_bark', 'children_playing', 'car_horn', 'air_conditioner',\n",
       "       'street_music', 'gun_shot', 'siren', 'engine_idling', 'jackhammer',\n",
       "       'drilling'], dtype=object)"
      ]
     },
     "execution_count": 80,
     "metadata": {},
     "output_type": "execute_result"
    }
   ],
   "source": [
    "metadata['class'].unique()"
   ]
  },
  {
   "cell_type": "code",
   "execution_count": null,
   "id": "4912b85e",
   "metadata": {},
   "outputs": [],
   "source": []
  }
 ],
 "metadata": {
  "kernelspec": {
   "display_name": "Python 3",
   "language": "python",
   "name": "python3"
  },
  "language_info": {
   "codemirror_mode": {
    "name": "ipython",
    "version": 3
   },
   "file_extension": ".py",
   "mimetype": "text/x-python",
   "name": "python",
   "nbconvert_exporter": "python",
   "pygments_lexer": "ipython3",
   "version": "3.8.20"
  }
 },
 "nbformat": 4,
 "nbformat_minor": 5
}
