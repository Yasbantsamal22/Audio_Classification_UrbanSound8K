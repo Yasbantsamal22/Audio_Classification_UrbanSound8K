{
 "cells": [
  {
   "cell_type": "code",
   "execution_count": 1,
   "metadata": {},
   "outputs": [],
   "source": [
    "import os"
   ]
  },
  {
   "cell_type": "code",
   "execution_count": 2,
   "metadata": {},
   "outputs": [
    {
     "data": {
      "text/plain": [
       "'c:\\\\Users\\\\yasba\\\\OneDrive\\\\Documents\\\\Projects\\\\Audio_Classification_UrbanSound8K\\\\research'"
      ]
     },
     "execution_count": 2,
     "metadata": {},
     "output_type": "execute_result"
    }
   ],
   "source": [
    "%pwd"
   ]
  },
  {
   "cell_type": "code",
   "execution_count": 3,
   "metadata": {},
   "outputs": [],
   "source": [
    "os.chdir(\"../\")"
   ]
  },
  {
   "cell_type": "code",
   "execution_count": 4,
   "metadata": {},
   "outputs": [
    {
     "data": {
      "text/plain": [
       "'c:\\\\Users\\\\yasba\\\\OneDrive\\\\Documents\\\\Projects\\\\Audio_Classification_UrbanSound8K'"
      ]
     },
     "execution_count": 4,
     "metadata": {},
     "output_type": "execute_result"
    }
   ],
   "source": [
    "%pwd"
   ]
  },
  {
   "cell_type": "code",
   "execution_count": 5,
   "metadata": {},
   "outputs": [],
   "source": [
    "from dataclasses import dataclass\n",
    "from pathlib import Path\n",
    "\n",
    "@dataclass(frozen=True)\n",
    "class DataIngestionConfig:\n",
    "    root_dir: Path\n",
    "    csv_path: str\n",
    "    preprocess_dir: Path\n",
    "    audio_dataset_path: Path\n",
    "    split_dir: Path\n",
    "    preprocess_data_dir: Path\n",
    "    train_data_dir: Path\n",
    "    test_data_dir: Path"
   ]
  },
  {
   "cell_type": "code",
   "execution_count": 6,
   "metadata": {},
   "outputs": [],
   "source": [
    "from Audio_Classification.constants import *\n",
    "from Audio_Classification.utils.common import read_yaml, create_directories"
   ]
  },
  {
   "cell_type": "code",
   "execution_count": 7,
   "metadata": {},
   "outputs": [],
   "source": [
    "class ConfigurationManager:\n",
    "    def __init__(\n",
    "        self,\n",
    "        config_filepath = CONFIG_FILE_PATH,\n",
    "        params_filepath = PARAMS_FILE_PATH):\n",
    "        \n",
    "        self.config = read_yaml(config_filepath)\n",
    "        self.params = read_yaml(params_filepath)\n",
    "\n",
    "        create_directories([self.config.artifacts_root])\n",
    "\n",
    "\n",
    "    def get_data_ingestion_config(self) -> DataIngestionConfig:\n",
    "        config = self.config.data_ingestion\n",
    "\n",
    "        create_directories([config.root_dir])\n",
    "        create_directories([config.preprocess_dir])\n",
    "        create_directories([config.split_dir])\n",
    "\n",
    "        data_ingestion_config = DataIngestionConfig(\n",
    "            root_dir = config.root_dir,\n",
    "            csv_path = config.csv_path,\n",
    "            preprocess_dir = config.preprocess_dir,\n",
    "            audio_dataset_path = config.audio_dataset_path,\n",
    "            split_dir = config.split_dir,\n",
    "            preprocess_data_dir = config.preprocess_data_dir ,\n",
    "            train_data_dir = config.train_data_dir,\n",
    "            test_data_dir = config.test_data_dir,\n",
    "        )\n",
    "\n",
    "        return data_ingestion_config"
   ]
  },
  {
   "cell_type": "code",
   "execution_count": 8,
   "metadata": {},
   "outputs": [],
   "source": [
    "import os\n",
    "import pandas as pd \n",
    "import urllib.request as request\n",
    "import zipfile\n",
    "from Audio_Classification import logger\n",
    "from Audio_Classification.utils.common import *\n",
    "import numpy as np\n",
    "from tqdm import tqdm\n",
    "import librosa\n",
    "from sklearn.preprocessing import LabelEncoder\n",
    "from sklearn.model_selection import train_test_split"
   ]
  },
  {
   "cell_type": "code",
   "execution_count": 9,
   "metadata": {},
   "outputs": [],
   "source": [
    "class DataIngestion:\n",
    "    def __init__(self, config: DataIngestionConfig):\n",
    "        self.config = config\n",
    "\n",
    "\n",
    "    def get_csv_file(self):\n",
    "        self.metadata = pd.read_csv(self.config.csv_path)\n",
    "        \n",
    "        logger.info(\"Reading CSV File Completed\")\n",
    "\n",
    "\n",
    "    def feature_extractor(self,file_name):\n",
    "        audio, sample_rate = librosa.load(file_name)\n",
    "        mfccs_features = librosa.feature.mfcc(y=audio, sr=sample_rate, n_mfcc=40)\n",
    "        mfccs_scaled_features = np.mean(mfccs_features.T, axis=0)\n",
    "\n",
    "        return mfccs_scaled_features\n",
    "    \n",
    "\n",
    "    def get_extracted_feature(self):\n",
    "        self.extracted_features = []\n",
    "        for index_num, row in tqdm(self.metadata.iterrows()):\n",
    "            file_name = str(os.path.join(os.path.abspath(self.config.audio_dataset_path), f'fold{row[\"fold\"]}', row[\"slice_file_name\"]))\n",
    "            final_class_labels = row[\"class\"]\n",
    "            data = self.feature_extractor(file_name)\n",
    "            self.extracted_features.append([data, final_class_labels])\n",
    "    \n",
    "        logger.info(\"Extraction of MFCC Features Completed\")\n",
    "\n",
    "\n",
    "    def convert_mfcc_to_dataframe(self):\n",
    "        self.mfcc_df = pd.DataFrame(self.extracted_features, columns=[\"mfccs\",\"class\"])\n",
    "\n",
    "        logger.info(\"Converted The Extracted Feature and Classes to DataFrame\")\n",
    "\n",
    "\n",
    "    def encoding_class_variables(self):\n",
    "        le = LabelEncoder()\n",
    "        self.mfcc_df['class'] = le.fit_transform(self.mfcc_df['class'])\n",
    "\n",
    "        logger.info(\"Encoded the Objective Data of Classes variable Using LabelEncoder\")\n",
    "\n",
    "\n",
    "    def save_mfcc_dataframe(self):\n",
    "        self.mfcc_df.to_csv(self.config.preprocess_data_dir, index=False)\n",
    "        train_df, test_df = train_test_split(self.mfcc_df, test_size=0.2, random_state=42)\n",
    "\n",
    "        logger.info(\"Saved the DataFrame as CSV File\")\n",
    "    \n",
    "\n",
    "    def splitting_data_to_train_test(self):\n",
    "        train_df, test_df = train_test_split(self.mfcc_df, test_size=0.2, random_state=42)\n",
    "        self.train_df = train_df\n",
    "        self.test_df = test_df\n",
    "        self.train_df.to_csv(self.config.train_data_dir, index=False)\n",
    "        self.test_df.to_csv(self.config.test_data_dir, index=False)\n",
    "        logger.info(\"Splitted the data into train and test\")\n",
    "\n",
    "    \n",
    "    "
   ]
  },
  {
   "cell_type": "code",
   "execution_count": 10,
   "metadata": {},
   "outputs": [
    {
     "name": "stdout",
     "output_type": "stream",
     "text": [
      "[2024-12-20 19:50:29,638: INFO: common: yaml file: config\\config.yaml loaded successfully]\n",
      "[2024-12-20 19:50:29,641: INFO: common: yaml file: params.yaml loaded successfully]\n",
      "[2024-12-20 19:50:29,644: INFO: common: created directory at: artifacts]\n",
      "[2024-12-20 19:50:29,646: INFO: common: created directory at: artifacts/data_ingestion]\n",
      "[2024-12-20 19:50:29,647: INFO: common: created directory at: artifacts/data_ingestion/preprocess]\n",
      "[2024-12-20 19:50:29,649: INFO: common: created directory at: artifacts/data_ingestion/splits]\n",
      "[2024-12-20 19:50:29,681: INFO: 784385225: Reading CSV File Completed]\n"
     ]
    },
    {
     "name": "stderr",
     "output_type": "stream",
     "text": [
      "3549it [00:47, 71.47it/s] c:\\Users\\yasba\\OneDrive\\Documents\\Projects\\Audio_Classification_UrbanSound8K\\venv\\lib\\site-packages\\librosa\\core\\spectrum.py:266: UserWarning: n_fft=2048 is too large for input signal of length=1323\n",
      "  warnings.warn(\n",
      "8317it [01:52, 86.50it/s] c:\\Users\\yasba\\OneDrive\\Documents\\Projects\\Audio_Classification_UrbanSound8K\\venv\\lib\\site-packages\\librosa\\core\\spectrum.py:266: UserWarning: n_fft=2048 is too large for input signal of length=1103\n",
      "  warnings.warn(\n",
      "c:\\Users\\yasba\\OneDrive\\Documents\\Projects\\Audio_Classification_UrbanSound8K\\venv\\lib\\site-packages\\librosa\\core\\spectrum.py:266: UserWarning: n_fft=2048 is too large for input signal of length=1523\n",
      "  warnings.warn(\n",
      "8732it [01:58, 73.65it/s] "
     ]
    },
    {
     "name": "stdout",
     "output_type": "stream",
     "text": [
      "[2024-12-20 19:52:28,259: INFO: 784385225: Extraction of MFCC Features Completed]\n",
      "[2024-12-20 19:52:28,263: INFO: 784385225: Converted The Extracted Feature and Classes to DataFrame]\n",
      "[2024-12-20 19:52:28,267: INFO: 784385225: Encoded the Objective Data of Classes variable Using LabelEncoder]\n"
     ]
    },
    {
     "name": "stderr",
     "output_type": "stream",
     "text": [
      "\n"
     ]
    },
    {
     "name": "stdout",
     "output_type": "stream",
     "text": [
      "[2024-12-20 19:52:30,233: INFO: 784385225: Saved the DataFrame as CSV File]\n",
      "[2024-12-20 19:52:32,175: INFO: 784385225: Splitted the data into train and test]\n"
     ]
    }
   ],
   "source": [
    "try:\n",
    "    config = ConfigurationManager()\n",
    "    data_ingestion_config = config.get_data_ingestion_config()\n",
    "    data_ingestion = DataIngestion(config=data_ingestion_config)\n",
    "    data_ingestion.get_csv_file()\n",
    "    data_ingestion.get_extracted_feature()\n",
    "    data_ingestion.convert_mfcc_to_dataframe()\n",
    "    data_ingestion.encoding_class_variables()\n",
    "    data_ingestion.save_mfcc_dataframe()\n",
    "    data_ingestion.splitting_data_to_train_test()\n",
    "except Exception as e:\n",
    "    raise e"
   ]
  },
  {
   "cell_type": "code",
   "execution_count": null,
   "metadata": {},
   "outputs": [],
   "source": []
  }
 ],
 "metadata": {
  "kernelspec": {
   "display_name": "Python 3",
   "language": "python",
   "name": "python3"
  },
  "language_info": {
   "codemirror_mode": {
    "name": "ipython",
    "version": 3
   },
   "file_extension": ".py",
   "mimetype": "text/x-python",
   "name": "python",
   "nbconvert_exporter": "python",
   "pygments_lexer": "ipython3",
   "version": "3.8.20"
  }
 },
 "nbformat": 4,
 "nbformat_minor": 2
}
