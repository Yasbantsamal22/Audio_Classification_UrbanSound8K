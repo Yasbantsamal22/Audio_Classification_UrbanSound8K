{
 "cells": [
  {
   "cell_type": "code",
   "execution_count": 1,
   "metadata": {},
   "outputs": [],
   "source": [
    "import os"
   ]
  },
  {
   "cell_type": "code",
   "execution_count": 2,
   "metadata": {},
   "outputs": [
    {
     "data": {
      "text/plain": [
       "'c:\\\\Users\\\\yasba\\\\OneDrive\\\\Documents\\\\Projects\\\\Audio_Classification_UrbanSound8K\\\\research'"
      ]
     },
     "execution_count": 2,
     "metadata": {},
     "output_type": "execute_result"
    }
   ],
   "source": [
    "%pwd"
   ]
  },
  {
   "cell_type": "code",
   "execution_count": 3,
   "metadata": {},
   "outputs": [],
   "source": [
    "os.chdir(\"../\")"
   ]
  },
  {
   "cell_type": "code",
   "execution_count": 4,
   "metadata": {},
   "outputs": [
    {
     "data": {
      "text/plain": [
       "'c:\\\\Users\\\\yasba\\\\OneDrive\\\\Documents\\\\Projects\\\\Audio_Classification_UrbanSound8K'"
      ]
     },
     "execution_count": 4,
     "metadata": {},
     "output_type": "execute_result"
    }
   ],
   "source": [
    "%pwd"
   ]
  },
  {
   "cell_type": "code",
   "execution_count": 23,
   "metadata": {},
   "outputs": [],
   "source": [
    "from dataclasses import dataclass\n",
    "from pathlib import Path\n",
    "\n",
    "@dataclass(frozen=True)\n",
    "class DataIngestionConfig:\n",
    "    root_dir: Path\n",
    "    csv_path: str\n",
    "    preprocess_dir: Path\n",
    "    audio_dataset_path: Path\n",
    "    split_dir: Path\n",
    "    preprocess_data_dir: Path"
   ]
  },
  {
   "cell_type": "code",
   "execution_count": 24,
   "metadata": {},
   "outputs": [],
   "source": [
    "from Audio_Classification.constants import *\n",
    "from Audio_Classification.utils.common import read_yaml, create_directories"
   ]
  },
  {
   "cell_type": "code",
   "execution_count": 25,
   "metadata": {},
   "outputs": [],
   "source": [
    "class ConfigurationManager:\n",
    "    def __init__(\n",
    "        self,\n",
    "        config_filepath = CONFIG_FILE_PATH,\n",
    "        params_filepath = PARAMS_FILE_PATH):\n",
    "        \n",
    "        self.config = read_yaml(config_filepath)\n",
    "        self.params = read_yaml(params_filepath)\n",
    "\n",
    "        create_directories([self.config.artifacts_root])\n",
    "\n",
    "\n",
    "    def get_data_ingestion_config(self) -> DataIngestionConfig:\n",
    "        config = self.config.data_ingestion\n",
    "\n",
    "        create_directories([config.root_dir])\n",
    "        create_directories([config.preprocess_dir])\n",
    "        create_directories([config.split_dir])\n",
    "\n",
    "        data_ingestion_config = DataIngestionConfig(\n",
    "            root_dir = config.root_dir,\n",
    "            csv_path = config.csv_path,\n",
    "            preprocess_dir = config.preprocess_dir,\n",
    "            audio_dataset_path = config.audio_dataset_path,\n",
    "            split_dir = config.split_dir,\n",
    "            preprocess_data_dir = config.preprocess_data_dir \n",
    "        )\n",
    "\n",
    "        return data_ingestion_config"
   ]
  },
  {
   "cell_type": "code",
   "execution_count": 26,
   "metadata": {},
   "outputs": [],
   "source": [
    "import os\n",
    "import pandas as pd \n",
    "import urllib.request as request\n",
    "import zipfile\n",
    "from Audio_Classification import logger\n",
    "from Audio_Classification.utils.common import *\n",
    "import numpy as np\n",
    "from tqdm import tqdm\n",
    "import librosa\n",
    "from sklearn.preprocessing import LabelEncoder"
   ]
  },
  {
   "cell_type": "code",
   "execution_count": 27,
   "metadata": {},
   "outputs": [],
   "source": [
    "class DataIngestion:\n",
    "    def __init__(self, config: DataIngestionConfig):\n",
    "        self.config = config\n",
    "\n",
    "\n",
    "    def get_csv_file(self):\n",
    "        self.metadata = pd.read_csv(self.config.csv_path)\n",
    "        \n",
    "        logger.info(\"Reading CSV File Completed\")\n",
    "\n",
    "\n",
    "    def feature_extractor(self,file_name):\n",
    "        audio, sample_rate = librosa.load(file_name)\n",
    "        mfccs_features = librosa.feature.mfcc(y=audio, sr=sample_rate, n_mfcc=40)\n",
    "        mfccs_scaled_features = np.mean(mfccs_features.T, axis=0)\n",
    "\n",
    "        return mfccs_scaled_features\n",
    "    \n",
    "\n",
    "    def get_extracted_feature(self):\n",
    "        self.extracted_features = []\n",
    "        for index_num, row in tqdm(self.metadata.iterrows()):\n",
    "            file_name = str(os.path.join(os.path.abspath(self.config.audio_dataset_path), f'fold{row[\"fold\"]}', row[\"slice_file_name\"]))\n",
    "            final_class_labels = row[\"class\"]\n",
    "            data = self.feature_extractor(file_name)\n",
    "            self.extracted_features.append([data, final_class_labels])\n",
    "    \n",
    "        logger.info(\"Extraction of MFCC Features Completed\")\n",
    "\n",
    "\n",
    "    def convert_mfcc_to_dataframe(self):\n",
    "        self.mfcc_df = pd.DataFrame(self.extracted_features, columns=[\"mfccs\",\"class\"])\n",
    "\n",
    "        logger.info(\"Converted The Extracted Feature and Classes to DataFrame\")\n",
    "\n",
    "\n",
    "    def encoding_class_variables(self):\n",
    "        le = LabelEncoder()\n",
    "        self.mfcc_df['class'] = le.fit_transform(self.mfcc_df['class'])\n",
    "\n",
    "        logger.info(\"Encoded the Objective Data of Classes variable Using LabelEncoder\")\n",
    "\n",
    "\n",
    "    def save_mfcc_dataframe(self):\n",
    "        self.mfcc_df.to_csv(self.config.preprocess_data_dir, index=False)\n",
    "\n",
    "        logger.info(\"Saved the DataFrame as CSV File\")\n",
    "\n",
    "    \n",
    "    "
   ]
  },
  {
   "cell_type": "code",
   "execution_count": 28,
   "metadata": {},
   "outputs": [
    {
     "name": "stdout",
     "output_type": "stream",
     "text": [
      "[2024-12-20 18:55:34,293: INFO: common: yaml file: config\\config.yaml loaded successfully]\n",
      "[2024-12-20 18:55:34,298: INFO: common: yaml file: params.yaml loaded successfully]\n",
      "[2024-12-20 18:55:34,302: INFO: common: created directory at: artifacts]\n",
      "[2024-12-20 18:55:34,307: INFO: common: created directory at: artifacts/data_ingestion]\n",
      "[2024-12-20 18:55:34,310: INFO: common: created directory at: artifacts/data_ingestion/preprocess]\n",
      "[2024-12-20 18:55:34,313: INFO: common: created directory at: artifacts/data_ingestion/splits]\n",
      "[2024-12-20 18:55:34,383: INFO: 414825919: Reading CSV File Completed]\n"
     ]
    },
    {
     "name": "stderr",
     "output_type": "stream",
     "text": [
      "0it [00:00, ?it/s]"
     ]
    },
    {
     "name": "stdout",
     "output_type": "stream",
     "text": [
      "[2024-12-20 18:55:34,410: INFO: 414825919: Extracting MFCC Feature for c:\\Users\\yasba\\OneDrive\\Documents\\Projects\\Audio_Classification_UrbanSound8K\\data\\raw\\fold5\\100032-3-0-0.wav]\n"
     ]
    },
    {
     "name": "stderr",
     "output_type": "stream",
     "text": [
      "1it [00:04,  4.68s/it]"
     ]
    },
    {
     "name": "stdout",
     "output_type": "stream",
     "text": [
      "[2024-12-20 18:55:39,088: INFO: 414825919: Extracting MFCC Feature for c:\\Users\\yasba\\OneDrive\\Documents\\Projects\\Audio_Classification_UrbanSound8K\\data\\raw\\fold5\\100263-2-0-117.wav]\n",
      "[2024-12-20 18:55:39,112: INFO: 414825919: Extracting MFCC Feature for c:\\Users\\yasba\\OneDrive\\Documents\\Projects\\Audio_Classification_UrbanSound8K\\data\\raw\\fold5\\100263-2-0-121.wav]\n",
      "[2024-12-20 18:55:39,152: INFO: 414825919: Extracting MFCC Feature for c:\\Users\\yasba\\OneDrive\\Documents\\Projects\\Audio_Classification_UrbanSound8K\\data\\raw\\fold5\\100263-2-0-126.wav]\n"
     ]
    },
    {
     "name": "stderr",
     "output_type": "stream",
     "text": [
      "4it [00:04,  1.09it/s]"
     ]
    },
    {
     "name": "stdout",
     "output_type": "stream",
     "text": [
      "[2024-12-20 18:55:39,194: INFO: 414825919: Extracting MFCC Feature for c:\\Users\\yasba\\OneDrive\\Documents\\Projects\\Audio_Classification_UrbanSound8K\\data\\raw\\fold5\\100263-2-0-137.wav]\n",
      "[2024-12-20 18:55:39,232: INFO: 414825919: Extracting MFCC Feature for c:\\Users\\yasba\\OneDrive\\Documents\\Projects\\Audio_Classification_UrbanSound8K\\data\\raw\\fold5\\100263-2-0-143.wav]\n",
      "[2024-12-20 18:55:39,263: INFO: 414825919: Extracting MFCC Feature for c:\\Users\\yasba\\OneDrive\\Documents\\Projects\\Audio_Classification_UrbanSound8K\\data\\raw\\fold5\\100263-2-0-161.wav]\n"
     ]
    },
    {
     "name": "stderr",
     "output_type": "stream",
     "text": [
      "7it [00:04,  2.25it/s]"
     ]
    },
    {
     "name": "stdout",
     "output_type": "stream",
     "text": [
      "[2024-12-20 18:55:39,303: INFO: 414825919: Extracting MFCC Feature for c:\\Users\\yasba\\OneDrive\\Documents\\Projects\\Audio_Classification_UrbanSound8K\\data\\raw\\fold5\\100263-2-0-3.wav]\n",
      "[2024-12-20 18:55:39,330: INFO: 414825919: Extracting MFCC Feature for c:\\Users\\yasba\\OneDrive\\Documents\\Projects\\Audio_Classification_UrbanSound8K\\data\\raw\\fold5\\100263-2-0-36.wav]\n",
      "[2024-12-20 18:55:39,367: INFO: 414825919: Extracting MFCC Feature for c:\\Users\\yasba\\OneDrive\\Documents\\Projects\\Audio_Classification_UrbanSound8K\\data\\raw\\fold10\\100648-1-0-0.wav]\n",
      "[2024-12-20 18:55:39,389: INFO: 414825919: Extracting MFCC Feature for c:\\Users\\yasba\\OneDrive\\Documents\\Projects\\Audio_Classification_UrbanSound8K\\data\\raw\\fold10\\100648-1-1-0.wav]\n"
     ]
    },
    {
     "name": "stderr",
     "output_type": "stream",
     "text": [
      "11it [00:05,  4.31it/s]"
     ]
    },
    {
     "name": "stdout",
     "output_type": "stream",
     "text": [
      "[2024-12-20 18:55:39,406: INFO: 414825919: Extracting MFCC Feature for c:\\Users\\yasba\\OneDrive\\Documents\\Projects\\Audio_Classification_UrbanSound8K\\data\\raw\\fold10\\100648-1-2-0.wav]\n",
      "[2024-12-20 18:55:39,424: INFO: 414825919: Extracting MFCC Feature for c:\\Users\\yasba\\OneDrive\\Documents\\Projects\\Audio_Classification_UrbanSound8K\\data\\raw\\fold10\\100648-1-3-0.wav]\n",
      "[2024-12-20 18:55:39,445: INFO: 414825919: Extracting MFCC Feature for c:\\Users\\yasba\\OneDrive\\Documents\\Projects\\Audio_Classification_UrbanSound8K\\data\\raw\\fold10\\100648-1-4-0.wav]\n",
      "[2024-12-20 18:55:39,474: INFO: 414825919: Extracting MFCC Feature for c:\\Users\\yasba\\OneDrive\\Documents\\Projects\\Audio_Classification_UrbanSound8K\\data\\raw\\fold2\\100652-3-0-0.wav]\n"
     ]
    },
    {
     "name": "stderr",
     "output_type": "stream",
     "text": [
      "15it [00:05,  6.87it/s]"
     ]
    },
    {
     "name": "stdout",
     "output_type": "stream",
     "text": [
      "[2024-12-20 18:55:39,507: INFO: 414825919: Extracting MFCC Feature for c:\\Users\\yasba\\OneDrive\\Documents\\Projects\\Audio_Classification_UrbanSound8K\\data\\raw\\fold2\\100652-3-0-1.wav]\n",
      "[2024-12-20 18:55:39,545: INFO: 414825919: Extracting MFCC Feature for c:\\Users\\yasba\\OneDrive\\Documents\\Projects\\Audio_Classification_UrbanSound8K\\data\\raw\\fold2\\100652-3-0-2.wav]\n",
      "[2024-12-20 18:55:39,577: INFO: 414825919: Extracting MFCC Feature for c:\\Users\\yasba\\OneDrive\\Documents\\Projects\\Audio_Classification_UrbanSound8K\\data\\raw\\fold2\\100652-3-0-3.wav]\n",
      "[2024-12-20 18:55:39,605: INFO: 414825919: Extracting MFCC Feature for c:\\Users\\yasba\\OneDrive\\Documents\\Projects\\Audio_Classification_UrbanSound8K\\data\\raw\\fold10\\100795-3-0-0.wav]\n"
     ]
    },
    {
     "name": "stderr",
     "output_type": "stream",
     "text": [
      "19it [00:05,  9.73it/s]"
     ]
    },
    {
     "name": "stdout",
     "output_type": "stream",
     "text": [
      "[2024-12-20 18:55:39,633: INFO: 414825919: Extracting MFCC Feature for c:\\Users\\yasba\\OneDrive\\Documents\\Projects\\Audio_Classification_UrbanSound8K\\data\\raw\\fold10\\100795-3-1-0.wav]\n",
      "[2024-12-20 18:55:39,659: INFO: 414825919: Extracting MFCC Feature for c:\\Users\\yasba\\OneDrive\\Documents\\Projects\\Audio_Classification_UrbanSound8K\\data\\raw\\fold10\\100795-3-1-1.wav]\n",
      "[2024-12-20 18:55:39,693: INFO: 414825919: Extracting MFCC Feature for c:\\Users\\yasba\\OneDrive\\Documents\\Projects\\Audio_Classification_UrbanSound8K\\data\\raw\\fold10\\100795-3-1-2.wav]\n",
      "[2024-12-20 18:55:39,723: INFO: 414825919: Extracting MFCC Feature for c:\\Users\\yasba\\OneDrive\\Documents\\Projects\\Audio_Classification_UrbanSound8K\\data\\raw\\fold5\\100852-0-0-0.wav]\n"
     ]
    },
    {
     "name": "stderr",
     "output_type": "stream",
     "text": [
      "23it [00:05, 12.26it/s]"
     ]
    },
    {
     "name": "stdout",
     "output_type": "stream",
     "text": [
      "[2024-12-20 18:55:39,800: INFO: 414825919: Extracting MFCC Feature for c:\\Users\\yasba\\OneDrive\\Documents\\Projects\\Audio_Classification_UrbanSound8K\\data\\raw\\fold5\\100852-0-0-1.wav]\n",
      "[2024-12-20 18:55:39,840: INFO: 414825919: Extracting MFCC Feature for c:\\Users\\yasba\\OneDrive\\Documents\\Projects\\Audio_Classification_UrbanSound8K\\data\\raw\\fold5\\100852-0-0-10.wav]\n",
      "[2024-12-20 18:55:39,866: INFO: 414825919: Extracting MFCC Feature for c:\\Users\\yasba\\OneDrive\\Documents\\Projects\\Audio_Classification_UrbanSound8K\\data\\raw\\fold5\\100852-0-0-11.wav]\n"
     ]
    },
    {
     "name": "stderr",
     "output_type": "stream",
     "text": [
      "26it [00:05, 14.49it/s]"
     ]
    },
    {
     "name": "stdout",
     "output_type": "stream",
     "text": [
      "[2024-12-20 18:55:39,907: INFO: 414825919: Extracting MFCC Feature for c:\\Users\\yasba\\OneDrive\\Documents\\Projects\\Audio_Classification_UrbanSound8K\\data\\raw\\fold5\\100852-0-0-12.wav]\n",
      "[2024-12-20 18:55:39,935: INFO: 414825919: Extracting MFCC Feature for c:\\Users\\yasba\\OneDrive\\Documents\\Projects\\Audio_Classification_UrbanSound8K\\data\\raw\\fold5\\100852-0-0-13.wav]\n",
      "[2024-12-20 18:55:39,979: INFO: 414825919: Extracting MFCC Feature for c:\\Users\\yasba\\OneDrive\\Documents\\Projects\\Audio_Classification_UrbanSound8K\\data\\raw\\fold5\\100852-0-0-14.wav]\n"
     ]
    },
    {
     "name": "stderr",
     "output_type": "stream",
     "text": [
      "29it [00:05, 16.78it/s]"
     ]
    },
    {
     "name": "stdout",
     "output_type": "stream",
     "text": [
      "[2024-12-20 18:55:40,013: INFO: 414825919: Extracting MFCC Feature for c:\\Users\\yasba\\OneDrive\\Documents\\Projects\\Audio_Classification_UrbanSound8K\\data\\raw\\fold5\\100852-0-0-15.wav]\n",
      "[2024-12-20 18:55:40,041: INFO: 414825919: Extracting MFCC Feature for c:\\Users\\yasba\\OneDrive\\Documents\\Projects\\Audio_Classification_UrbanSound8K\\data\\raw\\fold5\\100852-0-0-16.wav]\n",
      "[2024-12-20 18:55:40,077: INFO: 414825919: Extracting MFCC Feature for c:\\Users\\yasba\\OneDrive\\Documents\\Projects\\Audio_Classification_UrbanSound8K\\data\\raw\\fold5\\100852-0-0-17.wav]\n",
      "[2024-12-20 18:55:40,107: INFO: 414825919: Extracting MFCC Feature for c:\\Users\\yasba\\OneDrive\\Documents\\Projects\\Audio_Classification_UrbanSound8K\\data\\raw\\fold5\\100852-0-0-18.wav]\n"
     ]
    },
    {
     "name": "stderr",
     "output_type": "stream",
     "text": [
      "33it [00:05, 20.17it/s]"
     ]
    },
    {
     "name": "stdout",
     "output_type": "stream",
     "text": [
      "[2024-12-20 18:55:40,135: INFO: 414825919: Extracting MFCC Feature for c:\\Users\\yasba\\OneDrive\\Documents\\Projects\\Audio_Classification_UrbanSound8K\\data\\raw\\fold5\\100852-0-0-19.wav]\n",
      "[2024-12-20 18:55:40,163: INFO: 414825919: Extracting MFCC Feature for c:\\Users\\yasba\\OneDrive\\Documents\\Projects\\Audio_Classification_UrbanSound8K\\data\\raw\\fold5\\100852-0-0-2.wav]\n",
      "[2024-12-20 18:55:40,202: INFO: 414825919: Extracting MFCC Feature for c:\\Users\\yasba\\OneDrive\\Documents\\Projects\\Audio_Classification_UrbanSound8K\\data\\raw\\fold5\\100852-0-0-20.wav]\n"
     ]
    },
    {
     "name": "stderr",
     "output_type": "stream",
     "text": [
      "36it [00:05, 22.14it/s]"
     ]
    },
    {
     "name": "stdout",
     "output_type": "stream",
     "text": [
      "[2024-12-20 18:55:40,236: INFO: 414825919: Extracting MFCC Feature for c:\\Users\\yasba\\OneDrive\\Documents\\Projects\\Audio_Classification_UrbanSound8K\\data\\raw\\fold5\\100852-0-0-21.wav]\n",
      "[2024-12-20 18:55:40,270: INFO: 414825919: Extracting MFCC Feature for c:\\Users\\yasba\\OneDrive\\Documents\\Projects\\Audio_Classification_UrbanSound8K\\data\\raw\\fold5\\100852-0-0-22.wav]\n",
      "[2024-12-20 18:55:40,308: INFO: 414825919: Extracting MFCC Feature for c:\\Users\\yasba\\OneDrive\\Documents\\Projects\\Audio_Classification_UrbanSound8K\\data\\raw\\fold5\\100852-0-0-23.wav]\n",
      "[2024-12-20 18:55:40,333: INFO: 414825919: Extracting MFCC Feature for c:\\Users\\yasba\\OneDrive\\Documents\\Projects\\Audio_Classification_UrbanSound8K\\data\\raw\\fold5\\100852-0-0-24.wav]\n"
     ]
    },
    {
     "name": "stderr",
     "output_type": "stream",
     "text": [
      "40it [00:05, 24.63it/s]"
     ]
    },
    {
     "name": "stdout",
     "output_type": "stream",
     "text": [
      "[2024-12-20 18:55:40,362: INFO: 414825919: Extracting MFCC Feature for c:\\Users\\yasba\\OneDrive\\Documents\\Projects\\Audio_Classification_UrbanSound8K\\data\\raw\\fold5\\100852-0-0-25.wav]\n",
      "[2024-12-20 18:55:40,397: INFO: 414825919: Extracting MFCC Feature for c:\\Users\\yasba\\OneDrive\\Documents\\Projects\\Audio_Classification_UrbanSound8K\\data\\raw\\fold5\\100852-0-0-26.wav]\n",
      "[2024-12-20 18:55:40,442: INFO: 414825919: Extracting MFCC Feature for c:\\Users\\yasba\\OneDrive\\Documents\\Projects\\Audio_Classification_UrbanSound8K\\data\\raw\\fold5\\100852-0-0-27.wav]\n",
      "[2024-12-20 18:55:40,510: INFO: 414825919: Extracting MFCC Feature for c:\\Users\\yasba\\OneDrive\\Documents\\Projects\\Audio_Classification_UrbanSound8K\\data\\raw\\fold5\\100852-0-0-28.wav]\n"
     ]
    },
    {
     "name": "stderr",
     "output_type": "stream",
     "text": [
      "44it [00:06, 22.93it/s]"
     ]
    },
    {
     "name": "stdout",
     "output_type": "stream",
     "text": [
      "[2024-12-20 18:55:40,561: INFO: 414825919: Extracting MFCC Feature for c:\\Users\\yasba\\OneDrive\\Documents\\Projects\\Audio_Classification_UrbanSound8K\\data\\raw\\fold5\\100852-0-0-29.wav]\n",
      "[2024-12-20 18:55:40,606: INFO: 414825919: Extracting MFCC Feature for c:\\Users\\yasba\\OneDrive\\Documents\\Projects\\Audio_Classification_UrbanSound8K\\data\\raw\\fold5\\100852-0-0-3.wav]\n",
      "[2024-12-20 18:55:40,642: INFO: 414825919: Extracting MFCC Feature for c:\\Users\\yasba\\OneDrive\\Documents\\Projects\\Audio_Classification_UrbanSound8K\\data\\raw\\fold5\\100852-0-0-30.wav]\n"
     ]
    },
    {
     "name": "stderr",
     "output_type": "stream",
     "text": [
      "47it [00:06, 23.60it/s]"
     ]
    },
    {
     "name": "stdout",
     "output_type": "stream",
     "text": [
      "[2024-12-20 18:55:40,679: INFO: 414825919: Extracting MFCC Feature for c:\\Users\\yasba\\OneDrive\\Documents\\Projects\\Audio_Classification_UrbanSound8K\\data\\raw\\fold5\\100852-0-0-4.wav]\n",
      "[2024-12-20 18:55:40,715: INFO: 414825919: Extracting MFCC Feature for c:\\Users\\yasba\\OneDrive\\Documents\\Projects\\Audio_Classification_UrbanSound8K\\data\\raw\\fold5\\100852-0-0-5.wav]\n",
      "[2024-12-20 18:55:40,757: INFO: 414825919: Extracting MFCC Feature for c:\\Users\\yasba\\OneDrive\\Documents\\Projects\\Audio_Classification_UrbanSound8K\\data\\raw\\fold5\\100852-0-0-6.wav]\n"
     ]
    },
    {
     "name": "stderr",
     "output_type": "stream",
     "text": [
      "50it [00:06, 23.95it/s]"
     ]
    },
    {
     "name": "stdout",
     "output_type": "stream",
     "text": [
      "[2024-12-20 18:55:40,797: INFO: 414825919: Extracting MFCC Feature for c:\\Users\\yasba\\OneDrive\\Documents\\Projects\\Audio_Classification_UrbanSound8K\\data\\raw\\fold5\\100852-0-0-7.wav]\n",
      "[2024-12-20 18:55:40,836: INFO: 414825919: Extracting MFCC Feature for c:\\Users\\yasba\\OneDrive\\Documents\\Projects\\Audio_Classification_UrbanSound8K\\data\\raw\\fold5\\100852-0-0-8.wav]\n",
      "[2024-12-20 18:55:40,880: INFO: 414825919: Extracting MFCC Feature for c:\\Users\\yasba\\OneDrive\\Documents\\Projects\\Audio_Classification_UrbanSound8K\\data\\raw\\fold5\\100852-0-0-9.wav]\n"
     ]
    },
    {
     "name": "stderr",
     "output_type": "stream",
     "text": [
      "53it [00:06, 23.75it/s]"
     ]
    },
    {
     "name": "stdout",
     "output_type": "stream",
     "text": [
      "[2024-12-20 18:55:40,927: INFO: 414825919: Extracting MFCC Feature for c:\\Users\\yasba\\OneDrive\\Documents\\Projects\\Audio_Classification_UrbanSound8K\\data\\raw\\fold6\\101281-3-0-0.wav]\n",
      "[2024-12-20 18:55:40,962: INFO: 414825919: Extracting MFCC Feature for c:\\Users\\yasba\\OneDrive\\Documents\\Projects\\Audio_Classification_UrbanSound8K\\data\\raw\\fold6\\101281-3-0-14.wav]\n",
      "[2024-12-20 18:55:41,010: INFO: 414825919: Extracting MFCC Feature for c:\\Users\\yasba\\OneDrive\\Documents\\Projects\\Audio_Classification_UrbanSound8K\\data\\raw\\fold6\\101281-3-0-5.wav]\n"
     ]
    },
    {
     "name": "stderr",
     "output_type": "stream",
     "text": [
      "56it [00:06, 23.26it/s]"
     ]
    },
    {
     "name": "stdout",
     "output_type": "stream",
     "text": [
      "[2024-12-20 18:55:41,064: INFO: 414825919: Extracting MFCC Feature for c:\\Users\\yasba\\OneDrive\\Documents\\Projects\\Audio_Classification_UrbanSound8K\\data\\raw\\fold10\\101382-2-0-10.wav]\n",
      "[2024-12-20 18:55:41,111: INFO: 414825919: Extracting MFCC Feature for c:\\Users\\yasba\\OneDrive\\Documents\\Projects\\Audio_Classification_UrbanSound8K\\data\\raw\\fold10\\101382-2-0-12.wav]\n",
      "[2024-12-20 18:55:41,160: INFO: 414825919: Extracting MFCC Feature for c:\\Users\\yasba\\OneDrive\\Documents\\Projects\\Audio_Classification_UrbanSound8K\\data\\raw\\fold10\\101382-2-0-20.wav]\n"
     ]
    },
    {
     "name": "stderr",
     "output_type": "stream",
     "text": [
      "59it [00:06, 22.35it/s]"
     ]
    },
    {
     "name": "stdout",
     "output_type": "stream",
     "text": [
      "[2024-12-20 18:55:41,210: INFO: 414825919: Extracting MFCC Feature for c:\\Users\\yasba\\OneDrive\\Documents\\Projects\\Audio_Classification_UrbanSound8K\\data\\raw\\fold10\\101382-2-0-21.wav]\n",
      "[2024-12-20 18:55:41,256: INFO: 414825919: Extracting MFCC Feature for c:\\Users\\yasba\\OneDrive\\Documents\\Projects\\Audio_Classification_UrbanSound8K\\data\\raw\\fold10\\101382-2-0-29.wav]\n",
      "[2024-12-20 18:55:41,307: INFO: 414825919: Extracting MFCC Feature for c:\\Users\\yasba\\OneDrive\\Documents\\Projects\\Audio_Classification_UrbanSound8K\\data\\raw\\fold10\\101382-2-0-33.wav]\n"
     ]
    },
    {
     "name": "stderr",
     "output_type": "stream",
     "text": [
      "62it [00:06, 21.79it/s]"
     ]
    },
    {
     "name": "stdout",
     "output_type": "stream",
     "text": [
      "[2024-12-20 18:55:41,358: INFO: 414825919: Extracting MFCC Feature for c:\\Users\\yasba\\OneDrive\\Documents\\Projects\\Audio_Classification_UrbanSound8K\\data\\raw\\fold10\\101382-2-0-42.wav]\n",
      "[2024-12-20 18:55:41,396: INFO: 414825919: Extracting MFCC Feature for c:\\Users\\yasba\\OneDrive\\Documents\\Projects\\Audio_Classification_UrbanSound8K\\data\\raw\\fold10\\101382-2-0-45.wav]\n",
      "[2024-12-20 18:55:41,438: INFO: 414825919: Extracting MFCC Feature for c:\\Users\\yasba\\OneDrive\\Documents\\Projects\\Audio_Classification_UrbanSound8K\\data\\raw\\fold1\\101415-3-0-2.wav]\n"
     ]
    },
    {
     "name": "stderr",
     "output_type": "stream",
     "text": [
      "65it [00:07, 22.89it/s]"
     ]
    },
    {
     "name": "stdout",
     "output_type": "stream",
     "text": [
      "[2024-12-20 18:55:41,473: INFO: 414825919: Extracting MFCC Feature for c:\\Users\\yasba\\OneDrive\\Documents\\Projects\\Audio_Classification_UrbanSound8K\\data\\raw\\fold1\\101415-3-0-3.wav]\n",
      "[2024-12-20 18:55:41,510: INFO: 414825919: Extracting MFCC Feature for c:\\Users\\yasba\\OneDrive\\Documents\\Projects\\Audio_Classification_UrbanSound8K\\data\\raw\\fold1\\101415-3-0-8.wav]\n",
      "[2024-12-20 18:55:41,545: INFO: 414825919: Extracting MFCC Feature for c:\\Users\\yasba\\OneDrive\\Documents\\Projects\\Audio_Classification_UrbanSound8K\\data\\raw\\fold9\\101729-0-0-1.wav]\n"
     ]
    },
    {
     "name": "stderr",
     "output_type": "stream",
     "text": [
      "68it [00:07, 23.52it/s]"
     ]
    },
    {
     "name": "stdout",
     "output_type": "stream",
     "text": [
      "[2024-12-20 18:55:41,591: INFO: 414825919: Extracting MFCC Feature for c:\\Users\\yasba\\OneDrive\\Documents\\Projects\\Audio_Classification_UrbanSound8K\\data\\raw\\fold9\\101729-0-0-11.wav]\n",
      "[2024-12-20 18:55:41,642: INFO: 414825919: Extracting MFCC Feature for c:\\Users\\yasba\\OneDrive\\Documents\\Projects\\Audio_Classification_UrbanSound8K\\data\\raw\\fold9\\101729-0-0-12.wav]\n",
      "[2024-12-20 18:55:41,677: INFO: 414825919: Extracting MFCC Feature for c:\\Users\\yasba\\OneDrive\\Documents\\Projects\\Audio_Classification_UrbanSound8K\\data\\raw\\fold9\\101729-0-0-13.wav]\n"
     ]
    },
    {
     "name": "stderr",
     "output_type": "stream",
     "text": [
      "71it [00:07, 23.17it/s]"
     ]
    },
    {
     "name": "stdout",
     "output_type": "stream",
     "text": [
      "[2024-12-20 18:55:41,725: INFO: 414825919: Extracting MFCC Feature for c:\\Users\\yasba\\OneDrive\\Documents\\Projects\\Audio_Classification_UrbanSound8K\\data\\raw\\fold9\\101729-0-0-14.wav]\n",
      "[2024-12-20 18:55:41,762: INFO: 414825919: Extracting MFCC Feature for c:\\Users\\yasba\\OneDrive\\Documents\\Projects\\Audio_Classification_UrbanSound8K\\data\\raw\\fold9\\101729-0-0-16.wav]\n",
      "[2024-12-20 18:55:41,802: INFO: 414825919: Extracting MFCC Feature for c:\\Users\\yasba\\OneDrive\\Documents\\Projects\\Audio_Classification_UrbanSound8K\\data\\raw\\fold9\\101729-0-0-17.wav]\n"
     ]
    },
    {
     "name": "stderr",
     "output_type": "stream",
     "text": [
      "74it [00:07, 24.02it/s]"
     ]
    },
    {
     "name": "stdout",
     "output_type": "stream",
     "text": [
      "[2024-12-20 18:55:41,840: INFO: 414825919: Extracting MFCC Feature for c:\\Users\\yasba\\OneDrive\\Documents\\Projects\\Audio_Classification_UrbanSound8K\\data\\raw\\fold9\\101729-0-0-18.wav]\n",
      "[2024-12-20 18:55:41,882: INFO: 414825919: Extracting MFCC Feature for c:\\Users\\yasba\\OneDrive\\Documents\\Projects\\Audio_Classification_UrbanSound8K\\data\\raw\\fold9\\101729-0-0-19.wav]\n",
      "[2024-12-20 18:55:41,927: INFO: 414825919: Extracting MFCC Feature for c:\\Users\\yasba\\OneDrive\\Documents\\Projects\\Audio_Classification_UrbanSound8K\\data\\raw\\fold9\\101729-0-0-21.wav]\n"
     ]
    },
    {
     "name": "stderr",
     "output_type": "stream",
     "text": [
      "77it [00:07, 23.26it/s]"
     ]
    },
    {
     "name": "stdout",
     "output_type": "stream",
     "text": [
      "[2024-12-20 18:55:41,977: INFO: 414825919: Extracting MFCC Feature for c:\\Users\\yasba\\OneDrive\\Documents\\Projects\\Audio_Classification_UrbanSound8K\\data\\raw\\fold9\\101729-0-0-22.wav]\n",
      "[2024-12-20 18:55:42,030: INFO: 414825919: Extracting MFCC Feature for c:\\Users\\yasba\\OneDrive\\Documents\\Projects\\Audio_Classification_UrbanSound8K\\data\\raw\\fold9\\101729-0-0-23.wav]\n",
      "[2024-12-20 18:55:42,086: INFO: 414825919: Extracting MFCC Feature for c:\\Users\\yasba\\OneDrive\\Documents\\Projects\\Audio_Classification_UrbanSound8K\\data\\raw\\fold9\\101729-0-0-24.wav]\n"
     ]
    },
    {
     "name": "stderr",
     "output_type": "stream",
     "text": [
      "80it [00:07, 22.25it/s]"
     ]
    },
    {
     "name": "stdout",
     "output_type": "stream",
     "text": [
      "[2024-12-20 18:55:42,126: INFO: 414825919: Extracting MFCC Feature for c:\\Users\\yasba\\OneDrive\\Documents\\Projects\\Audio_Classification_UrbanSound8K\\data\\raw\\fold9\\101729-0-0-26.wav]\n",
      "[2024-12-20 18:55:42,162: INFO: 414825919: Extracting MFCC Feature for c:\\Users\\yasba\\OneDrive\\Documents\\Projects\\Audio_Classification_UrbanSound8K\\data\\raw\\fold9\\101729-0-0-28.wav]\n",
      "[2024-12-20 18:55:42,207: INFO: 414825919: Extracting MFCC Feature for c:\\Users\\yasba\\OneDrive\\Documents\\Projects\\Audio_Classification_UrbanSound8K\\data\\raw\\fold9\\101729-0-0-29.wav]\n"
     ]
    },
    {
     "name": "stderr",
     "output_type": "stream",
     "text": [
      "83it [00:07, 22.57it/s]"
     ]
    },
    {
     "name": "stdout",
     "output_type": "stream",
     "text": [
      "[2024-12-20 18:55:42,256: INFO: 414825919: Extracting MFCC Feature for c:\\Users\\yasba\\OneDrive\\Documents\\Projects\\Audio_Classification_UrbanSound8K\\data\\raw\\fold9\\101729-0-0-3.wav]\n",
      "[2024-12-20 18:55:42,297: INFO: 414825919: Extracting MFCC Feature for c:\\Users\\yasba\\OneDrive\\Documents\\Projects\\Audio_Classification_UrbanSound8K\\data\\raw\\fold9\\101729-0-0-32.wav]\n",
      "[2024-12-20 18:55:42,342: INFO: 414825919: Extracting MFCC Feature for c:\\Users\\yasba\\OneDrive\\Documents\\Projects\\Audio_Classification_UrbanSound8K\\data\\raw\\fold9\\101729-0-0-33.wav]\n"
     ]
    },
    {
     "name": "stderr",
     "output_type": "stream",
     "text": [
      "86it [00:07, 22.65it/s]"
     ]
    },
    {
     "name": "stdout",
     "output_type": "stream",
     "text": [
      "[2024-12-20 18:55:42,387: INFO: 414825919: Extracting MFCC Feature for c:\\Users\\yasba\\OneDrive\\Documents\\Projects\\Audio_Classification_UrbanSound8K\\data\\raw\\fold9\\101729-0-0-36.wav]\n",
      "[2024-12-20 18:55:42,428: INFO: 414825919: Extracting MFCC Feature for c:\\Users\\yasba\\OneDrive\\Documents\\Projects\\Audio_Classification_UrbanSound8K\\data\\raw\\fold9\\101729-0-0-37.wav]\n",
      "[2024-12-20 18:55:42,476: INFO: 414825919: Extracting MFCC Feature for c:\\Users\\yasba\\OneDrive\\Documents\\Projects\\Audio_Classification_UrbanSound8K\\data\\raw\\fold9\\101729-0-0-38.wav]\n"
     ]
    },
    {
     "name": "stderr",
     "output_type": "stream",
     "text": [
      "89it [00:08, 22.50it/s]"
     ]
    },
    {
     "name": "stdout",
     "output_type": "stream",
     "text": [
      "[2024-12-20 18:55:42,522: INFO: 414825919: Extracting MFCC Feature for c:\\Users\\yasba\\OneDrive\\Documents\\Projects\\Audio_Classification_UrbanSound8K\\data\\raw\\fold9\\101729-0-0-39.wav]\n",
      "[2024-12-20 18:55:42,563: INFO: 414825919: Extracting MFCC Feature for c:\\Users\\yasba\\OneDrive\\Documents\\Projects\\Audio_Classification_UrbanSound8K\\data\\raw\\fold9\\101729-0-0-4.wav]\n",
      "[2024-12-20 18:55:42,612: INFO: 414825919: Extracting MFCC Feature for c:\\Users\\yasba\\OneDrive\\Documents\\Projects\\Audio_Classification_UrbanSound8K\\data\\raw\\fold9\\101729-0-0-40.wav]\n"
     ]
    },
    {
     "name": "stderr",
     "output_type": "stream",
     "text": [
      "92it [00:08, 21.95it/s]"
     ]
    },
    {
     "name": "stdout",
     "output_type": "stream",
     "text": [
      "[2024-12-20 18:55:42,673: INFO: 414825919: Extracting MFCC Feature for c:\\Users\\yasba\\OneDrive\\Documents\\Projects\\Audio_Classification_UrbanSound8K\\data\\raw\\fold9\\101729-0-0-6.wav]\n",
      "[2024-12-20 18:55:42,717: INFO: 414825919: Extracting MFCC Feature for c:\\Users\\yasba\\OneDrive\\Documents\\Projects\\Audio_Classification_UrbanSound8K\\data\\raw\\fold9\\101729-0-0-9.wav]\n",
      "[2024-12-20 18:55:42,759: INFO: 414825919: Extracting MFCC Feature for c:\\Users\\yasba\\OneDrive\\Documents\\Projects\\Audio_Classification_UrbanSound8K\\data\\raw\\fold7\\101848-9-0-0.wav]\n"
     ]
    },
    {
     "name": "stderr",
     "output_type": "stream",
     "text": [
      "95it [00:08, 22.12it/s]"
     ]
    },
    {
     "name": "stdout",
     "output_type": "stream",
     "text": [
      "[2024-12-20 18:55:42,798: INFO: 414825919: Extracting MFCC Feature for c:\\Users\\yasba\\OneDrive\\Documents\\Projects\\Audio_Classification_UrbanSound8K\\data\\raw\\fold7\\101848-9-0-1.wav]\n",
      "[2024-12-20 18:55:42,835: INFO: 414825919: Extracting MFCC Feature for c:\\Users\\yasba\\OneDrive\\Documents\\Projects\\Audio_Classification_UrbanSound8K\\data\\raw\\fold7\\101848-9-0-2.wav]\n",
      "[2024-12-20 18:55:42,876: INFO: 414825919: Extracting MFCC Feature for c:\\Users\\yasba\\OneDrive\\Documents\\Projects\\Audio_Classification_UrbanSound8K\\data\\raw\\fold7\\101848-9-0-3.wav]\n"
     ]
    },
    {
     "name": "stderr",
     "output_type": "stream",
     "text": [
      "98it [00:08, 22.65it/s]"
     ]
    },
    {
     "name": "stdout",
     "output_type": "stream",
     "text": [
      "[2024-12-20 18:55:42,926: INFO: 414825919: Extracting MFCC Feature for c:\\Users\\yasba\\OneDrive\\Documents\\Projects\\Audio_Classification_UrbanSound8K\\data\\raw\\fold7\\101848-9-0-8.wav]\n",
      "[2024-12-20 18:55:42,962: INFO: 414825919: Extracting MFCC Feature for c:\\Users\\yasba\\OneDrive\\Documents\\Projects\\Audio_Classification_UrbanSound8K\\data\\raw\\fold7\\101848-9-0-9.wav]\n",
      "[2024-12-20 18:55:43,066: INFO: 414825919: Extracting MFCC Feature for c:\\Users\\yasba\\OneDrive\\Documents\\Projects\\Audio_Classification_UrbanSound8K\\data\\raw\\fold4\\102102-3-0-0.wav]\n"
     ]
    },
    {
     "name": "stderr",
     "output_type": "stream",
     "text": [
      "101it [00:08, 20.39it/s]"
     ]
    },
    {
     "name": "stdout",
     "output_type": "stream",
     "text": [
      "[2024-12-20 18:55:43,106: INFO: 414825919: Extracting MFCC Feature for c:\\Users\\yasba\\OneDrive\\Documents\\Projects\\Audio_Classification_UrbanSound8K\\data\\raw\\fold10\\102103-3-0-0.wav]\n",
      "[2024-12-20 18:55:43,119: INFO: 414825919: Extracting MFCC Feature for c:\\Users\\yasba\\OneDrive\\Documents\\Projects\\Audio_Classification_UrbanSound8K\\data\\raw\\fold10\\102103-3-1-0.wav]\n",
      "[2024-12-20 18:55:43,135: INFO: 414825919: Extracting MFCC Feature for c:\\Users\\yasba\\OneDrive\\Documents\\Projects\\Audio_Classification_UrbanSound8K\\data\\raw\\fold2\\102104-3-0-0.wav]\n",
      "[2024-12-20 18:55:43,163: INFO: 414825919: Extracting MFCC Feature for c:\\Users\\yasba\\OneDrive\\Documents\\Projects\\Audio_Classification_UrbanSound8K\\data\\raw\\fold3\\102105-3-0-0.wav]\n"
     ]
    },
    {
     "name": "stderr",
     "output_type": "stream",
     "text": [
      "105it [00:08, 24.28it/s]"
     ]
    },
    {
     "name": "stdout",
     "output_type": "stream",
     "text": [
      "[2024-12-20 18:55:43,216: INFO: 414825919: Extracting MFCC Feature for c:\\Users\\yasba\\OneDrive\\Documents\\Projects\\Audio_Classification_UrbanSound8K\\data\\raw\\fold1\\102106-3-0-0.wav]\n",
      "[2024-12-20 18:55:43,246: INFO: 414825919: Extracting MFCC Feature for c:\\Users\\yasba\\OneDrive\\Documents\\Projects\\Audio_Classification_UrbanSound8K\\data\\raw\\fold1\\102305-6-0-0.wav]\n",
      "[2024-12-20 18:55:43,281: INFO: 414825919: Extracting MFCC Feature for c:\\Users\\yasba\\OneDrive\\Documents\\Projects\\Audio_Classification_UrbanSound8K\\data\\raw\\fold5\\102547-3-0-2.wav]\n"
     ]
    },
    {
     "name": "stderr",
     "output_type": "stream",
     "text": [
      "108it [00:08, 25.61it/s]"
     ]
    },
    {
     "name": "stdout",
     "output_type": "stream",
     "text": [
      "[2024-12-20 18:55:43,320: INFO: 414825919: Extracting MFCC Feature for c:\\Users\\yasba\\OneDrive\\Documents\\Projects\\Audio_Classification_UrbanSound8K\\data\\raw\\fold5\\102547-3-0-7.wav]\n",
      "[2024-12-20 18:55:43,348: INFO: 414825919: Extracting MFCC Feature for c:\\Users\\yasba\\OneDrive\\Documents\\Projects\\Audio_Classification_UrbanSound8K\\data\\raw\\fold5\\102547-3-0-8.wav]\n",
      "[2024-12-20 18:55:43,395: INFO: 414825919: Extracting MFCC Feature for c:\\Users\\yasba\\OneDrive\\Documents\\Projects\\Audio_Classification_UrbanSound8K\\data\\raw\\fold1\\102842-3-0-1.wav]\n"
     ]
    },
    {
     "name": "stderr",
     "output_type": "stream",
     "text": [
      "111it [00:09, 25.37it/s]"
     ]
    },
    {
     "name": "stdout",
     "output_type": "stream",
     "text": [
      "[2024-12-20 18:55:43,438: INFO: 414825919: Extracting MFCC Feature for c:\\Users\\yasba\\OneDrive\\Documents\\Projects\\Audio_Classification_UrbanSound8K\\data\\raw\\fold1\\102842-3-1-0.wav]\n",
      "[2024-12-20 18:55:43,474: INFO: 414825919: Extracting MFCC Feature for c:\\Users\\yasba\\OneDrive\\Documents\\Projects\\Audio_Classification_UrbanSound8K\\data\\raw\\fold1\\102842-3-1-5.wav]\n",
      "[2024-12-20 18:55:43,521: INFO: 414825919: Extracting MFCC Feature for c:\\Users\\yasba\\OneDrive\\Documents\\Projects\\Audio_Classification_UrbanSound8K\\data\\raw\\fold1\\102842-3-1-6.wav]\n"
     ]
    },
    {
     "name": "stderr",
     "output_type": "stream",
     "text": [
      "114it [00:09, 24.93it/s]"
     ]
    },
    {
     "name": "stdout",
     "output_type": "stream",
     "text": [
      "[2024-12-20 18:55:43,563: INFO: 414825919: Extracting MFCC Feature for c:\\Users\\yasba\\OneDrive\\Documents\\Projects\\Audio_Classification_UrbanSound8K\\data\\raw\\fold7\\102853-8-0-0.wav]\n",
      "[2024-12-20 18:55:43,602: INFO: 414825919: Extracting MFCC Feature for c:\\Users\\yasba\\OneDrive\\Documents\\Projects\\Audio_Classification_UrbanSound8K\\data\\raw\\fold7\\102853-8-0-1.wav]\n",
      "[2024-12-20 18:55:43,642: INFO: 414825919: Extracting MFCC Feature for c:\\Users\\yasba\\OneDrive\\Documents\\Projects\\Audio_Classification_UrbanSound8K\\data\\raw\\fold7\\102853-8-0-2.wav]\n"
     ]
    },
    {
     "name": "stderr",
     "output_type": "stream",
     "text": [
      "117it [00:09, 25.13it/s]"
     ]
    },
    {
     "name": "stdout",
     "output_type": "stream",
     "text": [
      "[2024-12-20 18:55:43,679: INFO: 414825919: Extracting MFCC Feature for c:\\Users\\yasba\\OneDrive\\Documents\\Projects\\Audio_Classification_UrbanSound8K\\data\\raw\\fold7\\102853-8-0-3.wav]\n",
      "[2024-12-20 18:55:43,713: INFO: 414825919: Extracting MFCC Feature for c:\\Users\\yasba\\OneDrive\\Documents\\Projects\\Audio_Classification_UrbanSound8K\\data\\raw\\fold7\\102853-8-0-4.wav]\n",
      "[2024-12-20 18:55:43,758: INFO: 414825919: Extracting MFCC Feature for c:\\Users\\yasba\\OneDrive\\Documents\\Projects\\Audio_Classification_UrbanSound8K\\data\\raw\\fold7\\102853-8-0-5.wav]\n"
     ]
    },
    {
     "name": "stderr",
     "output_type": "stream",
     "text": [
      "120it [00:09, 25.20it/s]"
     ]
    },
    {
     "name": "stdout",
     "output_type": "stream",
     "text": [
      "[2024-12-20 18:55:43,800: INFO: 414825919: Extracting MFCC Feature for c:\\Users\\yasba\\OneDrive\\Documents\\Projects\\Audio_Classification_UrbanSound8K\\data\\raw\\fold7\\102853-8-0-6.wav]\n",
      "[2024-12-20 18:55:43,832: INFO: 414825919: Extracting MFCC Feature for c:\\Users\\yasba\\OneDrive\\Documents\\Projects\\Audio_Classification_UrbanSound8K\\data\\raw\\fold7\\102853-8-1-0.wav]\n",
      "[2024-12-20 18:55:43,881: INFO: 414825919: Extracting MFCC Feature for c:\\Users\\yasba\\OneDrive\\Documents\\Projects\\Audio_Classification_UrbanSound8K\\data\\raw\\fold10\\102857-5-0-0.wav]\n"
     ]
    },
    {
     "name": "stderr",
     "output_type": "stream",
     "text": [
      "123it [00:09, 24.77it/s]"
     ]
    },
    {
     "name": "stdout",
     "output_type": "stream",
     "text": [
      "[2024-12-20 18:55:43,922: INFO: 414825919: Extracting MFCC Feature for c:\\Users\\yasba\\OneDrive\\Documents\\Projects\\Audio_Classification_UrbanSound8K\\data\\raw\\fold10\\102857-5-0-1.wav]\n",
      "[2024-12-20 18:55:43,963: INFO: 414825919: Extracting MFCC Feature for c:\\Users\\yasba\\OneDrive\\Documents\\Projects\\Audio_Classification_UrbanSound8K\\data\\raw\\fold10\\102857-5-0-10.wav]\n",
      "[2024-12-20 18:55:44,010: INFO: 414825919: Extracting MFCC Feature for c:\\Users\\yasba\\OneDrive\\Documents\\Projects\\Audio_Classification_UrbanSound8K\\data\\raw\\fold10\\102857-5-0-11.wav]\n"
     ]
    },
    {
     "name": "stderr",
     "output_type": "stream",
     "text": [
      "126it [00:09, 24.47it/s]"
     ]
    },
    {
     "name": "stdout",
     "output_type": "stream",
     "text": [
      "[2024-12-20 18:55:44,051: INFO: 414825919: Extracting MFCC Feature for c:\\Users\\yasba\\OneDrive\\Documents\\Projects\\Audio_Classification_UrbanSound8K\\data\\raw\\fold10\\102857-5-0-12.wav]\n",
      "[2024-12-20 18:55:44,093: INFO: 414825919: Extracting MFCC Feature for c:\\Users\\yasba\\OneDrive\\Documents\\Projects\\Audio_Classification_UrbanSound8K\\data\\raw\\fold10\\102857-5-0-13.wav]\n",
      "[2024-12-20 18:55:44,138: INFO: 414825919: Extracting MFCC Feature for c:\\Users\\yasba\\OneDrive\\Documents\\Projects\\Audio_Classification_UrbanSound8K\\data\\raw\\fold10\\102857-5-0-14.wav]\n"
     ]
    },
    {
     "name": "stderr",
     "output_type": "stream",
     "text": [
      "129it [00:09, 23.91it/s]"
     ]
    },
    {
     "name": "stdout",
     "output_type": "stream",
     "text": [
      "[2024-12-20 18:55:44,184: INFO: 414825919: Extracting MFCC Feature for c:\\Users\\yasba\\OneDrive\\Documents\\Projects\\Audio_Classification_UrbanSound8K\\data\\raw\\fold10\\102857-5-0-15.wav]\n",
      "[2024-12-20 18:55:44,221: INFO: 414825919: Extracting MFCC Feature for c:\\Users\\yasba\\OneDrive\\Documents\\Projects\\Audio_Classification_UrbanSound8K\\data\\raw\\fold10\\102857-5-0-16.wav]\n",
      "[2024-12-20 18:55:44,263: INFO: 414825919: Extracting MFCC Feature for c:\\Users\\yasba\\OneDrive\\Documents\\Projects\\Audio_Classification_UrbanSound8K\\data\\raw\\fold10\\102857-5-0-17.wav]\n"
     ]
    },
    {
     "name": "stderr",
     "output_type": "stream",
     "text": [
      "132it [00:09, 23.66it/s]"
     ]
    },
    {
     "name": "stdout",
     "output_type": "stream",
     "text": [
      "[2024-12-20 18:55:44,310: INFO: 414825919: Extracting MFCC Feature for c:\\Users\\yasba\\OneDrive\\Documents\\Projects\\Audio_Classification_UrbanSound8K\\data\\raw\\fold10\\102857-5-0-18.wav]\n",
      "[2024-12-20 18:55:44,353: INFO: 414825919: Extracting MFCC Feature for c:\\Users\\yasba\\OneDrive\\Documents\\Projects\\Audio_Classification_UrbanSound8K\\data\\raw\\fold10\\102857-5-0-19.wav]\n",
      "[2024-12-20 18:55:44,409: INFO: 414825919: Extracting MFCC Feature for c:\\Users\\yasba\\OneDrive\\Documents\\Projects\\Audio_Classification_UrbanSound8K\\data\\raw\\fold10\\102857-5-0-2.wav]\n"
     ]
    },
    {
     "name": "stderr",
     "output_type": "stream",
     "text": [
      "135it [00:10, 22.81it/s]"
     ]
    },
    {
     "name": "stdout",
     "output_type": "stream",
     "text": [
      "[2024-12-20 18:55:44,454: INFO: 414825919: Extracting MFCC Feature for c:\\Users\\yasba\\OneDrive\\Documents\\Projects\\Audio_Classification_UrbanSound8K\\data\\raw\\fold10\\102857-5-0-20.wav]\n",
      "[2024-12-20 18:55:44,491: INFO: 414825919: Extracting MFCC Feature for c:\\Users\\yasba\\OneDrive\\Documents\\Projects\\Audio_Classification_UrbanSound8K\\data\\raw\\fold10\\102857-5-0-21.wav]\n",
      "[2024-12-20 18:55:44,530: INFO: 414825919: Extracting MFCC Feature for c:\\Users\\yasba\\OneDrive\\Documents\\Projects\\Audio_Classification_UrbanSound8K\\data\\raw\\fold10\\102857-5-0-22.wav]\n"
     ]
    },
    {
     "name": "stderr",
     "output_type": "stream",
     "text": [
      "138it [00:10, 23.93it/s]"
     ]
    },
    {
     "name": "stdout",
     "output_type": "stream",
     "text": [
      "[2024-12-20 18:55:44,567: INFO: 414825919: Extracting MFCC Feature for c:\\Users\\yasba\\OneDrive\\Documents\\Projects\\Audio_Classification_UrbanSound8K\\data\\raw\\fold10\\102857-5-0-23.wav]\n",
      "[2024-12-20 18:55:44,612: INFO: 414825919: Extracting MFCC Feature for c:\\Users\\yasba\\OneDrive\\Documents\\Projects\\Audio_Classification_UrbanSound8K\\data\\raw\\fold10\\102857-5-0-24.wav]\n",
      "[2024-12-20 18:55:44,684: INFO: 414825919: Extracting MFCC Feature for c:\\Users\\yasba\\OneDrive\\Documents\\Projects\\Audio_Classification_UrbanSound8K\\data\\raw\\fold10\\102857-5-0-25.wav]\n"
     ]
    },
    {
     "name": "stderr",
     "output_type": "stream",
     "text": [
      "141it [00:10, 21.10it/s]"
     ]
    },
    {
     "name": "stdout",
     "output_type": "stream",
     "text": [
      "[2024-12-20 18:55:44,747: INFO: 414825919: Extracting MFCC Feature for c:\\Users\\yasba\\OneDrive\\Documents\\Projects\\Audio_Classification_UrbanSound8K\\data\\raw\\fold10\\102857-5-0-26.wav]\n",
      "[2024-12-20 18:55:44,800: INFO: 414825919: Extracting MFCC Feature for c:\\Users\\yasba\\OneDrive\\Documents\\Projects\\Audio_Classification_UrbanSound8K\\data\\raw\\fold10\\102857-5-0-27.wav]\n",
      "[2024-12-20 18:55:44,846: INFO: 414825919: Extracting MFCC Feature for c:\\Users\\yasba\\OneDrive\\Documents\\Projects\\Audio_Classification_UrbanSound8K\\data\\raw\\fold10\\102857-5-0-28.wav]\n"
     ]
    },
    {
     "name": "stderr",
     "output_type": "stream",
     "text": [
      "144it [00:10, 21.22it/s]"
     ]
    },
    {
     "name": "stdout",
     "output_type": "stream",
     "text": [
      "[2024-12-20 18:55:44,888: INFO: 414825919: Extracting MFCC Feature for c:\\Users\\yasba\\OneDrive\\Documents\\Projects\\Audio_Classification_UrbanSound8K\\data\\raw\\fold10\\102857-5-0-29.wav]\n",
      "[2024-12-20 18:55:44,920: INFO: 414825919: Extracting MFCC Feature for c:\\Users\\yasba\\OneDrive\\Documents\\Projects\\Audio_Classification_UrbanSound8K\\data\\raw\\fold10\\102857-5-0-3.wav]\n",
      "[2024-12-20 18:55:44,953: INFO: 414825919: Extracting MFCC Feature for c:\\Users\\yasba\\OneDrive\\Documents\\Projects\\Audio_Classification_UrbanSound8K\\data\\raw\\fold10\\102857-5-0-30.wav]\n"
     ]
    },
    {
     "name": "stderr",
     "output_type": "stream",
     "text": [
      "147it [00:10, 22.87it/s]"
     ]
    },
    {
     "name": "stdout",
     "output_type": "stream",
     "text": [
      "[2024-12-20 18:55:44,994: INFO: 414825919: Extracting MFCC Feature for c:\\Users\\yasba\\OneDrive\\Documents\\Projects\\Audio_Classification_UrbanSound8K\\data\\raw\\fold10\\102857-5-0-4.wav]\n",
      "[2024-12-20 18:55:45,030: INFO: 414825919: Extracting MFCC Feature for c:\\Users\\yasba\\OneDrive\\Documents\\Projects\\Audio_Classification_UrbanSound8K\\data\\raw\\fold10\\102857-5-0-5.wav]\n",
      "[2024-12-20 18:55:45,068: INFO: 414825919: Extracting MFCC Feature for c:\\Users\\yasba\\OneDrive\\Documents\\Projects\\Audio_Classification_UrbanSound8K\\data\\raw\\fold10\\102857-5-0-6.wav]\n"
     ]
    },
    {
     "name": "stderr",
     "output_type": "stream",
     "text": [
      "150it [00:10, 23.66it/s]"
     ]
    },
    {
     "name": "stdout",
     "output_type": "stream",
     "text": [
      "[2024-12-20 18:55:45,115: INFO: 414825919: Extracting MFCC Feature for c:\\Users\\yasba\\OneDrive\\Documents\\Projects\\Audio_Classification_UrbanSound8K\\data\\raw\\fold10\\102857-5-0-7.wav]\n",
      "[2024-12-20 18:55:45,155: INFO: 414825919: Extracting MFCC Feature for c:\\Users\\yasba\\OneDrive\\Documents\\Projects\\Audio_Classification_UrbanSound8K\\data\\raw\\fold10\\102857-5-0-8.wav]\n",
      "[2024-12-20 18:55:45,196: INFO: 414825919: Extracting MFCC Feature for c:\\Users\\yasba\\OneDrive\\Documents\\Projects\\Audio_Classification_UrbanSound8K\\data\\raw\\fold10\\102857-5-0-9.wav]\n"
     ]
    },
    {
     "name": "stderr",
     "output_type": "stream",
     "text": [
      "153it [00:10, 23.75it/s]"
     ]
    },
    {
     "name": "stdout",
     "output_type": "stream",
     "text": [
      "[2024-12-20 18:55:45,235: INFO: 414825919: Extracting MFCC Feature for c:\\Users\\yasba\\OneDrive\\Documents\\Projects\\Audio_Classification_UrbanSound8K\\data\\raw\\fold2\\102858-5-0-0.wav]\n",
      "[2024-12-20 18:55:45,281: INFO: 414825919: Extracting MFCC Feature for c:\\Users\\yasba\\OneDrive\\Documents\\Projects\\Audio_Classification_UrbanSound8K\\data\\raw\\fold2\\102858-5-0-1.wav]\n",
      "[2024-12-20 18:55:45,322: INFO: 414825919: Extracting MFCC Feature for c:\\Users\\yasba\\OneDrive\\Documents\\Projects\\Audio_Classification_UrbanSound8K\\data\\raw\\fold2\\102871-8-0-0.wav]\n"
     ]
    },
    {
     "name": "stderr",
     "output_type": "stream",
     "text": [
      "156it [00:10, 23.52it/s]"
     ]
    },
    {
     "name": "stdout",
     "output_type": "stream",
     "text": [
      "[2024-12-20 18:55:45,368: INFO: 414825919: Extracting MFCC Feature for c:\\Users\\yasba\\OneDrive\\Documents\\Projects\\Audio_Classification_UrbanSound8K\\data\\raw\\fold2\\102871-8-0-1.wav]\n",
      "[2024-12-20 18:55:45,407: INFO: 414825919: Extracting MFCC Feature for c:\\Users\\yasba\\OneDrive\\Documents\\Projects\\Audio_Classification_UrbanSound8K\\data\\raw\\fold2\\102871-8-0-10.wav]\n",
      "[2024-12-20 18:55:45,447: INFO: 414825919: Extracting MFCC Feature for c:\\Users\\yasba\\OneDrive\\Documents\\Projects\\Audio_Classification_UrbanSound8K\\data\\raw\\fold2\\102871-8-0-11.wav]\n"
     ]
    },
    {
     "name": "stderr",
     "output_type": "stream",
     "text": [
      "159it [00:11, 23.72it/s]"
     ]
    },
    {
     "name": "stdout",
     "output_type": "stream",
     "text": [
      "[2024-12-20 18:55:45,491: INFO: 414825919: Extracting MFCC Feature for c:\\Users\\yasba\\OneDrive\\Documents\\Projects\\Audio_Classification_UrbanSound8K\\data\\raw\\fold2\\102871-8-0-12.wav]\n",
      "[2024-12-20 18:55:45,542: INFO: 414825919: Extracting MFCC Feature for c:\\Users\\yasba\\OneDrive\\Documents\\Projects\\Audio_Classification_UrbanSound8K\\data\\raw\\fold2\\102871-8-0-13.wav]\n",
      "[2024-12-20 18:55:45,591: INFO: 414825919: Extracting MFCC Feature for c:\\Users\\yasba\\OneDrive\\Documents\\Projects\\Audio_Classification_UrbanSound8K\\data\\raw\\fold2\\102871-8-0-14.wav]\n"
     ]
    },
    {
     "name": "stderr",
     "output_type": "stream",
     "text": [
      "162it [00:11, 22.19it/s]"
     ]
    },
    {
     "name": "stdout",
     "output_type": "stream",
     "text": [
      "[2024-12-20 18:55:45,646: INFO: 414825919: Extracting MFCC Feature for c:\\Users\\yasba\\OneDrive\\Documents\\Projects\\Audio_Classification_UrbanSound8K\\data\\raw\\fold2\\102871-8-0-15.wav]\n",
      "[2024-12-20 18:55:45,702: INFO: 414825919: Extracting MFCC Feature for c:\\Users\\yasba\\OneDrive\\Documents\\Projects\\Audio_Classification_UrbanSound8K\\data\\raw\\fold2\\102871-8-0-2.wav]\n",
      "[2024-12-20 18:55:45,742: INFO: 414825919: Extracting MFCC Feature for c:\\Users\\yasba\\OneDrive\\Documents\\Projects\\Audio_Classification_UrbanSound8K\\data\\raw\\fold2\\102871-8-0-3.wav]\n"
     ]
    },
    {
     "name": "stderr",
     "output_type": "stream",
     "text": [
      "165it [00:11, 21.76it/s]"
     ]
    },
    {
     "name": "stdout",
     "output_type": "stream",
     "text": [
      "[2024-12-20 18:55:45,793: INFO: 414825919: Extracting MFCC Feature for c:\\Users\\yasba\\OneDrive\\Documents\\Projects\\Audio_Classification_UrbanSound8K\\data\\raw\\fold2\\102871-8-0-4.wav]\n",
      "[2024-12-20 18:55:45,830: INFO: 414825919: Extracting MFCC Feature for c:\\Users\\yasba\\OneDrive\\Documents\\Projects\\Audio_Classification_UrbanSound8K\\data\\raw\\fold2\\102871-8-0-5.wav]\n",
      "[2024-12-20 18:55:45,884: INFO: 414825919: Extracting MFCC Feature for c:\\Users\\yasba\\OneDrive\\Documents\\Projects\\Audio_Classification_UrbanSound8K\\data\\raw\\fold2\\102871-8-0-6.wav]\n"
     ]
    },
    {
     "name": "stderr",
     "output_type": "stream",
     "text": [
      "168it [00:11, 22.02it/s]"
     ]
    },
    {
     "name": "stdout",
     "output_type": "stream",
     "text": [
      "[2024-12-20 18:55:45,922: INFO: 414825919: Extracting MFCC Feature for c:\\Users\\yasba\\OneDrive\\Documents\\Projects\\Audio_Classification_UrbanSound8K\\data\\raw\\fold2\\102871-8-0-7.wav]\n",
      "[2024-12-20 18:55:45,959: INFO: 414825919: Extracting MFCC Feature for c:\\Users\\yasba\\OneDrive\\Documents\\Projects\\Audio_Classification_UrbanSound8K\\data\\raw\\fold2\\102871-8-0-8.wav]\n",
      "[2024-12-20 18:55:46,005: INFO: 414825919: Extracting MFCC Feature for c:\\Users\\yasba\\OneDrive\\Documents\\Projects\\Audio_Classification_UrbanSound8K\\data\\raw\\fold2\\102871-8-0-9.wav]\n"
     ]
    },
    {
     "name": "stderr",
     "output_type": "stream",
     "text": [
      "171it [00:11, 22.38it/s]"
     ]
    },
    {
     "name": "stdout",
     "output_type": "stream",
     "text": [
      "[2024-12-20 18:55:46,053: INFO: 414825919: Extracting MFCC Feature for c:\\Users\\yasba\\OneDrive\\Documents\\Projects\\Audio_Classification_UrbanSound8K\\data\\raw\\fold1\\103074-7-0-0.wav]\n",
      "[2024-12-20 18:55:46,094: INFO: 414825919: Extracting MFCC Feature for c:\\Users\\yasba\\OneDrive\\Documents\\Projects\\Audio_Classification_UrbanSound8K\\data\\raw\\fold1\\103074-7-0-1.wav]\n",
      "[2024-12-20 18:55:46,135: INFO: 414825919: Extracting MFCC Feature for c:\\Users\\yasba\\OneDrive\\Documents\\Projects\\Audio_Classification_UrbanSound8K\\data\\raw\\fold1\\103074-7-0-2.wav]\n"
     ]
    },
    {
     "name": "stderr",
     "output_type": "stream",
     "text": [
      "174it [00:11, 22.66it/s]"
     ]
    },
    {
     "name": "stdout",
     "output_type": "stream",
     "text": [
      "[2024-12-20 18:55:46,179: INFO: 414825919: Extracting MFCC Feature for c:\\Users\\yasba\\OneDrive\\Documents\\Projects\\Audio_Classification_UrbanSound8K\\data\\raw\\fold1\\103074-7-1-0.wav]\n",
      "[2024-12-20 18:55:46,221: INFO: 414825919: Extracting MFCC Feature for c:\\Users\\yasba\\OneDrive\\Documents\\Projects\\Audio_Classification_UrbanSound8K\\data\\raw\\fold1\\103074-7-1-1.wav]\n",
      "[2024-12-20 18:55:46,346: INFO: 414825919: Extracting MFCC Feature for c:\\Users\\yasba\\OneDrive\\Documents\\Projects\\Audio_Classification_UrbanSound8K\\data\\raw\\fold1\\103074-7-1-2.wav]\n"
     ]
    },
    {
     "name": "stderr",
     "output_type": "stream",
     "text": [
      "177it [00:11, 19.00it/s]"
     ]
    },
    {
     "name": "stdout",
     "output_type": "stream",
     "text": [
      "[2024-12-20 18:55:46,396: INFO: 414825919: Extracting MFCC Feature for c:\\Users\\yasba\\OneDrive\\Documents\\Projects\\Audio_Classification_UrbanSound8K\\data\\raw\\fold1\\103074-7-1-3.wav]\n",
      "[2024-12-20 18:55:46,426: INFO: 414825919: Extracting MFCC Feature for c:\\Users\\yasba\\OneDrive\\Documents\\Projects\\Audio_Classification_UrbanSound8K\\data\\raw\\fold1\\103074-7-1-4.wav]\n",
      "[2024-12-20 18:55:46,479: INFO: 414825919: Extracting MFCC Feature for c:\\Users\\yasba\\OneDrive\\Documents\\Projects\\Audio_Classification_UrbanSound8K\\data\\raw\\fold1\\103074-7-1-5.wav]\n"
     ]
    },
    {
     "name": "stderr",
     "output_type": "stream",
     "text": [
      "180it [00:12, 19.91it/s]"
     ]
    },
    {
     "name": "stdout",
     "output_type": "stream",
     "text": [
      "[2024-12-20 18:55:46,539: INFO: 414825919: Extracting MFCC Feature for c:\\Users\\yasba\\OneDrive\\Documents\\Projects\\Audio_Classification_UrbanSound8K\\data\\raw\\fold1\\103074-7-1-6.wav]\n",
      "[2024-12-20 18:55:46,587: INFO: 414825919: Extracting MFCC Feature for c:\\Users\\yasba\\OneDrive\\Documents\\Projects\\Audio_Classification_UrbanSound8K\\data\\raw\\fold1\\103074-7-2-0.wav]\n",
      "[2024-12-20 18:55:46,609: INFO: 414825919: Extracting MFCC Feature for c:\\Users\\yasba\\OneDrive\\Documents\\Projects\\Audio_Classification_UrbanSound8K\\data\\raw\\fold1\\103074-7-3-0.wav]\n"
     ]
    },
    {
     "name": "stderr",
     "output_type": "stream",
     "text": [
      "183it [00:12, 21.10it/s]"
     ]
    },
    {
     "name": "stdout",
     "output_type": "stream",
     "text": [
      "[2024-12-20 18:55:46,654: INFO: 414825919: Extracting MFCC Feature for c:\\Users\\yasba\\OneDrive\\Documents\\Projects\\Audio_Classification_UrbanSound8K\\data\\raw\\fold1\\103074-7-3-1.wav]\n",
      "[2024-12-20 18:55:46,696: INFO: 414825919: Extracting MFCC Feature for c:\\Users\\yasba\\OneDrive\\Documents\\Projects\\Audio_Classification_UrbanSound8K\\data\\raw\\fold1\\103074-7-3-2.wav]\n",
      "[2024-12-20 18:55:46,740: INFO: 414825919: Extracting MFCC Feature for c:\\Users\\yasba\\OneDrive\\Documents\\Projects\\Audio_Classification_UrbanSound8K\\data\\raw\\fold1\\103074-7-3-3.wav]\n"
     ]
    },
    {
     "name": "stderr",
     "output_type": "stream",
     "text": [
      "186it [00:12, 21.76it/s]"
     ]
    },
    {
     "name": "stdout",
     "output_type": "stream",
     "text": [
      "[2024-12-20 18:55:46,781: INFO: 414825919: Extracting MFCC Feature for c:\\Users\\yasba\\OneDrive\\Documents\\Projects\\Audio_Classification_UrbanSound8K\\data\\raw\\fold1\\103074-7-4-0.wav]\n",
      "[2024-12-20 18:55:46,830: INFO: 414825919: Extracting MFCC Feature for c:\\Users\\yasba\\OneDrive\\Documents\\Projects\\Audio_Classification_UrbanSound8K\\data\\raw\\fold1\\103074-7-4-1.wav]\n",
      "[2024-12-20 18:55:46,877: INFO: 414825919: Extracting MFCC Feature for c:\\Users\\yasba\\OneDrive\\Documents\\Projects\\Audio_Classification_UrbanSound8K\\data\\raw\\fold1\\103074-7-4-2.wav]\n"
     ]
    },
    {
     "name": "stderr",
     "output_type": "stream",
     "text": [
      "189it [00:12, 21.54it/s]"
     ]
    },
    {
     "name": "stdout",
     "output_type": "stream",
     "text": [
      "[2024-12-20 18:55:46,923: INFO: 414825919: Extracting MFCC Feature for c:\\Users\\yasba\\OneDrive\\Documents\\Projects\\Audio_Classification_UrbanSound8K\\data\\raw\\fold1\\103074-7-4-3.wav]\n",
      "[2024-12-20 18:55:46,965: INFO: 414825919: Extracting MFCC Feature for c:\\Users\\yasba\\OneDrive\\Documents\\Projects\\Audio_Classification_UrbanSound8K\\data\\raw\\fold1\\103074-7-4-4.wav]\n",
      "[2024-12-20 18:55:47,011: INFO: 414825919: Extracting MFCC Feature for c:\\Users\\yasba\\OneDrive\\Documents\\Projects\\Audio_Classification_UrbanSound8K\\data\\raw\\fold1\\103074-7-4-5.wav]\n"
     ]
    },
    {
     "name": "stderr",
     "output_type": "stream",
     "text": [
      "192it [00:12, 21.92it/s]"
     ]
    },
    {
     "name": "stdout",
     "output_type": "stream",
     "text": [
      "[2024-12-20 18:55:47,055: INFO: 414825919: Extracting MFCC Feature for c:\\Users\\yasba\\OneDrive\\Documents\\Projects\\Audio_Classification_UrbanSound8K\\data\\raw\\fold1\\103074-7-4-6.wav]\n",
      "[2024-12-20 18:55:47,109: INFO: 414825919: Extracting MFCC Feature for c:\\Users\\yasba\\OneDrive\\Documents\\Projects\\Audio_Classification_UrbanSound8K\\data\\raw\\fold8\\103076-3-0-0.wav]\n",
      "[2024-12-20 18:55:47,141: INFO: 414825919: Extracting MFCC Feature for c:\\Users\\yasba\\OneDrive\\Documents\\Projects\\Audio_Classification_UrbanSound8K\\data\\raw\\fold8\\103076-3-1-0.wav]\n"
     ]
    },
    {
     "name": "stderr",
     "output_type": "stream",
     "text": [
      "195it [00:12, 23.35it/s]"
     ]
    },
    {
     "name": "stdout",
     "output_type": "stream",
     "text": [
      "[2024-12-20 18:55:47,168: INFO: 414825919: Extracting MFCC Feature for c:\\Users\\yasba\\OneDrive\\Documents\\Projects\\Audio_Classification_UrbanSound8K\\data\\raw\\fold8\\103076-3-2-0.wav]\n",
      "[2024-12-20 18:55:47,192: INFO: 414825919: Extracting MFCC Feature for c:\\Users\\yasba\\OneDrive\\Documents\\Projects\\Audio_Classification_UrbanSound8K\\data\\raw\\fold3\\103199-4-0-0.wav]\n",
      "[2024-12-20 18:55:47,231: INFO: 414825919: Extracting MFCC Feature for c:\\Users\\yasba\\OneDrive\\Documents\\Projects\\Audio_Classification_UrbanSound8K\\data\\raw\\fold3\\103199-4-0-3.wav]\n"
     ]
    },
    {
     "name": "stderr",
     "output_type": "stream",
     "text": [
      "198it [00:12, 24.08it/s]"
     ]
    },
    {
     "name": "stdout",
     "output_type": "stream",
     "text": [
      "[2024-12-20 18:55:47,279: INFO: 414825919: Extracting MFCC Feature for c:\\Users\\yasba\\OneDrive\\Documents\\Projects\\Audio_Classification_UrbanSound8K\\data\\raw\\fold3\\103199-4-0-4.wav]\n",
      "[2024-12-20 18:55:47,323: INFO: 414825919: Extracting MFCC Feature for c:\\Users\\yasba\\OneDrive\\Documents\\Projects\\Audio_Classification_UrbanSound8K\\data\\raw\\fold3\\103199-4-0-5.wav]\n",
      "[2024-12-20 18:55:47,365: INFO: 414825919: Extracting MFCC Feature for c:\\Users\\yasba\\OneDrive\\Documents\\Projects\\Audio_Classification_UrbanSound8K\\data\\raw\\fold3\\103199-4-0-6.wav]\n"
     ]
    },
    {
     "name": "stderr",
     "output_type": "stream",
     "text": [
      "201it [00:13, 23.90it/s]"
     ]
    },
    {
     "name": "stdout",
     "output_type": "stream",
     "text": [
      "[2024-12-20 18:55:47,407: INFO: 414825919: Extracting MFCC Feature for c:\\Users\\yasba\\OneDrive\\Documents\\Projects\\Audio_Classification_UrbanSound8K\\data\\raw\\fold3\\103199-4-1-0.wav]\n",
      "[2024-12-20 18:55:47,432: INFO: 414825919: Extracting MFCC Feature for c:\\Users\\yasba\\OneDrive\\Documents\\Projects\\Audio_Classification_UrbanSound8K\\data\\raw\\fold3\\103199-4-2-0.wav]\n",
      "[2024-12-20 18:55:47,469: INFO: 414825919: Extracting MFCC Feature for c:\\Users\\yasba\\OneDrive\\Documents\\Projects\\Audio_Classification_UrbanSound8K\\data\\raw\\fold3\\103199-4-2-1.wav]\n",
      "[2024-12-20 18:55:47,505: INFO: 414825919: Extracting MFCC Feature for c:\\Users\\yasba\\OneDrive\\Documents\\Projects\\Audio_Classification_UrbanSound8K\\data\\raw\\fold3\\103199-4-2-10.wav]\n"
     ]
    },
    {
     "name": "stderr",
     "output_type": "stream",
     "text": [
      "205it [00:13, 25.54it/s]"
     ]
    },
    {
     "name": "stdout",
     "output_type": "stream",
     "text": [
      "[2024-12-20 18:55:47,547: INFO: 414825919: Extracting MFCC Feature for c:\\Users\\yasba\\OneDrive\\Documents\\Projects\\Audio_Classification_UrbanSound8K\\data\\raw\\fold3\\103199-4-2-11.wav]\n",
      "[2024-12-20 18:55:47,584: INFO: 414825919: Extracting MFCC Feature for c:\\Users\\yasba\\OneDrive\\Documents\\Projects\\Audio_Classification_UrbanSound8K\\data\\raw\\fold3\\103199-4-2-2.wav]\n",
      "[2024-12-20 18:55:47,624: INFO: 414825919: Extracting MFCC Feature for c:\\Users\\yasba\\OneDrive\\Documents\\Projects\\Audio_Classification_UrbanSound8K\\data\\raw\\fold3\\103199-4-2-3.wav]\n"
     ]
    },
    {
     "name": "stderr",
     "output_type": "stream",
     "text": [
      "208it [00:13, 25.56it/s]"
     ]
    },
    {
     "name": "stdout",
     "output_type": "stream",
     "text": [
      "[2024-12-20 18:55:47,662: INFO: 414825919: Extracting MFCC Feature for c:\\Users\\yasba\\OneDrive\\Documents\\Projects\\Audio_Classification_UrbanSound8K\\data\\raw\\fold3\\103199-4-2-4.wav]\n",
      "[2024-12-20 18:55:47,700: INFO: 414825919: Extracting MFCC Feature for c:\\Users\\yasba\\OneDrive\\Documents\\Projects\\Audio_Classification_UrbanSound8K\\data\\raw\\fold3\\103199-4-2-5.wav]\n",
      "[2024-12-20 18:55:47,748: INFO: 414825919: Extracting MFCC Feature for c:\\Users\\yasba\\OneDrive\\Documents\\Projects\\Audio_Classification_UrbanSound8K\\data\\raw\\fold3\\103199-4-2-6.wav]\n"
     ]
    },
    {
     "name": "stderr",
     "output_type": "stream",
     "text": [
      "211it [00:13, 24.86it/s]"
     ]
    },
    {
     "name": "stdout",
     "output_type": "stream",
     "text": [
      "[2024-12-20 18:55:47,790: INFO: 414825919: Extracting MFCC Feature for c:\\Users\\yasba\\OneDrive\\Documents\\Projects\\Audio_Classification_UrbanSound8K\\data\\raw\\fold3\\103199-4-2-7.wav]\n",
      "[2024-12-20 18:55:47,821: INFO: 414825919: Extracting MFCC Feature for c:\\Users\\yasba\\OneDrive\\Documents\\Projects\\Audio_Classification_UrbanSound8K\\data\\raw\\fold3\\103199-4-2-8.wav]\n",
      "[2024-12-20 18:55:47,875: INFO: 414825919: Extracting MFCC Feature for c:\\Users\\yasba\\OneDrive\\Documents\\Projects\\Audio_Classification_UrbanSound8K\\data\\raw\\fold3\\103199-4-2-9.wav]\n"
     ]
    },
    {
     "name": "stderr",
     "output_type": "stream",
     "text": [
      "214it [00:13, 24.20it/s]"
     ]
    },
    {
     "name": "stdout",
     "output_type": "stream",
     "text": [
      "[2024-12-20 18:55:47,924: INFO: 414825919: Extracting MFCC Feature for c:\\Users\\yasba\\OneDrive\\Documents\\Projects\\Audio_Classification_UrbanSound8K\\data\\raw\\fold3\\103199-4-4-0.wav]\n",
      "[2024-12-20 18:55:47,977: INFO: 414825919: Extracting MFCC Feature for c:\\Users\\yasba\\OneDrive\\Documents\\Projects\\Audio_Classification_UrbanSound8K\\data\\raw\\fold3\\103199-4-6-0.wav]\n",
      "[2024-12-20 18:55:48,007: INFO: 414825919: Extracting MFCC Feature for c:\\Users\\yasba\\OneDrive\\Documents\\Projects\\Audio_Classification_UrbanSound8K\\data\\raw\\fold3\\103199-4-7-2.wav]\n"
     ]
    },
    {
     "name": "stderr",
     "output_type": "stream",
     "text": [
      "217it [00:13, 24.03it/s]"
     ]
    },
    {
     "name": "stdout",
     "output_type": "stream",
     "text": [
      "[2024-12-20 18:55:48,056: INFO: 414825919: Extracting MFCC Feature for c:\\Users\\yasba\\OneDrive\\Documents\\Projects\\Audio_Classification_UrbanSound8K\\data\\raw\\fold9\\103249-5-0-0.wav]\n",
      "[2024-12-20 18:55:48,105: INFO: 414825919: Extracting MFCC Feature for c:\\Users\\yasba\\OneDrive\\Documents\\Projects\\Audio_Classification_UrbanSound8K\\data\\raw\\fold9\\103249-5-0-1.wav]\n",
      "[2024-12-20 18:55:48,150: INFO: 414825919: Extracting MFCC Feature for c:\\Users\\yasba\\OneDrive\\Documents\\Projects\\Audio_Classification_UrbanSound8K\\data\\raw\\fold9\\103249-5-0-10.wav]\n"
     ]
    },
    {
     "name": "stderr",
     "output_type": "stream",
     "text": [
      "220it [00:13, 22.65it/s]"
     ]
    },
    {
     "name": "stdout",
     "output_type": "stream",
     "text": [
      "[2024-12-20 18:55:48,202: INFO: 414825919: Extracting MFCC Feature for c:\\Users\\yasba\\OneDrive\\Documents\\Projects\\Audio_Classification_UrbanSound8K\\data\\raw\\fold9\\103249-5-0-11.wav]\n",
      "[2024-12-20 18:55:48,240: INFO: 414825919: Extracting MFCC Feature for c:\\Users\\yasba\\OneDrive\\Documents\\Projects\\Audio_Classification_UrbanSound8K\\data\\raw\\fold9\\103249-5-0-12.wav]\n",
      "[2024-12-20 18:55:48,285: INFO: 414825919: Extracting MFCC Feature for c:\\Users\\yasba\\OneDrive\\Documents\\Projects\\Audio_Classification_UrbanSound8K\\data\\raw\\fold9\\103249-5-0-13.wav]\n"
     ]
    },
    {
     "name": "stderr",
     "output_type": "stream",
     "text": [
      "223it [00:13, 22.84it/s]"
     ]
    },
    {
     "name": "stdout",
     "output_type": "stream",
     "text": [
      "[2024-12-20 18:55:48,328: INFO: 414825919: Extracting MFCC Feature for c:\\Users\\yasba\\OneDrive\\Documents\\Projects\\Audio_Classification_UrbanSound8K\\data\\raw\\fold9\\103249-5-0-14.wav]\n",
      "[2024-12-20 18:55:48,369: INFO: 414825919: Extracting MFCC Feature for c:\\Users\\yasba\\OneDrive\\Documents\\Projects\\Audio_Classification_UrbanSound8K\\data\\raw\\fold9\\103249-5-0-15.wav]\n",
      "[2024-12-20 18:55:48,415: INFO: 414825919: Extracting MFCC Feature for c:\\Users\\yasba\\OneDrive\\Documents\\Projects\\Audio_Classification_UrbanSound8K\\data\\raw\\fold9\\103249-5-0-16.wav]\n"
     ]
    },
    {
     "name": "stderr",
     "output_type": "stream",
     "text": [
      "226it [00:14, 22.81it/s]"
     ]
    },
    {
     "name": "stdout",
     "output_type": "stream",
     "text": [
      "[2024-12-20 18:55:48,464: INFO: 414825919: Extracting MFCC Feature for c:\\Users\\yasba\\OneDrive\\Documents\\Projects\\Audio_Classification_UrbanSound8K\\data\\raw\\fold9\\103249-5-0-17.wav]\n",
      "[2024-12-20 18:55:48,504: INFO: 414825919: Extracting MFCC Feature for c:\\Users\\yasba\\OneDrive\\Documents\\Projects\\Audio_Classification_UrbanSound8K\\data\\raw\\fold9\\103249-5-0-18.wav]\n",
      "[2024-12-20 18:55:48,547: INFO: 414825919: Extracting MFCC Feature for c:\\Users\\yasba\\OneDrive\\Documents\\Projects\\Audio_Classification_UrbanSound8K\\data\\raw\\fold9\\103249-5-0-19.wav]\n"
     ]
    },
    {
     "name": "stderr",
     "output_type": "stream",
     "text": [
      "229it [00:14, 22.28it/s]"
     ]
    },
    {
     "name": "stdout",
     "output_type": "stream",
     "text": [
      "[2024-12-20 18:55:48,603: INFO: 414825919: Extracting MFCC Feature for c:\\Users\\yasba\\OneDrive\\Documents\\Projects\\Audio_Classification_UrbanSound8K\\data\\raw\\fold9\\103249-5-0-2.wav]\n",
      "[2024-12-20 18:55:48,648: INFO: 414825919: Extracting MFCC Feature for c:\\Users\\yasba\\OneDrive\\Documents\\Projects\\Audio_Classification_UrbanSound8K\\data\\raw\\fold9\\103249-5-0-3.wav]\n",
      "[2024-12-20 18:55:48,688: INFO: 414825919: Extracting MFCC Feature for c:\\Users\\yasba\\OneDrive\\Documents\\Projects\\Audio_Classification_UrbanSound8K\\data\\raw\\fold9\\103249-5-0-4.wav]\n"
     ]
    },
    {
     "name": "stderr",
     "output_type": "stream",
     "text": [
      "232it [00:14, 22.61it/s]"
     ]
    },
    {
     "name": "stdout",
     "output_type": "stream",
     "text": [
      "[2024-12-20 18:55:48,733: INFO: 414825919: Extracting MFCC Feature for c:\\Users\\yasba\\OneDrive\\Documents\\Projects\\Audio_Classification_UrbanSound8K\\data\\raw\\fold9\\103249-5-0-5.wav]\n",
      "[2024-12-20 18:55:48,776: INFO: 414825919: Extracting MFCC Feature for c:\\Users\\yasba\\OneDrive\\Documents\\Projects\\Audio_Classification_UrbanSound8K\\data\\raw\\fold9\\103249-5-0-6.wav]\n",
      "[2024-12-20 18:55:48,818: INFO: 414825919: Extracting MFCC Feature for c:\\Users\\yasba\\OneDrive\\Documents\\Projects\\Audio_Classification_UrbanSound8K\\data\\raw\\fold9\\103249-5-0-7.wav]\n"
     ]
    },
    {
     "name": "stderr",
     "output_type": "stream",
     "text": [
      "235it [00:14, 22.78it/s]"
     ]
    },
    {
     "name": "stdout",
     "output_type": "stream",
     "text": [
      "[2024-12-20 18:55:48,861: INFO: 414825919: Extracting MFCC Feature for c:\\Users\\yasba\\OneDrive\\Documents\\Projects\\Audio_Classification_UrbanSound8K\\data\\raw\\fold9\\103249-5-0-8.wav]\n",
      "[2024-12-20 18:55:48,905: INFO: 414825919: Extracting MFCC Feature for c:\\Users\\yasba\\OneDrive\\Documents\\Projects\\Audio_Classification_UrbanSound8K\\data\\raw\\fold9\\103249-5-0-9.wav]\n",
      "[2024-12-20 18:55:48,943: INFO: 414825919: Extracting MFCC Feature for c:\\Users\\yasba\\OneDrive\\Documents\\Projects\\Audio_Classification_UrbanSound8K\\data\\raw\\fold1\\103258-5-0-0.wav]\n"
     ]
    },
    {
     "name": "stderr",
     "output_type": "stream",
     "text": [
      "238it [00:14, 22.87it/s]"
     ]
    },
    {
     "name": "stdout",
     "output_type": "stream",
     "text": [
      "[2024-12-20 18:55:48,990: INFO: 414825919: Extracting MFCC Feature for c:\\Users\\yasba\\OneDrive\\Documents\\Projects\\Audio_Classification_UrbanSound8K\\data\\raw\\fold1\\103258-5-0-1.wav]\n",
      "[2024-12-20 18:55:49,050: INFO: 414825919: Extracting MFCC Feature for c:\\Users\\yasba\\OneDrive\\Documents\\Projects\\Audio_Classification_UrbanSound8K\\data\\raw\\fold1\\103258-5-0-10.wav]\n",
      "[2024-12-20 18:55:49,097: INFO: 414825919: Extracting MFCC Feature for c:\\Users\\yasba\\OneDrive\\Documents\\Projects\\Audio_Classification_UrbanSound8K\\data\\raw\\fold1\\103258-5-0-11.wav]\n"
     ]
    },
    {
     "name": "stderr",
     "output_type": "stream",
     "text": [
      "241it [00:14, 21.68it/s]"
     ]
    },
    {
     "name": "stdout",
     "output_type": "stream",
     "text": [
      "[2024-12-20 18:55:49,146: INFO: 414825919: Extracting MFCC Feature for c:\\Users\\yasba\\OneDrive\\Documents\\Projects\\Audio_Classification_UrbanSound8K\\data\\raw\\fold1\\103258-5-0-12.wav]\n",
      "[2024-12-20 18:55:49,189: INFO: 414825919: Extracting MFCC Feature for c:\\Users\\yasba\\OneDrive\\Documents\\Projects\\Audio_Classification_UrbanSound8K\\data\\raw\\fold1\\103258-5-0-13.wav]\n",
      "[2024-12-20 18:55:49,231: INFO: 414825919: Extracting MFCC Feature for c:\\Users\\yasba\\OneDrive\\Documents\\Projects\\Audio_Classification_UrbanSound8K\\data\\raw\\fold1\\103258-5-0-14.wav]\n"
     ]
    },
    {
     "name": "stderr",
     "output_type": "stream",
     "text": [
      "244it [00:14, 21.73it/s]"
     ]
    },
    {
     "name": "stdout",
     "output_type": "stream",
     "text": [
      "[2024-12-20 18:55:49,285: INFO: 414825919: Extracting MFCC Feature for c:\\Users\\yasba\\OneDrive\\Documents\\Projects\\Audio_Classification_UrbanSound8K\\data\\raw\\fold1\\103258-5-0-15.wav]\n",
      "[2024-12-20 18:55:49,321: INFO: 414825919: Extracting MFCC Feature for c:\\Users\\yasba\\OneDrive\\Documents\\Projects\\Audio_Classification_UrbanSound8K\\data\\raw\\fold1\\103258-5-0-16.wav]\n",
      "[2024-12-20 18:55:49,423: INFO: 414825919: Extracting MFCC Feature for c:\\Users\\yasba\\OneDrive\\Documents\\Projects\\Audio_Classification_UrbanSound8K\\data\\raw\\fold1\\103258-5-0-17.wav]\n"
     ]
    },
    {
     "name": "stderr",
     "output_type": "stream",
     "text": [
      "247it [00:15, 19.28it/s]"
     ]
    },
    {
     "name": "stdout",
     "output_type": "stream",
     "text": [
      "[2024-12-20 18:55:49,479: INFO: 414825919: Extracting MFCC Feature for c:\\Users\\yasba\\OneDrive\\Documents\\Projects\\Audio_Classification_UrbanSound8K\\data\\raw\\fold1\\103258-5-0-18.wav]\n",
      "[2024-12-20 18:55:49,521: INFO: 414825919: Extracting MFCC Feature for c:\\Users\\yasba\\OneDrive\\Documents\\Projects\\Audio_Classification_UrbanSound8K\\data\\raw\\fold1\\103258-5-0-19.wav]\n",
      "[2024-12-20 18:55:49,568: INFO: 414825919: Extracting MFCC Feature for c:\\Users\\yasba\\OneDrive\\Documents\\Projects\\Audio_Classification_UrbanSound8K\\data\\raw\\fold1\\103258-5-0-2.wav]\n"
     ]
    },
    {
     "name": "stderr",
     "output_type": "stream",
     "text": [
      "250it [00:15, 19.99it/s]"
     ]
    },
    {
     "name": "stdout",
     "output_type": "stream",
     "text": [
      "[2024-12-20 18:55:49,619: INFO: 414825919: Extracting MFCC Feature for c:\\Users\\yasba\\OneDrive\\Documents\\Projects\\Audio_Classification_UrbanSound8K\\data\\raw\\fold1\\103258-5-0-3.wav]\n",
      "[2024-12-20 18:55:49,661: INFO: 414825919: Extracting MFCC Feature for c:\\Users\\yasba\\OneDrive\\Documents\\Projects\\Audio_Classification_UrbanSound8K\\data\\raw\\fold1\\103258-5-0-4.wav]\n",
      "[2024-12-20 18:55:49,697: INFO: 414825919: Extracting MFCC Feature for c:\\Users\\yasba\\OneDrive\\Documents\\Projects\\Audio_Classification_UrbanSound8K\\data\\raw\\fold1\\103258-5-0-5.wav]\n"
     ]
    },
    {
     "name": "stderr",
     "output_type": "stream",
     "text": [
      "253it [00:15, 21.13it/s]"
     ]
    },
    {
     "name": "stdout",
     "output_type": "stream",
     "text": [
      "[2024-12-20 18:55:49,740: INFO: 414825919: Extracting MFCC Feature for c:\\Users\\yasba\\OneDrive\\Documents\\Projects\\Audio_Classification_UrbanSound8K\\data\\raw\\fold1\\103258-5-0-6.wav]\n",
      "[2024-12-20 18:55:49,788: INFO: 414825919: Extracting MFCC Feature for c:\\Users\\yasba\\OneDrive\\Documents\\Projects\\Audio_Classification_UrbanSound8K\\data\\raw\\fold1\\103258-5-0-7.wav]\n",
      "[2024-12-20 18:55:49,838: INFO: 414825919: Extracting MFCC Feature for c:\\Users\\yasba\\OneDrive\\Documents\\Projects\\Audio_Classification_UrbanSound8K\\data\\raw\\fold1\\103258-5-0-8.wav]\n"
     ]
    },
    {
     "name": "stderr",
     "output_type": "stream",
     "text": [
      "256it [00:15, 21.24it/s]"
     ]
    },
    {
     "name": "stdout",
     "output_type": "stream",
     "text": [
      "[2024-12-20 18:55:49,884: INFO: 414825919: Extracting MFCC Feature for c:\\Users\\yasba\\OneDrive\\Documents\\Projects\\Audio_Classification_UrbanSound8K\\data\\raw\\fold1\\103258-5-0-9.wav]\n",
      "[2024-12-20 18:55:49,925: INFO: 414825919: Extracting MFCC Feature for c:\\Users\\yasba\\OneDrive\\Documents\\Projects\\Audio_Classification_UrbanSound8K\\data\\raw\\fold3\\103357-4-0-0.wav]\n",
      "[2024-12-20 18:55:49,966: INFO: 414825919: Extracting MFCC Feature for c:\\Users\\yasba\\OneDrive\\Documents\\Projects\\Audio_Classification_UrbanSound8K\\data\\raw\\fold3\\103357-4-0-1.wav]\n"
     ]
    },
    {
     "name": "stderr",
     "output_type": "stream",
     "text": [
      "259it [00:15, 21.80it/s]"
     ]
    },
    {
     "name": "stdout",
     "output_type": "stream",
     "text": [
      "[2024-12-20 18:55:50,010: INFO: 414825919: Extracting MFCC Feature for c:\\Users\\yasba\\OneDrive\\Documents\\Projects\\Audio_Classification_UrbanSound8K\\data\\raw\\fold10\\103438-5-0-0.wav]\n",
      "[2024-12-20 18:55:50,047: INFO: 414825919: Extracting MFCC Feature for c:\\Users\\yasba\\OneDrive\\Documents\\Projects\\Audio_Classification_UrbanSound8K\\data\\raw\\fold10\\103438-5-0-1.wav]\n",
      "[2024-12-20 18:55:50,090: INFO: 414825919: Extracting MFCC Feature for c:\\Users\\yasba\\OneDrive\\Documents\\Projects\\Audio_Classification_UrbanSound8K\\data\\raw\\fold10\\103438-5-0-2.wav]\n"
     ]
    },
    {
     "name": "stderr",
     "output_type": "stream",
     "text": [
      "262it [00:15, 22.35it/s]"
     ]
    },
    {
     "name": "stdout",
     "output_type": "stream",
     "text": [
      "[2024-12-20 18:55:50,136: INFO: 414825919: Extracting MFCC Feature for c:\\Users\\yasba\\OneDrive\\Documents\\Projects\\Audio_Classification_UrbanSound8K\\data\\raw\\fold6\\104327-2-0-15.wav]\n",
      "[2024-12-20 18:55:50,168: INFO: 414825919: Extracting MFCC Feature for c:\\Users\\yasba\\OneDrive\\Documents\\Projects\\Audio_Classification_UrbanSound8K\\data\\raw\\fold6\\104327-2-0-19.wav]\n",
      "[2024-12-20 18:55:50,212: INFO: 414825919: Extracting MFCC Feature for c:\\Users\\yasba\\OneDrive\\Documents\\Projects\\Audio_Classification_UrbanSound8K\\data\\raw\\fold6\\104327-2-0-26.wav]\n"
     ]
    },
    {
     "name": "stderr",
     "output_type": "stream",
     "text": [
      "265it [00:15, 23.36it/s]"
     ]
    },
    {
     "name": "stdout",
     "output_type": "stream",
     "text": [
      "[2024-12-20 18:55:50,252: INFO: 414825919: Extracting MFCC Feature for c:\\Users\\yasba\\OneDrive\\Documents\\Projects\\Audio_Classification_UrbanSound8K\\data\\raw\\fold6\\104327-2-0-28.wav]\n",
      "[2024-12-20 18:55:50,279: INFO: 414825919: Extracting MFCC Feature for c:\\Users\\yasba\\OneDrive\\Documents\\Projects\\Audio_Classification_UrbanSound8K\\data\\raw\\fold6\\104327-2-0-3.wav]\n",
      "[2024-12-20 18:55:50,311: INFO: 414825919: Extracting MFCC Feature for c:\\Users\\yasba\\OneDrive\\Documents\\Projects\\Audio_Classification_UrbanSound8K\\data\\raw\\fold6\\104327-2-0-30.wav]\n"
     ]
    },
    {
     "name": "stderr",
     "output_type": "stream",
     "text": [
      "268it [00:15, 24.98it/s]"
     ]
    },
    {
     "name": "stdout",
     "output_type": "stream",
     "text": [
      "[2024-12-20 18:55:50,350: INFO: 414825919: Extracting MFCC Feature for c:\\Users\\yasba\\OneDrive\\Documents\\Projects\\Audio_Classification_UrbanSound8K\\data\\raw\\fold6\\104327-2-0-34.wav]\n",
      "[2024-12-20 18:55:50,389: INFO: 414825919: Extracting MFCC Feature for c:\\Users\\yasba\\OneDrive\\Documents\\Projects\\Audio_Classification_UrbanSound8K\\data\\raw\\fold6\\104327-2-0-4.wav]\n",
      "[2024-12-20 18:55:50,419: INFO: 414825919: Extracting MFCC Feature for c:\\Users\\yasba\\OneDrive\\Documents\\Projects\\Audio_Classification_UrbanSound8K\\data\\raw\\fold5\\104421-2-0-1.wav]\n"
     ]
    },
    {
     "name": "stderr",
     "output_type": "stream",
     "text": [
      "271it [00:16, 25.36it/s]"
     ]
    },
    {
     "name": "stdout",
     "output_type": "stream",
     "text": [
      "[2024-12-20 18:55:50,467: INFO: 414825919: Extracting MFCC Feature for c:\\Users\\yasba\\OneDrive\\Documents\\Projects\\Audio_Classification_UrbanSound8K\\data\\raw\\fold5\\104421-2-0-15.wav]\n",
      "[2024-12-20 18:55:50,508: INFO: 414825919: Extracting MFCC Feature for c:\\Users\\yasba\\OneDrive\\Documents\\Projects\\Audio_Classification_UrbanSound8K\\data\\raw\\fold5\\104421-2-0-20.wav]\n",
      "[2024-12-20 18:55:50,545: INFO: 414825919: Extracting MFCC Feature for c:\\Users\\yasba\\OneDrive\\Documents\\Projects\\Audio_Classification_UrbanSound8K\\data\\raw\\fold5\\104421-2-0-29.wav]\n"
     ]
    },
    {
     "name": "stderr",
     "output_type": "stream",
     "text": [
      "274it [00:16, 25.55it/s]"
     ]
    },
    {
     "name": "stdout",
     "output_type": "stream",
     "text": [
      "[2024-12-20 18:55:50,580: INFO: 414825919: Extracting MFCC Feature for c:\\Users\\yasba\\OneDrive\\Documents\\Projects\\Audio_Classification_UrbanSound8K\\data\\raw\\fold5\\104421-2-0-3.wav]\n",
      "[2024-12-20 18:55:50,630: INFO: 414825919: Extracting MFCC Feature for c:\\Users\\yasba\\OneDrive\\Documents\\Projects\\Audio_Classification_UrbanSound8K\\data\\raw\\fold5\\104421-2-0-5.wav]\n",
      "[2024-12-20 18:55:50,671: INFO: 414825919: Extracting MFCC Feature for c:\\Users\\yasba\\OneDrive\\Documents\\Projects\\Audio_Classification_UrbanSound8K\\data\\raw\\fold5\\104421-2-0-7.wav]\n"
     ]
    },
    {
     "name": "stderr",
     "output_type": "stream",
     "text": [
      "277it [00:16, 24.07it/s]"
     ]
    },
    {
     "name": "stdout",
     "output_type": "stream",
     "text": [
      "[2024-12-20 18:55:50,724: INFO: 414825919: Extracting MFCC Feature for c:\\Users\\yasba\\OneDrive\\Documents\\Projects\\Audio_Classification_UrbanSound8K\\data\\raw\\fold5\\104421-2-1-3.wav]\n",
      "[2024-12-20 18:55:50,774: INFO: 414825919: Extracting MFCC Feature for c:\\Users\\yasba\\OneDrive\\Documents\\Projects\\Audio_Classification_UrbanSound8K\\data\\raw\\fold7\\104625-4-0-15.wav]\n",
      "[2024-12-20 18:55:50,831: INFO: 414825919: Extracting MFCC Feature for c:\\Users\\yasba\\OneDrive\\Documents\\Projects\\Audio_Classification_UrbanSound8K\\data\\raw\\fold7\\104625-4-0-21.wav]\n"
     ]
    },
    {
     "name": "stderr",
     "output_type": "stream",
     "text": [
      "280it [00:16, 21.92it/s]"
     ]
    },
    {
     "name": "stdout",
     "output_type": "stream",
     "text": [
      "[2024-12-20 18:55:50,887: INFO: 414825919: Extracting MFCC Feature for c:\\Users\\yasba\\OneDrive\\Documents\\Projects\\Audio_Classification_UrbanSound8K\\data\\raw\\fold7\\104625-4-0-27.wav]\n",
      "[2024-12-20 18:55:50,936: INFO: 414825919: Extracting MFCC Feature for c:\\Users\\yasba\\OneDrive\\Documents\\Projects\\Audio_Classification_UrbanSound8K\\data\\raw\\fold7\\104625-4-0-29.wav]\n",
      "[2024-12-20 18:55:50,984: INFO: 414825919: Extracting MFCC Feature for c:\\Users\\yasba\\OneDrive\\Documents\\Projects\\Audio_Classification_UrbanSound8K\\data\\raw\\fold7\\104625-4-0-3.wav]\n"
     ]
    },
    {
     "name": "stderr",
     "output_type": "stream",
     "text": [
      "283it [00:16, 20.78it/s]"
     ]
    },
    {
     "name": "stdout",
     "output_type": "stream",
     "text": [
      "[2024-12-20 18:55:51,050: INFO: 414825919: Extracting MFCC Feature for c:\\Users\\yasba\\OneDrive\\Documents\\Projects\\Audio_Classification_UrbanSound8K\\data\\raw\\fold7\\104625-4-0-35.wav]\n",
      "[2024-12-20 18:55:51,122: INFO: 414825919: Extracting MFCC Feature for c:\\Users\\yasba\\OneDrive\\Documents\\Projects\\Audio_Classification_UrbanSound8K\\data\\raw\\fold7\\104625-4-0-40.wav]\n",
      "[2024-12-20 18:55:51,188: INFO: 414825919: Extracting MFCC Feature for c:\\Users\\yasba\\OneDrive\\Documents\\Projects\\Audio_Classification_UrbanSound8K\\data\\raw\\fold7\\104625-4-0-41.wav]\n"
     ]
    },
    {
     "name": "stderr",
     "output_type": "stream",
     "text": [
      "286it [00:16, 18.88it/s]"
     ]
    },
    {
     "name": "stdout",
     "output_type": "stream",
     "text": [
      "[2024-12-20 18:55:51,242: INFO: 414825919: Extracting MFCC Feature for c:\\Users\\yasba\\OneDrive\\Documents\\Projects\\Audio_Classification_UrbanSound8K\\data\\raw\\fold7\\104625-4-0-45.wav]\n",
      "[2024-12-20 18:55:51,305: INFO: 414825919: Extracting MFCC Feature for c:\\Users\\yasba\\OneDrive\\Documents\\Projects\\Audio_Classification_UrbanSound8K\\data\\raw\\fold7\\104625-4-0-48.wav]\n"
     ]
    },
    {
     "name": "stderr",
     "output_type": "stream",
     "text": [
      "288it [00:16, 18.45it/s]"
     ]
    },
    {
     "name": "stdout",
     "output_type": "stream",
     "text": [
      "[2024-12-20 18:55:51,358: INFO: 414825919: Extracting MFCC Feature for c:\\Users\\yasba\\OneDrive\\Documents\\Projects\\Audio_Classification_UrbanSound8K\\data\\raw\\fold7\\104625-4-0-51.wav]\n",
      "[2024-12-20 18:55:51,414: INFO: 414825919: Extracting MFCC Feature for c:\\Users\\yasba\\OneDrive\\Documents\\Projects\\Audio_Classification_UrbanSound8K\\data\\raw\\fold7\\104625-4-0-52.wav]\n"
     ]
    },
    {
     "name": "stderr",
     "output_type": "stream",
     "text": [
      "290it [00:17, 18.48it/s]"
     ]
    },
    {
     "name": "stdout",
     "output_type": "stream",
     "text": [
      "[2024-12-20 18:55:51,467: INFO: 414825919: Extracting MFCC Feature for c:\\Users\\yasba\\OneDrive\\Documents\\Projects\\Audio_Classification_UrbanSound8K\\data\\raw\\fold7\\104625-4-0-53.wav]\n",
      "[2024-12-20 18:55:51,523: INFO: 414825919: Extracting MFCC Feature for c:\\Users\\yasba\\OneDrive\\Documents\\Projects\\Audio_Classification_UrbanSound8K\\data\\raw\\fold7\\104625-4-0-55.wav]\n"
     ]
    },
    {
     "name": "stderr",
     "output_type": "stream",
     "text": [
      "292it [00:17, 18.08it/s]"
     ]
    },
    {
     "name": "stdout",
     "output_type": "stream",
     "text": [
      "[2024-12-20 18:55:51,585: INFO: 414825919: Extracting MFCC Feature for c:\\Users\\yasba\\OneDrive\\Documents\\Projects\\Audio_Classification_UrbanSound8K\\data\\raw\\fold7\\104625-4-0-57.wav]\n",
      "[2024-12-20 18:55:51,652: INFO: 414825919: Extracting MFCC Feature for c:\\Users\\yasba\\OneDrive\\Documents\\Projects\\Audio_Classification_UrbanSound8K\\data\\raw\\fold7\\104625-4-0-66.wav]\n"
     ]
    },
    {
     "name": "stderr",
     "output_type": "stream",
     "text": [
      "294it [00:17, 17.81it/s]"
     ]
    },
    {
     "name": "stdout",
     "output_type": "stream",
     "text": [
      "[2024-12-20 18:55:51,701: INFO: 414825919: Extracting MFCC Feature for c:\\Users\\yasba\\OneDrive\\Documents\\Projects\\Audio_Classification_UrbanSound8K\\data\\raw\\fold7\\104625-4-1-20.wav]\n",
      "[2024-12-20 18:55:51,747: INFO: 414825919: Extracting MFCC Feature for c:\\Users\\yasba\\OneDrive\\Documents\\Projects\\Audio_Classification_UrbanSound8K\\data\\raw\\fold7\\104625-4-1-8.wav]\n"
     ]
    },
    {
     "name": "stderr",
     "output_type": "stream",
     "text": [
      "296it [00:17, 18.22it/s]"
     ]
    },
    {
     "name": "stdout",
     "output_type": "stream",
     "text": [
      "[2024-12-20 18:55:51,803: INFO: 414825919: Extracting MFCC Feature for c:\\Users\\yasba\\OneDrive\\Documents\\Projects\\Audio_Classification_UrbanSound8K\\data\\raw\\fold2\\104817-4-0-0.wav]\n",
      "[2024-12-20 18:55:51,845: INFO: 414825919: Extracting MFCC Feature for c:\\Users\\yasba\\OneDrive\\Documents\\Projects\\Audio_Classification_UrbanSound8K\\data\\raw\\fold2\\104817-4-0-1.wav]\n",
      "[2024-12-20 18:55:51,887: INFO: 414825919: Extracting MFCC Feature for c:\\Users\\yasba\\OneDrive\\Documents\\Projects\\Audio_Classification_UrbanSound8K\\data\\raw\\fold2\\104817-4-0-10.wav]\n"
     ]
    },
    {
     "name": "stderr",
     "output_type": "stream",
     "text": [
      "299it [00:17, 20.11it/s]"
     ]
    },
    {
     "name": "stdout",
     "output_type": "stream",
     "text": [
      "[2024-12-20 18:55:51,927: INFO: 414825919: Extracting MFCC Feature for c:\\Users\\yasba\\OneDrive\\Documents\\Projects\\Audio_Classification_UrbanSound8K\\data\\raw\\fold2\\104817-4-0-11.wav]\n",
      "[2024-12-20 18:55:51,970: INFO: 414825919: Extracting MFCC Feature for c:\\Users\\yasba\\OneDrive\\Documents\\Projects\\Audio_Classification_UrbanSound8K\\data\\raw\\fold2\\104817-4-0-2.wav]\n",
      "[2024-12-20 18:55:52,018: INFO: 414825919: Extracting MFCC Feature for c:\\Users\\yasba\\OneDrive\\Documents\\Projects\\Audio_Classification_UrbanSound8K\\data\\raw\\fold2\\104817-4-0-3.wav]\n"
     ]
    },
    {
     "name": "stderr",
     "output_type": "stream",
     "text": [
      "302it [00:17, 20.90it/s]"
     ]
    },
    {
     "name": "stdout",
     "output_type": "stream",
     "text": [
      "[2024-12-20 18:55:52,059: INFO: 414825919: Extracting MFCC Feature for c:\\Users\\yasba\\OneDrive\\Documents\\Projects\\Audio_Classification_UrbanSound8K\\data\\raw\\fold2\\104817-4-0-4.wav]\n",
      "[2024-12-20 18:55:52,113: INFO: 414825919: Extracting MFCC Feature for c:\\Users\\yasba\\OneDrive\\Documents\\Projects\\Audio_Classification_UrbanSound8K\\data\\raw\\fold2\\104817-4-0-5.wav]\n",
      "[2024-12-20 18:55:52,156: INFO: 414825919: Extracting MFCC Feature for c:\\Users\\yasba\\OneDrive\\Documents\\Projects\\Audio_Classification_UrbanSound8K\\data\\raw\\fold2\\104817-4-0-6.wav]\n"
     ]
    },
    {
     "name": "stderr",
     "output_type": "stream",
     "text": [
      "305it [00:17, 21.02it/s]"
     ]
    },
    {
     "name": "stdout",
     "output_type": "stream",
     "text": [
      "[2024-12-20 18:55:52,205: INFO: 414825919: Extracting MFCC Feature for c:\\Users\\yasba\\OneDrive\\Documents\\Projects\\Audio_Classification_UrbanSound8K\\data\\raw\\fold2\\104817-4-0-7.wav]\n",
      "[2024-12-20 18:55:52,254: INFO: 414825919: Extracting MFCC Feature for c:\\Users\\yasba\\OneDrive\\Documents\\Projects\\Audio_Classification_UrbanSound8K\\data\\raw\\fold2\\104817-4-0-8.wav]\n",
      "[2024-12-20 18:55:52,292: INFO: 414825919: Extracting MFCC Feature for c:\\Users\\yasba\\OneDrive\\Documents\\Projects\\Audio_Classification_UrbanSound8K\\data\\raw\\fold2\\104817-4-0-9.wav]\n"
     ]
    },
    {
     "name": "stderr",
     "output_type": "stream",
     "text": [
      "308it [00:17, 21.20it/s]"
     ]
    },
    {
     "name": "stdout",
     "output_type": "stream",
     "text": [
      "[2024-12-20 18:55:52,339: INFO: 414825919: Extracting MFCC Feature for c:\\Users\\yasba\\OneDrive\\Documents\\Projects\\Audio_Classification_UrbanSound8K\\data\\raw\\fold5\\104998-7-0-5.wav]\n",
      "[2024-12-20 18:55:52,374: INFO: 414825919: Extracting MFCC Feature for c:\\Users\\yasba\\OneDrive\\Documents\\Projects\\Audio_Classification_UrbanSound8K\\data\\raw\\fold5\\104998-7-10-1.wav]\n",
      "[2024-12-20 18:55:52,414: INFO: 414825919: Extracting MFCC Feature for c:\\Users\\yasba\\OneDrive\\Documents\\Projects\\Audio_Classification_UrbanSound8K\\data\\raw\\fold5\\104998-7-10-10.wav]\n"
     ]
    },
    {
     "name": "stderr",
     "output_type": "stream",
     "text": [
      "311it [00:18, 22.62it/s]"
     ]
    },
    {
     "name": "stdout",
     "output_type": "stream",
     "text": [
      "[2024-12-20 18:55:52,453: INFO: 414825919: Extracting MFCC Feature for c:\\Users\\yasba\\OneDrive\\Documents\\Projects\\Audio_Classification_UrbanSound8K\\data\\raw\\fold5\\104998-7-10-13.wav]\n",
      "[2024-12-20 18:55:52,488: INFO: 414825919: Extracting MFCC Feature for c:\\Users\\yasba\\OneDrive\\Documents\\Projects\\Audio_Classification_UrbanSound8K\\data\\raw\\fold5\\104998-7-10-15.wav]\n",
      "[2024-12-20 18:55:52,525: INFO: 414825919: Extracting MFCC Feature for c:\\Users\\yasba\\OneDrive\\Documents\\Projects\\Audio_Classification_UrbanSound8K\\data\\raw\\fold5\\104998-7-10-8.wav]\n"
     ]
    },
    {
     "name": "stderr",
     "output_type": "stream",
     "text": [
      "314it [00:18, 23.74it/s]"
     ]
    },
    {
     "name": "stdout",
     "output_type": "stream",
     "text": [
      "[2024-12-20 18:55:52,568: INFO: 414825919: Extracting MFCC Feature for c:\\Users\\yasba\\OneDrive\\Documents\\Projects\\Audio_Classification_UrbanSound8K\\data\\raw\\fold5\\104998-7-10-9.wav]\n",
      "[2024-12-20 18:55:52,606: INFO: 414825919: Extracting MFCC Feature for c:\\Users\\yasba\\OneDrive\\Documents\\Projects\\Audio_Classification_UrbanSound8K\\data\\raw\\fold5\\104998-7-11-0.wav]\n",
      "[2024-12-20 18:55:52,646: INFO: 414825919: Extracting MFCC Feature for c:\\Users\\yasba\\OneDrive\\Documents\\Projects\\Audio_Classification_UrbanSound8K\\data\\raw\\fold5\\104998-7-11-2.wav]\n"
     ]
    },
    {
     "name": "stderr",
     "output_type": "stream",
     "text": [
      "317it [00:18, 24.08it/s]"
     ]
    },
    {
     "name": "stdout",
     "output_type": "stream",
     "text": [
      "[2024-12-20 18:55:52,686: INFO: 414825919: Extracting MFCC Feature for c:\\Users\\yasba\\OneDrive\\Documents\\Projects\\Audio_Classification_UrbanSound8K\\data\\raw\\fold5\\104998-7-12-2.wav]\n",
      "[2024-12-20 18:55:52,736: INFO: 414825919: Extracting MFCC Feature for c:\\Users\\yasba\\OneDrive\\Documents\\Projects\\Audio_Classification_UrbanSound8K\\data\\raw\\fold5\\104998-7-14-1.wav]\n",
      "[2024-12-20 18:55:52,773: INFO: 414825919: Extracting MFCC Feature for c:\\Users\\yasba\\OneDrive\\Documents\\Projects\\Audio_Classification_UrbanSound8K\\data\\raw\\fold5\\104998-7-14-5.wav]\n"
     ]
    },
    {
     "name": "stderr",
     "output_type": "stream",
     "text": [
      "320it [00:18, 24.01it/s]"
     ]
    },
    {
     "name": "stdout",
     "output_type": "stream",
     "text": [
      "[2024-12-20 18:55:52,811: INFO: 414825919: Extracting MFCC Feature for c:\\Users\\yasba\\OneDrive\\Documents\\Projects\\Audio_Classification_UrbanSound8K\\data\\raw\\fold5\\104998-7-14-6.wav]\n",
      "[2024-12-20 18:55:52,845: INFO: 414825919: Extracting MFCC Feature for c:\\Users\\yasba\\OneDrive\\Documents\\Projects\\Audio_Classification_UrbanSound8K\\data\\raw\\fold5\\104998-7-15-1.wav]\n",
      "[2024-12-20 18:55:52,885: INFO: 414825919: Extracting MFCC Feature for c:\\Users\\yasba\\OneDrive\\Documents\\Projects\\Audio_Classification_UrbanSound8K\\data\\raw\\fold5\\104998-7-15-3.wav]\n"
     ]
    },
    {
     "name": "stderr",
     "output_type": "stream",
     "text": [
      "323it [00:18, 24.75it/s]"
     ]
    },
    {
     "name": "stdout",
     "output_type": "stream",
     "text": [
      "[2024-12-20 18:55:52,925: INFO: 414825919: Extracting MFCC Feature for c:\\Users\\yasba\\OneDrive\\Documents\\Projects\\Audio_Classification_UrbanSound8K\\data\\raw\\fold5\\104998-7-15-5.wav]\n",
      "[2024-12-20 18:55:52,953: INFO: 414825919: Extracting MFCC Feature for c:\\Users\\yasba\\OneDrive\\Documents\\Projects\\Audio_Classification_UrbanSound8K\\data\\raw\\fold5\\104998-7-15-9.wav]\n",
      "[2024-12-20 18:55:52,989: INFO: 414825919: Extracting MFCC Feature for c:\\Users\\yasba\\OneDrive\\Documents\\Projects\\Audio_Classification_UrbanSound8K\\data\\raw\\fold5\\104998-7-16-0.wav]\n"
     ]
    },
    {
     "name": "stderr",
     "output_type": "stream",
     "text": [
      "326it [00:18, 20.72it/s]"
     ]
    },
    {
     "name": "stdout",
     "output_type": "stream",
     "text": [
      "[2024-12-20 18:55:53,124: INFO: 414825919: Extracting MFCC Feature for c:\\Users\\yasba\\OneDrive\\Documents\\Projects\\Audio_Classification_UrbanSound8K\\data\\raw\\fold5\\104998-7-16-10.wav]\n",
      "[2024-12-20 18:55:53,171: INFO: 414825919: Extracting MFCC Feature for c:\\Users\\yasba\\OneDrive\\Documents\\Projects\\Audio_Classification_UrbanSound8K\\data\\raw\\fold5\\104998-7-16-11.wav]\n",
      "[2024-12-20 18:55:53,218: INFO: 414825919: Extracting MFCC Feature for c:\\Users\\yasba\\OneDrive\\Documents\\Projects\\Audio_Classification_UrbanSound8K\\data\\raw\\fold5\\104998-7-16-5.wav]\n"
     ]
    },
    {
     "name": "stderr",
     "output_type": "stream",
     "text": [
      "329it [00:18, 20.93it/s]"
     ]
    },
    {
     "name": "stdout",
     "output_type": "stream",
     "text": [
      "[2024-12-20 18:55:53,264: INFO: 414825919: Extracting MFCC Feature for c:\\Users\\yasba\\OneDrive\\Documents\\Projects\\Audio_Classification_UrbanSound8K\\data\\raw\\fold5\\104998-7-16-6.wav]\n",
      "[2024-12-20 18:55:53,320: INFO: 414825919: Extracting MFCC Feature for c:\\Users\\yasba\\OneDrive\\Documents\\Projects\\Audio_Classification_UrbanSound8K\\data\\raw\\fold5\\104998-7-16-7.wav]\n",
      "[2024-12-20 18:55:53,359: INFO: 414825919: Extracting MFCC Feature for c:\\Users\\yasba\\OneDrive\\Documents\\Projects\\Audio_Classification_UrbanSound8K\\data\\raw\\fold5\\104998-7-17-0.wav]\n"
     ]
    },
    {
     "name": "stderr",
     "output_type": "stream",
     "text": [
      "332it [00:19, 20.72it/s]"
     ]
    },
    {
     "name": "stdout",
     "output_type": "stream",
     "text": [
      "[2024-12-20 18:55:53,412: INFO: 414825919: Extracting MFCC Feature for c:\\Users\\yasba\\OneDrive\\Documents\\Projects\\Audio_Classification_UrbanSound8K\\data\\raw\\fold5\\104998-7-17-1.wav]\n",
      "[2024-12-20 18:55:53,458: INFO: 414825919: Extracting MFCC Feature for c:\\Users\\yasba\\OneDrive\\Documents\\Projects\\Audio_Classification_UrbanSound8K\\data\\raw\\fold5\\104998-7-17-12.wav]\n",
      "[2024-12-20 18:55:53,498: INFO: 414825919: Extracting MFCC Feature for c:\\Users\\yasba\\OneDrive\\Documents\\Projects\\Audio_Classification_UrbanSound8K\\data\\raw\\fold5\\104998-7-17-14.wav]\n"
     ]
    },
    {
     "name": "stderr",
     "output_type": "stream",
     "text": [
      "335it [00:19, 21.41it/s]"
     ]
    },
    {
     "name": "stdout",
     "output_type": "stream",
     "text": [
      "[2024-12-20 18:55:53,543: INFO: 414825919: Extracting MFCC Feature for c:\\Users\\yasba\\OneDrive\\Documents\\Projects\\Audio_Classification_UrbanSound8K\\data\\raw\\fold5\\104998-7-17-4.wav]\n",
      "[2024-12-20 18:55:53,578: INFO: 414825919: Extracting MFCC Feature for c:\\Users\\yasba\\OneDrive\\Documents\\Projects\\Audio_Classification_UrbanSound8K\\data\\raw\\fold5\\104998-7-17-7.wav]\n",
      "[2024-12-20 18:55:53,623: INFO: 414825919: Extracting MFCC Feature for c:\\Users\\yasba\\OneDrive\\Documents\\Projects\\Audio_Classification_UrbanSound8K\\data\\raw\\fold5\\104998-7-17-8.wav]\n"
     ]
    },
    {
     "name": "stderr",
     "output_type": "stream",
     "text": [
      "338it [00:19, 22.21it/s]"
     ]
    },
    {
     "name": "stdout",
     "output_type": "stream",
     "text": [
      "[2024-12-20 18:55:53,666: INFO: 414825919: Extracting MFCC Feature for c:\\Users\\yasba\\OneDrive\\Documents\\Projects\\Audio_Classification_UrbanSound8K\\data\\raw\\fold5\\104998-7-18-12.wav]\n",
      "[2024-12-20 18:55:53,703: INFO: 414825919: Extracting MFCC Feature for c:\\Users\\yasba\\OneDrive\\Documents\\Projects\\Audio_Classification_UrbanSound8K\\data\\raw\\fold5\\104998-7-18-13.wav]\n",
      "[2024-12-20 18:55:53,743: INFO: 414825919: Extracting MFCC Feature for c:\\Users\\yasba\\OneDrive\\Documents\\Projects\\Audio_Classification_UrbanSound8K\\data\\raw\\fold5\\104998-7-18-3.wav]\n"
     ]
    },
    {
     "name": "stderr",
     "output_type": "stream",
     "text": [
      "341it [00:19, 22.44it/s]"
     ]
    },
    {
     "name": "stdout",
     "output_type": "stream",
     "text": [
      "[2024-12-20 18:55:53,795: INFO: 414825919: Extracting MFCC Feature for c:\\Users\\yasba\\OneDrive\\Documents\\Projects\\Audio_Classification_UrbanSound8K\\data\\raw\\fold5\\104998-7-18-9.wav]\n",
      "[2024-12-20 18:55:53,830: INFO: 414825919: Extracting MFCC Feature for c:\\Users\\yasba\\OneDrive\\Documents\\Projects\\Audio_Classification_UrbanSound8K\\data\\raw\\fold5\\104998-7-19-0.wav]\n",
      "[2024-12-20 18:55:53,876: INFO: 414825919: Extracting MFCC Feature for c:\\Users\\yasba\\OneDrive\\Documents\\Projects\\Audio_Classification_UrbanSound8K\\data\\raw\\fold5\\104998-7-19-3.wav]\n"
     ]
    },
    {
     "name": "stderr",
     "output_type": "stream",
     "text": [
      "344it [00:19, 23.32it/s]"
     ]
    },
    {
     "name": "stdout",
     "output_type": "stream",
     "text": [
      "[2024-12-20 18:55:53,912: INFO: 414825919: Extracting MFCC Feature for c:\\Users\\yasba\\OneDrive\\Documents\\Projects\\Audio_Classification_UrbanSound8K\\data\\raw\\fold5\\104998-7-19-6.wav]\n",
      "[2024-12-20 18:55:53,976: INFO: 414825919: Extracting MFCC Feature for c:\\Users\\yasba\\OneDrive\\Documents\\Projects\\Audio_Classification_UrbanSound8K\\data\\raw\\fold5\\104998-7-19-7.wav]\n",
      "[2024-12-20 18:55:54,021: INFO: 414825919: Extracting MFCC Feature for c:\\Users\\yasba\\OneDrive\\Documents\\Projects\\Audio_Classification_UrbanSound8K\\data\\raw\\fold5\\104998-7-19-8.wav]\n"
     ]
    },
    {
     "name": "stderr",
     "output_type": "stream",
     "text": [
      "347it [00:19, 21.73it/s]"
     ]
    },
    {
     "name": "stdout",
     "output_type": "stream",
     "text": [
      "[2024-12-20 18:55:54,075: INFO: 414825919: Extracting MFCC Feature for c:\\Users\\yasba\\OneDrive\\Documents\\Projects\\Audio_Classification_UrbanSound8K\\data\\raw\\fold5\\104998-7-19-9.wav]\n",
      "[2024-12-20 18:55:54,107: INFO: 414825919: Extracting MFCC Feature for c:\\Users\\yasba\\OneDrive\\Documents\\Projects\\Audio_Classification_UrbanSound8K\\data\\raw\\fold5\\104998-7-2-4.wav]\n",
      "[2024-12-20 18:55:54,145: INFO: 414825919: Extracting MFCC Feature for c:\\Users\\yasba\\OneDrive\\Documents\\Projects\\Audio_Classification_UrbanSound8K\\data\\raw\\fold5\\104998-7-2-5.wav]\n"
     ]
    },
    {
     "name": "stderr",
     "output_type": "stream",
     "text": [
      "350it [00:19, 22.66it/s]"
     ]
    },
    {
     "name": "stdout",
     "output_type": "stream",
     "text": [
      "[2024-12-20 18:55:54,189: INFO: 414825919: Extracting MFCC Feature for c:\\Users\\yasba\\OneDrive\\Documents\\Projects\\Audio_Classification_UrbanSound8K\\data\\raw\\fold5\\104998-7-2-6.wav]\n",
      "[2024-12-20 18:55:54,222: INFO: 414825919: Extracting MFCC Feature for c:\\Users\\yasba\\OneDrive\\Documents\\Projects\\Audio_Classification_UrbanSound8K\\data\\raw\\fold5\\104998-7-3-1.wav]\n",
      "[2024-12-20 18:55:54,271: INFO: 414825919: Extracting MFCC Feature for c:\\Users\\yasba\\OneDrive\\Documents\\Projects\\Audio_Classification_UrbanSound8K\\data\\raw\\fold5\\104998-7-7-0.wav]\n"
     ]
    },
    {
     "name": "stderr",
     "output_type": "stream",
     "text": [
      "353it [00:19, 23.18it/s]"
     ]
    },
    {
     "name": "stdout",
     "output_type": "stream",
     "text": [
      "[2024-12-20 18:55:54,314: INFO: 414825919: Extracting MFCC Feature for c:\\Users\\yasba\\OneDrive\\Documents\\Projects\\Audio_Classification_UrbanSound8K\\data\\raw\\fold5\\104998-7-7-1.wav]\n",
      "[2024-12-20 18:55:54,347: INFO: 414825919: Extracting MFCC Feature for c:\\Users\\yasba\\OneDrive\\Documents\\Projects\\Audio_Classification_UrbanSound8K\\data\\raw\\fold5\\104998-7-7-4.wav]\n",
      "[2024-12-20 18:55:54,402: INFO: 414825919: Extracting MFCC Feature for c:\\Users\\yasba\\OneDrive\\Documents\\Projects\\Audio_Classification_UrbanSound8K\\data\\raw\\fold5\\104998-7-7-7.wav]\n"
     ]
    },
    {
     "name": "stderr",
     "output_type": "stream",
     "text": [
      "356it [00:20, 23.36it/s]"
     ]
    },
    {
     "name": "stdout",
     "output_type": "stream",
     "text": [
      "[2024-12-20 18:55:54,439: INFO: 414825919: Extracting MFCC Feature for c:\\Users\\yasba\\OneDrive\\Documents\\Projects\\Audio_Classification_UrbanSound8K\\data\\raw\\fold5\\104998-7-7-9.wav]\n",
      "[2024-12-20 18:55:54,485: INFO: 414825919: Extracting MFCC Feature for c:\\Users\\yasba\\OneDrive\\Documents\\Projects\\Audio_Classification_UrbanSound8K\\data\\raw\\fold5\\104998-7-8-13.wav]\n",
      "[2024-12-20 18:55:54,533: INFO: 414825919: Extracting MFCC Feature for c:\\Users\\yasba\\OneDrive\\Documents\\Projects\\Audio_Classification_UrbanSound8K\\data\\raw\\fold5\\104998-7-8-14.wav]\n"
     ]
    },
    {
     "name": "stderr",
     "output_type": "stream",
     "text": [
      "359it [00:20, 22.59it/s]"
     ]
    },
    {
     "name": "stdout",
     "output_type": "stream",
     "text": [
      "[2024-12-20 18:55:54,584: INFO: 414825919: Extracting MFCC Feature for c:\\Users\\yasba\\OneDrive\\Documents\\Projects\\Audio_Classification_UrbanSound8K\\data\\raw\\fold5\\104998-7-8-15.wav]\n",
      "[2024-12-20 18:55:54,623: INFO: 414825919: Extracting MFCC Feature for c:\\Users\\yasba\\OneDrive\\Documents\\Projects\\Audio_Classification_UrbanSound8K\\data\\raw\\fold5\\104998-7-8-17.wav]\n",
      "[2024-12-20 18:55:54,658: INFO: 414825919: Extracting MFCC Feature for c:\\Users\\yasba\\OneDrive\\Documents\\Projects\\Audio_Classification_UrbanSound8K\\data\\raw\\fold5\\104998-7-8-4.wav]\n"
     ]
    },
    {
     "name": "stderr",
     "output_type": "stream",
     "text": [
      "362it [00:20, 23.25it/s]"
     ]
    },
    {
     "name": "stdout",
     "output_type": "stream",
     "text": [
      "[2024-12-20 18:55:54,703: INFO: 414825919: Extracting MFCC Feature for c:\\Users\\yasba\\OneDrive\\Documents\\Projects\\Audio_Classification_UrbanSound8K\\data\\raw\\fold5\\104998-7-8-6.wav]\n",
      "[2024-12-20 18:55:54,739: INFO: 414825919: Extracting MFCC Feature for c:\\Users\\yasba\\OneDrive\\Documents\\Projects\\Audio_Classification_UrbanSound8K\\data\\raw\\fold5\\104998-7-8-7.wav]\n",
      "[2024-12-20 18:55:54,777: INFO: 414825919: Extracting MFCC Feature for c:\\Users\\yasba\\OneDrive\\Documents\\Projects\\Audio_Classification_UrbanSound8K\\data\\raw\\fold5\\104998-7-9-0.wav]\n"
     ]
    },
    {
     "name": "stderr",
     "output_type": "stream",
     "text": [
      "365it [00:20, 23.81it/s]"
     ]
    },
    {
     "name": "stdout",
     "output_type": "stream",
     "text": [
      "[2024-12-20 18:55:54,821: INFO: 414825919: Extracting MFCC Feature for c:\\Users\\yasba\\OneDrive\\Documents\\Projects\\Audio_Classification_UrbanSound8K\\data\\raw\\fold5\\104998-7-9-13.wav]\n",
      "[2024-12-20 18:55:54,860: INFO: 414825919: Extracting MFCC Feature for c:\\Users\\yasba\\OneDrive\\Documents\\Projects\\Audio_Classification_UrbanSound8K\\data\\raw\\fold5\\104998-7-9-9.wav]\n",
      "[2024-12-20 18:55:54,897: INFO: 414825919: Extracting MFCC Feature for c:\\Users\\yasba\\OneDrive\\Documents\\Projects\\Audio_Classification_UrbanSound8K\\data\\raw\\fold9\\105029-7-0-0.wav]\n"
     ]
    },
    {
     "name": "stderr",
     "output_type": "stream",
     "text": [
      "368it [00:20, 23.22it/s]"
     ]
    },
    {
     "name": "stdout",
     "output_type": "stream",
     "text": [
      "[2024-12-20 18:55:54,960: INFO: 414825919: Extracting MFCC Feature for c:\\Users\\yasba\\OneDrive\\Documents\\Projects\\Audio_Classification_UrbanSound8K\\data\\raw\\fold9\\105029-7-0-1.wav]\n",
      "[2024-12-20 18:55:54,994: INFO: 414825919: Extracting MFCC Feature for c:\\Users\\yasba\\OneDrive\\Documents\\Projects\\Audio_Classification_UrbanSound8K\\data\\raw\\fold9\\105029-7-0-2.wav]\n",
      "[2024-12-20 18:55:55,039: INFO: 414825919: Extracting MFCC Feature for c:\\Users\\yasba\\OneDrive\\Documents\\Projects\\Audio_Classification_UrbanSound8K\\data\\raw\\fold9\\105029-7-0-3.wav]\n"
     ]
    },
    {
     "name": "stderr",
     "output_type": "stream",
     "text": [
      "371it [00:20, 23.45it/s]"
     ]
    },
    {
     "name": "stdout",
     "output_type": "stream",
     "text": [
      "[2024-12-20 18:55:55,084: INFO: 414825919: Extracting MFCC Feature for c:\\Users\\yasba\\OneDrive\\Documents\\Projects\\Audio_Classification_UrbanSound8K\\data\\raw\\fold9\\105029-7-0-4.wav]\n",
      "[2024-12-20 18:55:55,113: INFO: 414825919: Extracting MFCC Feature for c:\\Users\\yasba\\OneDrive\\Documents\\Projects\\Audio_Classification_UrbanSound8K\\data\\raw\\fold9\\105029-7-0-5.wav]\n",
      "[2024-12-20 18:55:55,151: INFO: 414825919: Extracting MFCC Feature for c:\\Users\\yasba\\OneDrive\\Documents\\Projects\\Audio_Classification_UrbanSound8K\\data\\raw\\fold9\\105029-7-0-6.wav]\n"
     ]
    },
    {
     "name": "stderr",
     "output_type": "stream",
     "text": [
      "374it [00:20, 24.62it/s]"
     ]
    },
    {
     "name": "stdout",
     "output_type": "stream",
     "text": [
      "[2024-12-20 18:55:55,191: INFO: 414825919: Extracting MFCC Feature for c:\\Users\\yasba\\OneDrive\\Documents\\Projects\\Audio_Classification_UrbanSound8K\\data\\raw\\fold9\\105029-7-1-0.wav]\n",
      "[2024-12-20 18:55:55,229: INFO: 414825919: Extracting MFCC Feature for c:\\Users\\yasba\\OneDrive\\Documents\\Projects\\Audio_Classification_UrbanSound8K\\data\\raw\\fold9\\105029-7-1-1.wav]\n",
      "[2024-12-20 18:55:55,271: INFO: 414825919: Extracting MFCC Feature for c:\\Users\\yasba\\OneDrive\\Documents\\Projects\\Audio_Classification_UrbanSound8K\\data\\raw\\fold9\\105029-7-1-10.wav]\n"
     ]
    },
    {
     "name": "stderr",
     "output_type": "stream",
     "text": [
      "377it [00:20, 24.73it/s]"
     ]
    },
    {
     "name": "stdout",
     "output_type": "stream",
     "text": [
      "[2024-12-20 18:55:55,310: INFO: 414825919: Extracting MFCC Feature for c:\\Users\\yasba\\OneDrive\\Documents\\Projects\\Audio_Classification_UrbanSound8K\\data\\raw\\fold9\\105029-7-1-11.wav]\n",
      "[2024-12-20 18:55:55,336: INFO: 414825919: Extracting MFCC Feature for c:\\Users\\yasba\\OneDrive\\Documents\\Projects\\Audio_Classification_UrbanSound8K\\data\\raw\\fold9\\105029-7-1-12.wav]\n",
      "[2024-12-20 18:55:55,394: INFO: 414825919: Extracting MFCC Feature for c:\\Users\\yasba\\OneDrive\\Documents\\Projects\\Audio_Classification_UrbanSound8K\\data\\raw\\fold9\\105029-7-1-13.wav]\n"
     ]
    },
    {
     "name": "stderr",
     "output_type": "stream",
     "text": [
      "380it [00:21, 24.69it/s]"
     ]
    },
    {
     "name": "stdout",
     "output_type": "stream",
     "text": [
      "[2024-12-20 18:55:55,433: INFO: 414825919: Extracting MFCC Feature for c:\\Users\\yasba\\OneDrive\\Documents\\Projects\\Audio_Classification_UrbanSound8K\\data\\raw\\fold9\\105029-7-1-2.wav]\n",
      "[2024-12-20 18:55:55,468: INFO: 414825919: Extracting MFCC Feature for c:\\Users\\yasba\\OneDrive\\Documents\\Projects\\Audio_Classification_UrbanSound8K\\data\\raw\\fold9\\105029-7-1-3.wav]\n",
      "[2024-12-20 18:55:55,502: INFO: 414825919: Extracting MFCC Feature for c:\\Users\\yasba\\OneDrive\\Documents\\Projects\\Audio_Classification_UrbanSound8K\\data\\raw\\fold9\\105029-7-1-4.wav]\n"
     ]
    },
    {
     "name": "stderr",
     "output_type": "stream",
     "text": [
      "383it [00:21, 25.20it/s]"
     ]
    },
    {
     "name": "stdout",
     "output_type": "stream",
     "text": [
      "[2024-12-20 18:55:55,545: INFO: 414825919: Extracting MFCC Feature for c:\\Users\\yasba\\OneDrive\\Documents\\Projects\\Audio_Classification_UrbanSound8K\\data\\raw\\fold9\\105029-7-1-5.wav]\n",
      "[2024-12-20 18:55:55,584: INFO: 414825919: Extracting MFCC Feature for c:\\Users\\yasba\\OneDrive\\Documents\\Projects\\Audio_Classification_UrbanSound8K\\data\\raw\\fold9\\105029-7-1-6.wav]\n",
      "[2024-12-20 18:55:55,621: INFO: 414825919: Extracting MFCC Feature for c:\\Users\\yasba\\OneDrive\\Documents\\Projects\\Audio_Classification_UrbanSound8K\\data\\raw\\fold9\\105029-7-1-7.wav]\n"
     ]
    },
    {
     "name": "stderr",
     "output_type": "stream",
     "text": [
      "386it [00:21, 25.85it/s]"
     ]
    },
    {
     "name": "stdout",
     "output_type": "stream",
     "text": [
      "[2024-12-20 18:55:55,655: INFO: 414825919: Extracting MFCC Feature for c:\\Users\\yasba\\OneDrive\\Documents\\Projects\\Audio_Classification_UrbanSound8K\\data\\raw\\fold9\\105029-7-1-8.wav]\n",
      "[2024-12-20 18:55:55,683: INFO: 414825919: Extracting MFCC Feature for c:\\Users\\yasba\\OneDrive\\Documents\\Projects\\Audio_Classification_UrbanSound8K\\data\\raw\\fold9\\105029-7-1-9.wav]\n",
      "[2024-12-20 18:55:55,725: INFO: 414825919: Extracting MFCC Feature for c:\\Users\\yasba\\OneDrive\\Documents\\Projects\\Audio_Classification_UrbanSound8K\\data\\raw\\fold9\\105029-7-2-0.wav]\n"
     ]
    },
    {
     "name": "stderr",
     "output_type": "stream",
     "text": [
      "389it [00:21, 26.44it/s]"
     ]
    },
    {
     "name": "stdout",
     "output_type": "stream",
     "text": [
      "[2024-12-20 18:55:55,762: INFO: 414825919: Extracting MFCC Feature for c:\\Users\\yasba\\OneDrive\\Documents\\Projects\\Audio_Classification_UrbanSound8K\\data\\raw\\fold9\\105029-7-2-1.wav]\n",
      "[2024-12-20 18:55:55,793: INFO: 414825919: Extracting MFCC Feature for c:\\Users\\yasba\\OneDrive\\Documents\\Projects\\Audio_Classification_UrbanSound8K\\data\\raw\\fold9\\105029-7-2-10.wav]\n",
      "[2024-12-20 18:55:55,836: INFO: 414825919: Extracting MFCC Feature for c:\\Users\\yasba\\OneDrive\\Documents\\Projects\\Audio_Classification_UrbanSound8K\\data\\raw\\fold9\\105029-7-2-11.wav]\n"
     ]
    },
    {
     "name": "stderr",
     "output_type": "stream",
     "text": [
      "392it [00:21, 26.83it/s]"
     ]
    },
    {
     "name": "stdout",
     "output_type": "stream",
     "text": [
      "[2024-12-20 18:55:55,872: INFO: 414825919: Extracting MFCC Feature for c:\\Users\\yasba\\OneDrive\\Documents\\Projects\\Audio_Classification_UrbanSound8K\\data\\raw\\fold9\\105029-7-2-12.wav]\n",
      "[2024-12-20 18:55:55,906: INFO: 414825919: Extracting MFCC Feature for c:\\Users\\yasba\\OneDrive\\Documents\\Projects\\Audio_Classification_UrbanSound8K\\data\\raw\\fold9\\105029-7-2-13.wav]\n",
      "[2024-12-20 18:55:55,947: INFO: 414825919: Extracting MFCC Feature for c:\\Users\\yasba\\OneDrive\\Documents\\Projects\\Audio_Classification_UrbanSound8K\\data\\raw\\fold9\\105029-7-2-14.wav]\n"
     ]
    },
    {
     "name": "stderr",
     "output_type": "stream",
     "text": [
      "395it [00:21, 26.67it/s]"
     ]
    },
    {
     "name": "stdout",
     "output_type": "stream",
     "text": [
      "[2024-12-20 18:55:55,992: INFO: 414825919: Extracting MFCC Feature for c:\\Users\\yasba\\OneDrive\\Documents\\Projects\\Audio_Classification_UrbanSound8K\\data\\raw\\fold9\\105029-7-2-15.wav]\n",
      "[2024-12-20 18:55:56,027: INFO: 414825919: Extracting MFCC Feature for c:\\Users\\yasba\\OneDrive\\Documents\\Projects\\Audio_Classification_UrbanSound8K\\data\\raw\\fold9\\105029-7-2-16.wav]\n",
      "[2024-12-20 18:55:56,074: INFO: 414825919: Extracting MFCC Feature for c:\\Users\\yasba\\OneDrive\\Documents\\Projects\\Audio_Classification_UrbanSound8K\\data\\raw\\fold9\\105029-7-2-2.wav]\n"
     ]
    },
    {
     "name": "stderr",
     "output_type": "stream",
     "text": [
      "398it [00:21, 25.29it/s]"
     ]
    },
    {
     "name": "stdout",
     "output_type": "stream",
     "text": [
      "[2024-12-20 18:55:56,119: INFO: 414825919: Extracting MFCC Feature for c:\\Users\\yasba\\OneDrive\\Documents\\Projects\\Audio_Classification_UrbanSound8K\\data\\raw\\fold9\\105029-7-2-3.wav]\n",
      "[2024-12-20 18:55:56,151: INFO: 414825919: Extracting MFCC Feature for c:\\Users\\yasba\\OneDrive\\Documents\\Projects\\Audio_Classification_UrbanSound8K\\data\\raw\\fold9\\105029-7-2-4.wav]\n",
      "[2024-12-20 18:55:56,190: INFO: 414825919: Extracting MFCC Feature for c:\\Users\\yasba\\OneDrive\\Documents\\Projects\\Audio_Classification_UrbanSound8K\\data\\raw\\fold9\\105029-7-2-5.wav]\n"
     ]
    },
    {
     "name": "stderr",
     "output_type": "stream",
     "text": [
      "401it [00:21, 26.09it/s]"
     ]
    },
    {
     "name": "stdout",
     "output_type": "stream",
     "text": [
      "[2024-12-20 18:55:56,224: INFO: 414825919: Extracting MFCC Feature for c:\\Users\\yasba\\OneDrive\\Documents\\Projects\\Audio_Classification_UrbanSound8K\\data\\raw\\fold9\\105029-7-2-6.wav]\n",
      "[2024-12-20 18:55:56,265: INFO: 414825919: Extracting MFCC Feature for c:\\Users\\yasba\\OneDrive\\Documents\\Projects\\Audio_Classification_UrbanSound8K\\data\\raw\\fold9\\105029-7-2-7.wav]\n",
      "[2024-12-20 18:55:56,310: INFO: 414825919: Extracting MFCC Feature for c:\\Users\\yasba\\OneDrive\\Documents\\Projects\\Audio_Classification_UrbanSound8K\\data\\raw\\fold9\\105029-7-2-8.wav]\n"
     ]
    },
    {
     "name": "stderr",
     "output_type": "stream",
     "text": [
      "404it [00:21, 24.51it/s]"
     ]
    },
    {
     "name": "stdout",
     "output_type": "stream",
     "text": [
      "[2024-12-20 18:55:56,363: INFO: 414825919: Extracting MFCC Feature for c:\\Users\\yasba\\OneDrive\\Documents\\Projects\\Audio_Classification_UrbanSound8K\\data\\raw\\fold9\\105029-7-2-9.wav]\n",
      "[2024-12-20 18:55:56,415: INFO: 414825919: Extracting MFCC Feature for c:\\Users\\yasba\\OneDrive\\Documents\\Projects\\Audio_Classification_UrbanSound8K\\data\\raw\\fold9\\105029-7-3-0.wav]\n",
      "[2024-12-20 18:55:56,463: INFO: 414825919: Extracting MFCC Feature for c:\\Users\\yasba\\OneDrive\\Documents\\Projects\\Audio_Classification_UrbanSound8K\\data\\raw\\fold9\\105029-7-3-1.wav]\n"
     ]
    },
    {
     "name": "stderr",
     "output_type": "stream",
     "text": [
      "407it [00:22, 23.51it/s]"
     ]
    },
    {
     "name": "stdout",
     "output_type": "stream",
     "text": [
      "[2024-12-20 18:55:56,503: INFO: 414825919: Extracting MFCC Feature for c:\\Users\\yasba\\OneDrive\\Documents\\Projects\\Audio_Classification_UrbanSound8K\\data\\raw\\fold9\\105029-7-3-2.wav]\n",
      "[2024-12-20 18:55:56,571: INFO: 414825919: Extracting MFCC Feature for c:\\Users\\yasba\\OneDrive\\Documents\\Projects\\Audio_Classification_UrbanSound8K\\data\\raw\\fold9\\105029-7-3-3.wav]\n",
      "[2024-12-20 18:55:56,615: INFO: 414825919: Extracting MFCC Feature for c:\\Users\\yasba\\OneDrive\\Documents\\Projects\\Audio_Classification_UrbanSound8K\\data\\raw\\fold9\\105029-7-3-4.wav]\n"
     ]
    },
    {
     "name": "stderr",
     "output_type": "stream",
     "text": [
      "410it [00:22, 22.18it/s]"
     ]
    },
    {
     "name": "stdout",
     "output_type": "stream",
     "text": [
      "[2024-12-20 18:55:56,657: INFO: 414825919: Extracting MFCC Feature for c:\\Users\\yasba\\OneDrive\\Documents\\Projects\\Audio_Classification_UrbanSound8K\\data\\raw\\fold9\\105029-7-3-5.wav]\n",
      "[2024-12-20 18:55:56,697: INFO: 414825919: Extracting MFCC Feature for c:\\Users\\yasba\\OneDrive\\Documents\\Projects\\Audio_Classification_UrbanSound8K\\data\\raw\\fold9\\105029-7-3-6.wav]\n",
      "[2024-12-20 18:55:56,738: INFO: 414825919: Extracting MFCC Feature for c:\\Users\\yasba\\OneDrive\\Documents\\Projects\\Audio_Classification_UrbanSound8K\\data\\raw\\fold9\\105029-7-3-7.wav]\n"
     ]
    },
    {
     "name": "stderr",
     "output_type": "stream",
     "text": [
      "413it [00:22, 22.67it/s]"
     ]
    },
    {
     "name": "stdout",
     "output_type": "stream",
     "text": [
      "[2024-12-20 18:55:56,782: INFO: 414825919: Extracting MFCC Feature for c:\\Users\\yasba\\OneDrive\\Documents\\Projects\\Audio_Classification_UrbanSound8K\\data\\raw\\fold9\\105029-7-4-0.wav]\n",
      "[2024-12-20 18:55:56,828: INFO: 414825919: Extracting MFCC Feature for c:\\Users\\yasba\\OneDrive\\Documents\\Projects\\Audio_Classification_UrbanSound8K\\data\\raw\\fold9\\105029-7-4-1.wav]\n",
      "[2024-12-20 18:55:56,942: INFO: 414825919: Extracting MFCC Feature for c:\\Users\\yasba\\OneDrive\\Documents\\Projects\\Audio_Classification_UrbanSound8K\\data\\raw\\fold9\\105029-7-4-2.wav]\n"
     ]
    },
    {
     "name": "stderr",
     "output_type": "stream",
     "text": [
      "416it [00:22, 18.53it/s]"
     ]
    },
    {
     "name": "stdout",
     "output_type": "stream",
     "text": [
      "[2024-12-20 18:55:57,012: INFO: 414825919: Extracting MFCC Feature for c:\\Users\\yasba\\OneDrive\\Documents\\Projects\\Audio_Classification_UrbanSound8K\\data\\raw\\fold9\\105029-7-4-3.wav]\n",
      "[2024-12-20 18:55:57,054: INFO: 414825919: Extracting MFCC Feature for c:\\Users\\yasba\\OneDrive\\Documents\\Projects\\Audio_Classification_UrbanSound8K\\data\\raw\\fold9\\105088-3-0-10.wav]\n",
      "[2024-12-20 18:55:57,088: INFO: 414825919: Extracting MFCC Feature for c:\\Users\\yasba\\OneDrive\\Documents\\Projects\\Audio_Classification_UrbanSound8K\\data\\raw\\fold9\\105088-3-0-11.wav]\n"
     ]
    },
    {
     "name": "stderr",
     "output_type": "stream",
     "text": [
      "419it [00:22, 20.52it/s]"
     ]
    },
    {
     "name": "stdout",
     "output_type": "stream",
     "text": [
      "[2024-12-20 18:55:57,123: INFO: 414825919: Extracting MFCC Feature for c:\\Users\\yasba\\OneDrive\\Documents\\Projects\\Audio_Classification_UrbanSound8K\\data\\raw\\fold9\\105088-3-0-19.wav]\n",
      "[2024-12-20 18:55:57,162: INFO: 414825919: Extracting MFCC Feature for c:\\Users\\yasba\\OneDrive\\Documents\\Projects\\Audio_Classification_UrbanSound8K\\data\\raw\\fold9\\105088-3-0-8.wav]\n",
      "[2024-12-20 18:55:57,199: INFO: 414825919: Extracting MFCC Feature for c:\\Users\\yasba\\OneDrive\\Documents\\Projects\\Audio_Classification_UrbanSound8K\\data\\raw\\fold7\\105289-8-0-0.wav]\n"
     ]
    },
    {
     "name": "stderr",
     "output_type": "stream",
     "text": [
      "422it [00:22, 22.19it/s]"
     ]
    },
    {
     "name": "stdout",
     "output_type": "stream",
     "text": [
      "[2024-12-20 18:55:57,234: INFO: 414825919: Extracting MFCC Feature for c:\\Users\\yasba\\OneDrive\\Documents\\Projects\\Audio_Classification_UrbanSound8K\\data\\raw\\fold7\\105289-8-0-1.wav]\n",
      "[2024-12-20 18:55:57,271: INFO: 414825919: Extracting MFCC Feature for c:\\Users\\yasba\\OneDrive\\Documents\\Projects\\Audio_Classification_UrbanSound8K\\data\\raw\\fold7\\105289-8-0-2.wav]\n",
      "[2024-12-20 18:55:57,307: INFO: 414825919: Extracting MFCC Feature for c:\\Users\\yasba\\OneDrive\\Documents\\Projects\\Audio_Classification_UrbanSound8K\\data\\raw\\fold7\\105289-8-0-3.wav]\n"
     ]
    },
    {
     "name": "stderr",
     "output_type": "stream",
     "text": [
      "425it [00:22, 23.02it/s]"
     ]
    },
    {
     "name": "stdout",
     "output_type": "stream",
     "text": [
      "[2024-12-20 18:55:57,354: INFO: 414825919: Extracting MFCC Feature for c:\\Users\\yasba\\OneDrive\\Documents\\Projects\\Audio_Classification_UrbanSound8K\\data\\raw\\fold7\\105289-8-0-4.wav]\n",
      "[2024-12-20 18:55:57,405: INFO: 414825919: Extracting MFCC Feature for c:\\Users\\yasba\\OneDrive\\Documents\\Projects\\Audio_Classification_UrbanSound8K\\data\\raw\\fold7\\105289-8-0-5.wav]\n",
      "[2024-12-20 18:55:57,444: INFO: 414825919: Extracting MFCC Feature for c:\\Users\\yasba\\OneDrive\\Documents\\Projects\\Audio_Classification_UrbanSound8K\\data\\raw\\fold7\\105289-8-1-0.wav]\n"
     ]
    },
    {
     "name": "stderr",
     "output_type": "stream",
     "text": [
      "428it [00:23, 23.20it/s]"
     ]
    },
    {
     "name": "stdout",
     "output_type": "stream",
     "text": [
      "[2024-12-20 18:55:57,479: INFO: 414825919: Extracting MFCC Feature for c:\\Users\\yasba\\OneDrive\\Documents\\Projects\\Audio_Classification_UrbanSound8K\\data\\raw\\fold7\\105289-8-1-1.wav]\n",
      "[2024-12-20 18:55:57,520: INFO: 414825919: Extracting MFCC Feature for c:\\Users\\yasba\\OneDrive\\Documents\\Projects\\Audio_Classification_UrbanSound8K\\data\\raw\\fold7\\105289-8-1-2.wav]\n",
      "[2024-12-20 18:55:57,556: INFO: 414825919: Extracting MFCC Feature for c:\\Users\\yasba\\OneDrive\\Documents\\Projects\\Audio_Classification_UrbanSound8K\\data\\raw\\fold7\\105289-8-1-3.wav]\n"
     ]
    },
    {
     "name": "stderr",
     "output_type": "stream",
     "text": [
      "431it [00:23, 23.82it/s]"
     ]
    },
    {
     "name": "stdout",
     "output_type": "stream",
     "text": [
      "[2024-12-20 18:55:57,595: INFO: 414825919: Extracting MFCC Feature for c:\\Users\\yasba\\OneDrive\\Documents\\Projects\\Audio_Classification_UrbanSound8K\\data\\raw\\fold7\\105289-8-1-4.wav]\n",
      "[2024-12-20 18:55:57,636: INFO: 414825919: Extracting MFCC Feature for c:\\Users\\yasba\\OneDrive\\Documents\\Projects\\Audio_Classification_UrbanSound8K\\data\\raw\\fold7\\105289-8-2-0.wav]\n",
      "[2024-12-20 18:55:57,669: INFO: 414825919: Extracting MFCC Feature for c:\\Users\\yasba\\OneDrive\\Documents\\Projects\\Audio_Classification_UrbanSound8K\\data\\raw\\fold7\\105289-8-2-1.wav]\n"
     ]
    },
    {
     "name": "stderr",
     "output_type": "stream",
     "text": [
      "434it [00:23, 24.34it/s]"
     ]
    },
    {
     "name": "stdout",
     "output_type": "stream",
     "text": [
      "[2024-12-20 18:55:57,714: INFO: 414825919: Extracting MFCC Feature for c:\\Users\\yasba\\OneDrive\\Documents\\Projects\\Audio_Classification_UrbanSound8K\\data\\raw\\fold7\\105289-8-2-2.wav]\n",
      "[2024-12-20 18:55:57,749: INFO: 414825919: Extracting MFCC Feature for c:\\Users\\yasba\\OneDrive\\Documents\\Projects\\Audio_Classification_UrbanSound8K\\data\\raw\\fold7\\105289-8-2-3.wav]\n",
      "[2024-12-20 18:55:57,792: INFO: 414825919: Extracting MFCC Feature for c:\\Users\\yasba\\OneDrive\\Documents\\Projects\\Audio_Classification_UrbanSound8K\\data\\raw\\fold7\\105289-8-2-4.wav]\n"
     ]
    },
    {
     "name": "stderr",
     "output_type": "stream",
     "text": [
      "437it [00:23, 24.77it/s]"
     ]
    },
    {
     "name": "stdout",
     "output_type": "stream",
     "text": [
      "[2024-12-20 18:55:57,830: INFO: 414825919: Extracting MFCC Feature for c:\\Users\\yasba\\OneDrive\\Documents\\Projects\\Audio_Classification_UrbanSound8K\\data\\raw\\fold7\\105289-8-2-5.wav]\n",
      "[2024-12-20 18:55:57,872: INFO: 414825919: Extracting MFCC Feature for c:\\Users\\yasba\\OneDrive\\Documents\\Projects\\Audio_Classification_UrbanSound8K\\data\\raw\\fold7\\105289-8-2-6.wav]\n",
      "[2024-12-20 18:55:57,913: INFO: 414825919: Extracting MFCC Feature for c:\\Users\\yasba\\OneDrive\\Documents\\Projects\\Audio_Classification_UrbanSound8K\\data\\raw\\fold7\\105289-8-2-7.wav]\n"
     ]
    },
    {
     "name": "stderr",
     "output_type": "stream",
     "text": [
      "440it [00:23, 24.54it/s]"
     ]
    },
    {
     "name": "stdout",
     "output_type": "stream",
     "text": [
      "[2024-12-20 18:55:57,954: INFO: 414825919: Extracting MFCC Feature for c:\\Users\\yasba\\OneDrive\\Documents\\Projects\\Audio_Classification_UrbanSound8K\\data\\raw\\fold6\\105319-3-0-22.wav]\n",
      "[2024-12-20 18:55:57,989: INFO: 414825919: Extracting MFCC Feature for c:\\Users\\yasba\\OneDrive\\Documents\\Projects\\Audio_Classification_UrbanSound8K\\data\\raw\\fold6\\105319-3-0-29.wav]\n",
      "[2024-12-20 18:55:58,034: INFO: 414825919: Extracting MFCC Feature for c:\\Users\\yasba\\OneDrive\\Documents\\Projects\\Audio_Classification_UrbanSound8K\\data\\raw\\fold6\\105319-3-0-39.wav]\n"
     ]
    },
    {
     "name": "stderr",
     "output_type": "stream",
     "text": [
      "443it [00:23, 24.81it/s]"
     ]
    },
    {
     "name": "stdout",
     "output_type": "stream",
     "text": [
      "[2024-12-20 18:55:58,072: INFO: 414825919: Extracting MFCC Feature for c:\\Users\\yasba\\OneDrive\\Documents\\Projects\\Audio_Classification_UrbanSound8K\\data\\raw\\fold1\\105415-2-0-1.wav]\n",
      "[2024-12-20 18:55:58,108: INFO: 414825919: Extracting MFCC Feature for c:\\Users\\yasba\\OneDrive\\Documents\\Projects\\Audio_Classification_UrbanSound8K\\data\\raw\\fold1\\105415-2-0-15.wav]\n",
      "[2024-12-20 18:55:58,164: INFO: 414825919: Extracting MFCC Feature for c:\\Users\\yasba\\OneDrive\\Documents\\Projects\\Audio_Classification_UrbanSound8K\\data\\raw\\fold1\\105415-2-0-19.wav]\n"
     ]
    },
    {
     "name": "stderr",
     "output_type": "stream",
     "text": [
      "446it [00:23, 24.19it/s]"
     ]
    },
    {
     "name": "stdout",
     "output_type": "stream",
     "text": [
      "[2024-12-20 18:55:58,207: INFO: 414825919: Extracting MFCC Feature for c:\\Users\\yasba\\OneDrive\\Documents\\Projects\\Audio_Classification_UrbanSound8K\\data\\raw\\fold1\\105415-2-0-21.wav]\n",
      "[2024-12-20 18:55:58,244: INFO: 414825919: Extracting MFCC Feature for c:\\Users\\yasba\\OneDrive\\Documents\\Projects\\Audio_Classification_UrbanSound8K\\data\\raw\\fold1\\105415-2-0-24.wav]\n",
      "[2024-12-20 18:55:58,277: INFO: 414825919: Extracting MFCC Feature for c:\\Users\\yasba\\OneDrive\\Documents\\Projects\\Audio_Classification_UrbanSound8K\\data\\raw\\fold1\\105415-2-0-4.wav]\n"
     ]
    },
    {
     "name": "stderr",
     "output_type": "stream",
     "text": [
      "449it [00:23, 24.86it/s]"
     ]
    },
    {
     "name": "stdout",
     "output_type": "stream",
     "text": [
      "[2024-12-20 18:55:58,317: INFO: 414825919: Extracting MFCC Feature for c:\\Users\\yasba\\OneDrive\\Documents\\Projects\\Audio_Classification_UrbanSound8K\\data\\raw\\fold1\\105415-2-0-6.wav]\n",
      "[2024-12-20 18:55:58,356: INFO: 414825919: Extracting MFCC Feature for c:\\Users\\yasba\\OneDrive\\Documents\\Projects\\Audio_Classification_UrbanSound8K\\data\\raw\\fold1\\105415-2-0-8.wav]\n",
      "[2024-12-20 18:55:58,392: INFO: 414825919: Extracting MFCC Feature for c:\\Users\\yasba\\OneDrive\\Documents\\Projects\\Audio_Classification_UrbanSound8K\\data\\raw\\fold5\\105425-9-0-1.wav]\n"
     ]
    },
    {
     "name": "stderr",
     "output_type": "stream",
     "text": [
      "452it [00:24, 25.36it/s]"
     ]
    },
    {
     "name": "stdout",
     "output_type": "stream",
     "text": [
      "[2024-12-20 18:55:58,430: INFO: 414825919: Extracting MFCC Feature for c:\\Users\\yasba\\OneDrive\\Documents\\Projects\\Audio_Classification_UrbanSound8K\\data\\raw\\fold5\\105425-9-0-10.wav]\n",
      "[2024-12-20 18:55:58,473: INFO: 414825919: Extracting MFCC Feature for c:\\Users\\yasba\\OneDrive\\Documents\\Projects\\Audio_Classification_UrbanSound8K\\data\\raw\\fold5\\105425-9-0-12.wav]\n",
      "[2024-12-20 18:55:58,506: INFO: 414825919: Extracting MFCC Feature for c:\\Users\\yasba\\OneDrive\\Documents\\Projects\\Audio_Classification_UrbanSound8K\\data\\raw\\fold5\\105425-9-0-13.wav]\n"
     ]
    },
    {
     "name": "stderr",
     "output_type": "stream",
     "text": [
      "455it [00:24, 25.33it/s]"
     ]
    },
    {
     "name": "stdout",
     "output_type": "stream",
     "text": [
      "[2024-12-20 18:55:58,547: INFO: 414825919: Extracting MFCC Feature for c:\\Users\\yasba\\OneDrive\\Documents\\Projects\\Audio_Classification_UrbanSound8K\\data\\raw\\fold5\\105425-9-0-14.wav]\n",
      "[2024-12-20 18:55:58,584: INFO: 414825919: Extracting MFCC Feature for c:\\Users\\yasba\\OneDrive\\Documents\\Projects\\Audio_Classification_UrbanSound8K\\data\\raw\\fold5\\105425-9-0-23.wav]\n",
      "[2024-12-20 18:55:58,623: INFO: 414825919: Extracting MFCC Feature for c:\\Users\\yasba\\OneDrive\\Documents\\Projects\\Audio_Classification_UrbanSound8K\\data\\raw\\fold10\\106014-5-0-0.wav]\n"
     ]
    },
    {
     "name": "stderr",
     "output_type": "stream",
     "text": [
      "458it [00:24, 26.02it/s]"
     ]
    },
    {
     "name": "stdout",
     "output_type": "stream",
     "text": [
      "[2024-12-20 18:55:58,655: INFO: 414825919: Extracting MFCC Feature for c:\\Users\\yasba\\OneDrive\\Documents\\Projects\\Audio_Classification_UrbanSound8K\\data\\raw\\fold10\\106014-5-0-1.wav]\n",
      "[2024-12-20 18:55:58,684: INFO: 414825919: Extracting MFCC Feature for c:\\Users\\yasba\\OneDrive\\Documents\\Projects\\Audio_Classification_UrbanSound8K\\data\\raw\\fold10\\106014-5-0-2.wav]\n",
      "[2024-12-20 18:55:58,716: INFO: 414825919: Extracting MFCC Feature for c:\\Users\\yasba\\OneDrive\\Documents\\Projects\\Audio_Classification_UrbanSound8K\\data\\raw\\fold10\\106014-5-0-3.wav]\n",
      "[2024-12-20 18:55:58,753: INFO: 414825919: Extracting MFCC Feature for c:\\Users\\yasba\\OneDrive\\Documents\\Projects\\Audio_Classification_UrbanSound8K\\data\\raw\\fold10\\106014-5-0-4.wav]\n"
     ]
    },
    {
     "name": "stderr",
     "output_type": "stream",
     "text": [
      "462it [00:24, 27.48it/s]"
     ]
    },
    {
     "name": "stdout",
     "output_type": "stream",
     "text": [
      "[2024-12-20 18:55:58,786: INFO: 414825919: Extracting MFCC Feature for c:\\Users\\yasba\\OneDrive\\Documents\\Projects\\Audio_Classification_UrbanSound8K\\data\\raw\\fold2\\106015-5-0-0.wav]\n",
      "[2024-12-20 18:55:58,820: INFO: 414825919: Extracting MFCC Feature for c:\\Users\\yasba\\OneDrive\\Documents\\Projects\\Audio_Classification_UrbanSound8K\\data\\raw\\fold2\\106015-5-0-1.wav]\n",
      "[2024-12-20 18:55:58,850: INFO: 414825919: Extracting MFCC Feature for c:\\Users\\yasba\\OneDrive\\Documents\\Projects\\Audio_Classification_UrbanSound8K\\data\\raw\\fold2\\106015-5-0-10.wav]\n",
      "[2024-12-20 18:55:58,880: INFO: 414825919: Extracting MFCC Feature for c:\\Users\\yasba\\OneDrive\\Documents\\Projects\\Audio_Classification_UrbanSound8K\\data\\raw\\fold2\\106015-5-0-11.wav]\n"
     ]
    },
    {
     "name": "stderr",
     "output_type": "stream",
     "text": [
      "466it [00:24, 28.73it/s]"
     ]
    },
    {
     "name": "stdout",
     "output_type": "stream",
     "text": [
      "[2024-12-20 18:55:58,926: INFO: 414825919: Extracting MFCC Feature for c:\\Users\\yasba\\OneDrive\\Documents\\Projects\\Audio_Classification_UrbanSound8K\\data\\raw\\fold2\\106015-5-0-12.wav]\n",
      "[2024-12-20 18:55:58,962: INFO: 414825919: Extracting MFCC Feature for c:\\Users\\yasba\\OneDrive\\Documents\\Projects\\Audio_Classification_UrbanSound8K\\data\\raw\\fold2\\106015-5-0-13.wav]\n",
      "[2024-12-20 18:55:58,994: INFO: 414825919: Extracting MFCC Feature for c:\\Users\\yasba\\OneDrive\\Documents\\Projects\\Audio_Classification_UrbanSound8K\\data\\raw\\fold2\\106015-5-0-14.wav]\n"
     ]
    },
    {
     "name": "stderr",
     "output_type": "stream",
     "text": [
      "469it [00:24, 28.32it/s]"
     ]
    },
    {
     "name": "stdout",
     "output_type": "stream",
     "text": [
      "[2024-12-20 18:55:59,024: INFO: 414825919: Extracting MFCC Feature for c:\\Users\\yasba\\OneDrive\\Documents\\Projects\\Audio_Classification_UrbanSound8K\\data\\raw\\fold2\\106015-5-0-15.wav]\n",
      "[2024-12-20 18:55:59,066: INFO: 414825919: Extracting MFCC Feature for c:\\Users\\yasba\\OneDrive\\Documents\\Projects\\Audio_Classification_UrbanSound8K\\data\\raw\\fold2\\106015-5-0-16.wav]\n",
      "[2024-12-20 18:55:59,099: INFO: 414825919: Extracting MFCC Feature for c:\\Users\\yasba\\OneDrive\\Documents\\Projects\\Audio_Classification_UrbanSound8K\\data\\raw\\fold2\\106015-5-0-17.wav]\n"
     ]
    },
    {
     "name": "stderr",
     "output_type": "stream",
     "text": [
      "472it [00:24, 27.95it/s]"
     ]
    },
    {
     "name": "stdout",
     "output_type": "stream",
     "text": [
      "[2024-12-20 18:55:59,136: INFO: 414825919: Extracting MFCC Feature for c:\\Users\\yasba\\OneDrive\\Documents\\Projects\\Audio_Classification_UrbanSound8K\\data\\raw\\fold2\\106015-5-0-18.wav]\n",
      "[2024-12-20 18:55:59,164: INFO: 414825919: Extracting MFCC Feature for c:\\Users\\yasba\\OneDrive\\Documents\\Projects\\Audio_Classification_UrbanSound8K\\data\\raw\\fold2\\106015-5-0-19.wav]\n",
      "[2024-12-20 18:55:59,196: INFO: 414825919: Extracting MFCC Feature for c:\\Users\\yasba\\OneDrive\\Documents\\Projects\\Audio_Classification_UrbanSound8K\\data\\raw\\fold2\\106015-5-0-2.wav]\n",
      "[2024-12-20 18:55:59,234: INFO: 414825919: Extracting MFCC Feature for c:\\Users\\yasba\\OneDrive\\Documents\\Projects\\Audio_Classification_UrbanSound8K\\data\\raw\\fold2\\106015-5-0-20.wav]\n"
     ]
    },
    {
     "name": "stderr",
     "output_type": "stream",
     "text": [
      "476it [00:24, 28.82it/s]"
     ]
    },
    {
     "name": "stdout",
     "output_type": "stream",
     "text": [
      "[2024-12-20 18:55:59,270: INFO: 414825919: Extracting MFCC Feature for c:\\Users\\yasba\\OneDrive\\Documents\\Projects\\Audio_Classification_UrbanSound8K\\data\\raw\\fold2\\106015-5-0-3.wav]\n",
      "[2024-12-20 18:55:59,304: INFO: 414825919: Extracting MFCC Feature for c:\\Users\\yasba\\OneDrive\\Documents\\Projects\\Audio_Classification_UrbanSound8K\\data\\raw\\fold2\\106015-5-0-4.wav]\n",
      "[2024-12-20 18:55:59,335: INFO: 414825919: Extracting MFCC Feature for c:\\Users\\yasba\\OneDrive\\Documents\\Projects\\Audio_Classification_UrbanSound8K\\data\\raw\\fold2\\106015-5-0-5.wav]\n"
     ]
    },
    {
     "name": "stderr",
     "output_type": "stream",
     "text": [
      "479it [00:24, 28.50it/s]"
     ]
    },
    {
     "name": "stdout",
     "output_type": "stream",
     "text": [
      "[2024-12-20 18:55:59,374: INFO: 414825919: Extracting MFCC Feature for c:\\Users\\yasba\\OneDrive\\Documents\\Projects\\Audio_Classification_UrbanSound8K\\data\\raw\\fold2\\106015-5-0-6.wav]\n",
      "[2024-12-20 18:55:59,404: INFO: 414825919: Extracting MFCC Feature for c:\\Users\\yasba\\OneDrive\\Documents\\Projects\\Audio_Classification_UrbanSound8K\\data\\raw\\fold2\\106015-5-0-7.wav]\n",
      "[2024-12-20 18:55:59,438: INFO: 414825919: Extracting MFCC Feature for c:\\Users\\yasba\\OneDrive\\Documents\\Projects\\Audio_Classification_UrbanSound8K\\data\\raw\\fold2\\106015-5-0-8.wav]\n"
     ]
    },
    {
     "name": "stderr",
     "output_type": "stream",
     "text": [
      "482it [00:25, 28.75it/s]"
     ]
    },
    {
     "name": "stdout",
     "output_type": "stream",
     "text": [
      "[2024-12-20 18:55:59,475: INFO: 414825919: Extracting MFCC Feature for c:\\Users\\yasba\\OneDrive\\Documents\\Projects\\Audio_Classification_UrbanSound8K\\data\\raw\\fold2\\106015-5-0-9.wav]\n",
      "[2024-12-20 18:55:59,510: INFO: 414825919: Extracting MFCC Feature for c:\\Users\\yasba\\OneDrive\\Documents\\Projects\\Audio_Classification_UrbanSound8K\\data\\raw\\fold6\\106486-5-0-0.wav]\n",
      "[2024-12-20 18:55:59,550: INFO: 414825919: Extracting MFCC Feature for c:\\Users\\yasba\\OneDrive\\Documents\\Projects\\Audio_Classification_UrbanSound8K\\data\\raw\\fold6\\106486-5-0-1.wav]\n"
     ]
    },
    {
     "name": "stderr",
     "output_type": "stream",
     "text": [
      "485it [00:25, 27.78it/s]"
     ]
    },
    {
     "name": "stdout",
     "output_type": "stream",
     "text": [
      "[2024-12-20 18:55:59,596: INFO: 414825919: Extracting MFCC Feature for c:\\Users\\yasba\\OneDrive\\Documents\\Projects\\Audio_Classification_UrbanSound8K\\data\\raw\\fold6\\106486-5-0-2.wav]\n",
      "[2024-12-20 18:55:59,635: INFO: 414825919: Extracting MFCC Feature for c:\\Users\\yasba\\OneDrive\\Documents\\Projects\\Audio_Classification_UrbanSound8K\\data\\raw\\fold5\\106487-5-0-0.wav]\n",
      "[2024-12-20 18:55:59,684: INFO: 414825919: Extracting MFCC Feature for c:\\Users\\yasba\\OneDrive\\Documents\\Projects\\Audio_Classification_UrbanSound8K\\data\\raw\\fold5\\106487-5-0-1.wav]\n"
     ]
    },
    {
     "name": "stderr",
     "output_type": "stream",
     "text": [
      "488it [00:25, 26.05it/s]"
     ]
    },
    {
     "name": "stdout",
     "output_type": "stream",
     "text": [
      "[2024-12-20 18:55:59,725: INFO: 414825919: Extracting MFCC Feature for c:\\Users\\yasba\\OneDrive\\Documents\\Projects\\Audio_Classification_UrbanSound8K\\data\\raw\\fold5\\106487-5-0-2.wav]\n",
      "[2024-12-20 18:55:59,760: INFO: 414825919: Extracting MFCC Feature for c:\\Users\\yasba\\OneDrive\\Documents\\Projects\\Audio_Classification_UrbanSound8K\\data\\raw\\fold8\\106905-5-0-0.wav]\n",
      "[2024-12-20 18:55:59,795: INFO: 414825919: Extracting MFCC Feature for c:\\Users\\yasba\\OneDrive\\Documents\\Projects\\Audio_Classification_UrbanSound8K\\data\\raw\\fold8\\106905-5-0-1.wav]\n"
     ]
    },
    {
     "name": "stderr",
     "output_type": "stream",
     "text": [
      "491it [00:25, 26.96it/s]"
     ]
    },
    {
     "name": "stdout",
     "output_type": "stream",
     "text": [
      "[2024-12-20 18:55:59,830: INFO: 414825919: Extracting MFCC Feature for c:\\Users\\yasba\\OneDrive\\Documents\\Projects\\Audio_Classification_UrbanSound8K\\data\\raw\\fold8\\106905-5-0-2.wav]\n",
      "[2024-12-20 18:55:59,873: INFO: 414825919: Extracting MFCC Feature for c:\\Users\\yasba\\OneDrive\\Documents\\Projects\\Audio_Classification_UrbanSound8K\\data\\raw\\fold1\\106905-8-0-0.wav]\n",
      "[2024-12-20 18:55:59,910: INFO: 414825919: Extracting MFCC Feature for c:\\Users\\yasba\\OneDrive\\Documents\\Projects\\Audio_Classification_UrbanSound8K\\data\\raw\\fold1\\106905-8-0-1.wav]\n"
     ]
    },
    {
     "name": "stderr",
     "output_type": "stream",
     "text": [
      "494it [00:25, 26.01it/s]"
     ]
    },
    {
     "name": "stdout",
     "output_type": "stream",
     "text": [
      "[2024-12-20 18:55:59,953: INFO: 414825919: Extracting MFCC Feature for c:\\Users\\yasba\\OneDrive\\Documents\\Projects\\Audio_Classification_UrbanSound8K\\data\\raw\\fold1\\106905-8-0-2.wav]\n",
      "[2024-12-20 18:56:00,003: INFO: 414825919: Extracting MFCC Feature for c:\\Users\\yasba\\OneDrive\\Documents\\Projects\\Audio_Classification_UrbanSound8K\\data\\raw\\fold1\\106905-8-0-3.wav]\n",
      "[2024-12-20 18:56:00,039: INFO: 414825919: Extracting MFCC Feature for c:\\Users\\yasba\\OneDrive\\Documents\\Projects\\Audio_Classification_UrbanSound8K\\data\\raw\\fold9\\106955-6-0-0.wav]\n"
     ]
    },
    {
     "name": "stderr",
     "output_type": "stream",
     "text": [
      "497it [00:25, 26.41it/s]"
     ]
    },
    {
     "name": "stdout",
     "output_type": "stream",
     "text": [
      "[2024-12-20 18:56:00,063: INFO: 414825919: Extracting MFCC Feature for c:\\Users\\yasba\\OneDrive\\Documents\\Projects\\Audio_Classification_UrbanSound8K\\data\\raw\\fold8\\107090-1-0-0.wav]\n",
      "[2024-12-20 18:56:00,078: INFO: 414825919: Extracting MFCC Feature for c:\\Users\\yasba\\OneDrive\\Documents\\Projects\\Audio_Classification_UrbanSound8K\\data\\raw\\fold8\\107090-1-1-0.wav]\n",
      "[2024-12-20 18:56:00,095: INFO: 414825919: Extracting MFCC Feature for c:\\Users\\yasba\\OneDrive\\Documents\\Projects\\Audio_Classification_UrbanSound8K\\data\\raw\\fold8\\107190-3-0-0.wav]\n",
      "[2024-12-20 18:56:00,122: INFO: 414825919: Extracting MFCC Feature for c:\\Users\\yasba\\OneDrive\\Documents\\Projects\\Audio_Classification_UrbanSound8K\\data\\raw\\fold3\\107228-5-0-0.wav]\n",
      "[2024-12-20 18:56:00,158: INFO: 414825919: Extracting MFCC Feature for c:\\Users\\yasba\\OneDrive\\Documents\\Projects\\Audio_Classification_UrbanSound8K\\data\\raw\\fold3\\107228-5-0-1.wav]\n"
     ]
    },
    {
     "name": "stderr",
     "output_type": "stream",
     "text": [
      "502it [00:25, 30.45it/s]"
     ]
    },
    {
     "name": "stdout",
     "output_type": "stream",
     "text": [
      "[2024-12-20 18:56:00,191: INFO: 414825919: Extracting MFCC Feature for c:\\Users\\yasba\\OneDrive\\Documents\\Projects\\Audio_Classification_UrbanSound8K\\data\\raw\\fold3\\107228-5-0-2.wav]\n",
      "[2024-12-20 18:56:00,227: INFO: 414825919: Extracting MFCC Feature for c:\\Users\\yasba\\OneDrive\\Documents\\Projects\\Audio_Classification_UrbanSound8K\\data\\raw\\fold3\\107228-5-0-3.wav]\n",
      "[2024-12-20 18:56:00,262: INFO: 414825919: Extracting MFCC Feature for c:\\Users\\yasba\\OneDrive\\Documents\\Projects\\Audio_Classification_UrbanSound8K\\data\\raw\\fold3\\107228-5-0-4.wav]\n",
      "[2024-12-20 18:56:00,305: INFO: 414825919: Extracting MFCC Feature for c:\\Users\\yasba\\OneDrive\\Documents\\Projects\\Audio_Classification_UrbanSound8K\\data\\raw\\fold3\\107228-5-0-5.wav]\n"
     ]
    },
    {
     "name": "stderr",
     "output_type": "stream",
     "text": [
      "506it [00:25, 29.44it/s]"
     ]
    },
    {
     "name": "stdout",
     "output_type": "stream",
     "text": [
      "[2024-12-20 18:56:00,339: INFO: 414825919: Extracting MFCC Feature for c:\\Users\\yasba\\OneDrive\\Documents\\Projects\\Audio_Classification_UrbanSound8K\\data\\raw\\fold3\\107228-5-0-6.wav]\n",
      "[2024-12-20 18:56:00,374: INFO: 414825919: Extracting MFCC Feature for c:\\Users\\yasba\\OneDrive\\Documents\\Projects\\Audio_Classification_UrbanSound8K\\data\\raw\\fold3\\107228-5-0-7.wav]\n",
      "[2024-12-20 18:56:00,487: INFO: 414825919: Extracting MFCC Feature for c:\\Users\\yasba\\OneDrive\\Documents\\Projects\\Audio_Classification_UrbanSound8K\\data\\raw\\fold7\\107357-8-0-0.wav]\n"
     ]
    },
    {
     "name": "stderr",
     "output_type": "stream",
     "text": [
      "509it [00:26, 24.34it/s]"
     ]
    },
    {
     "name": "stdout",
     "output_type": "stream",
     "text": [
      "[2024-12-20 18:56:00,524: INFO: 414825919: Extracting MFCC Feature for c:\\Users\\yasba\\OneDrive\\Documents\\Projects\\Audio_Classification_UrbanSound8K\\data\\raw\\fold7\\107357-8-0-1.wav]\n",
      "[2024-12-20 18:56:00,567: INFO: 414825919: Extracting MFCC Feature for c:\\Users\\yasba\\OneDrive\\Documents\\Projects\\Audio_Classification_UrbanSound8K\\data\\raw\\fold7\\107357-8-0-2.wav]\n",
      "[2024-12-20 18:56:00,606: INFO: 414825919: Extracting MFCC Feature for c:\\Users\\yasba\\OneDrive\\Documents\\Projects\\Audio_Classification_UrbanSound8K\\data\\raw\\fold7\\107357-8-0-3.wav]\n"
     ]
    },
    {
     "name": "stderr",
     "output_type": "stream",
     "text": [
      "512it [00:26, 24.62it/s]"
     ]
    },
    {
     "name": "stdout",
     "output_type": "stream",
     "text": [
      "[2024-12-20 18:56:00,641: INFO: 414825919: Extracting MFCC Feature for c:\\Users\\yasba\\OneDrive\\Documents\\Projects\\Audio_Classification_UrbanSound8K\\data\\raw\\fold7\\107357-8-0-4.wav]\n",
      "[2024-12-20 18:56:00,674: INFO: 414825919: Extracting MFCC Feature for c:\\Users\\yasba\\OneDrive\\Documents\\Projects\\Audio_Classification_UrbanSound8K\\data\\raw\\fold7\\107357-8-0-5.wav]\n",
      "[2024-12-20 18:56:00,709: INFO: 414825919: Extracting MFCC Feature for c:\\Users\\yasba\\OneDrive\\Documents\\Projects\\Audio_Classification_UrbanSound8K\\data\\raw\\fold7\\107357-8-0-6.wav]\n"
     ]
    },
    {
     "name": "stderr",
     "output_type": "stream",
     "text": [
      "515it [00:26, 25.06it/s]"
     ]
    },
    {
     "name": "stdout",
     "output_type": "stream",
     "text": [
      "[2024-12-20 18:56:00,753: INFO: 414825919: Extracting MFCC Feature for c:\\Users\\yasba\\OneDrive\\Documents\\Projects\\Audio_Classification_UrbanSound8K\\data\\raw\\fold7\\107357-8-0-7.wav]\n",
      "[2024-12-20 18:56:00,779: INFO: 414825919: Extracting MFCC Feature for c:\\Users\\yasba\\OneDrive\\Documents\\Projects\\Audio_Classification_UrbanSound8K\\data\\raw\\fold7\\107357-8-0-8.wav]\n",
      "[2024-12-20 18:56:00,828: INFO: 414825919: Extracting MFCC Feature for c:\\Users\\yasba\\OneDrive\\Documents\\Projects\\Audio_Classification_UrbanSound8K\\data\\raw\\fold7\\107357-8-1-0.wav]\n"
     ]
    },
    {
     "name": "stderr",
     "output_type": "stream",
     "text": [
      "518it [00:26, 25.91it/s]"
     ]
    },
    {
     "name": "stdout",
     "output_type": "stream",
     "text": [
      "[2024-12-20 18:56:00,861: INFO: 414825919: Extracting MFCC Feature for c:\\Users\\yasba\\OneDrive\\Documents\\Projects\\Audio_Classification_UrbanSound8K\\data\\raw\\fold7\\107357-8-1-1.wav]\n",
      "[2024-12-20 18:56:00,900: INFO: 414825919: Extracting MFCC Feature for c:\\Users\\yasba\\OneDrive\\Documents\\Projects\\Audio_Classification_UrbanSound8K\\data\\raw\\fold7\\107357-8-1-10.wav]\n",
      "[2024-12-20 18:56:00,937: INFO: 414825919: Extracting MFCC Feature for c:\\Users\\yasba\\OneDrive\\Documents\\Projects\\Audio_Classification_UrbanSound8K\\data\\raw\\fold7\\107357-8-1-11.wav]\n"
     ]
    },
    {
     "name": "stderr",
     "output_type": "stream",
     "text": [
      "521it [00:26, 26.18it/s]"
     ]
    },
    {
     "name": "stdout",
     "output_type": "stream",
     "text": [
      "[2024-12-20 18:56:00,972: INFO: 414825919: Extracting MFCC Feature for c:\\Users\\yasba\\OneDrive\\Documents\\Projects\\Audio_Classification_UrbanSound8K\\data\\raw\\fold7\\107357-8-1-12.wav]\n",
      "[2024-12-20 18:56:01,009: INFO: 414825919: Extracting MFCC Feature for c:\\Users\\yasba\\OneDrive\\Documents\\Projects\\Audio_Classification_UrbanSound8K\\data\\raw\\fold7\\107357-8-1-13.wav]\n",
      "[2024-12-20 18:56:01,040: INFO: 414825919: Extracting MFCC Feature for c:\\Users\\yasba\\OneDrive\\Documents\\Projects\\Audio_Classification_UrbanSound8K\\data\\raw\\fold7\\107357-8-1-14.wav]\n"
     ]
    },
    {
     "name": "stderr",
     "output_type": "stream",
     "text": [
      "524it [00:26, 27.05it/s]"
     ]
    },
    {
     "name": "stdout",
     "output_type": "stream",
     "text": [
      "[2024-12-20 18:56:01,073: INFO: 414825919: Extracting MFCC Feature for c:\\Users\\yasba\\OneDrive\\Documents\\Projects\\Audio_Classification_UrbanSound8K\\data\\raw\\fold7\\107357-8-1-15.wav]\n",
      "[2024-12-20 18:56:01,114: INFO: 414825919: Extracting MFCC Feature for c:\\Users\\yasba\\OneDrive\\Documents\\Projects\\Audio_Classification_UrbanSound8K\\data\\raw\\fold7\\107357-8-1-16.wav]\n",
      "[2024-12-20 18:56:01,139: INFO: 414825919: Extracting MFCC Feature for c:\\Users\\yasba\\OneDrive\\Documents\\Projects\\Audio_Classification_UrbanSound8K\\data\\raw\\fold7\\107357-8-1-17.wav]\n"
     ]
    },
    {
     "name": "stderr",
     "output_type": "stream",
     "text": [
      "527it [00:26, 27.68it/s]"
     ]
    },
    {
     "name": "stdout",
     "output_type": "stream",
     "text": [
      "[2024-12-20 18:56:01,176: INFO: 414825919: Extracting MFCC Feature for c:\\Users\\yasba\\OneDrive\\Documents\\Projects\\Audio_Classification_UrbanSound8K\\data\\raw\\fold7\\107357-8-1-18.wav]\n",
      "[2024-12-20 18:56:01,213: INFO: 414825919: Extracting MFCC Feature for c:\\Users\\yasba\\OneDrive\\Documents\\Projects\\Audio_Classification_UrbanSound8K\\data\\raw\\fold7\\107357-8-1-2.wav]\n",
      "[2024-12-20 18:56:01,240: INFO: 414825919: Extracting MFCC Feature for c:\\Users\\yasba\\OneDrive\\Documents\\Projects\\Audio_Classification_UrbanSound8K\\data\\raw\\fold7\\107357-8-1-3.wav]\n",
      "[2024-12-20 18:56:01,275: INFO: 414825919: Extracting MFCC Feature for c:\\Users\\yasba\\OneDrive\\Documents\\Projects\\Audio_Classification_UrbanSound8K\\data\\raw\\fold7\\107357-8-1-4.wav]\n"
     ]
    },
    {
     "name": "stderr",
     "output_type": "stream",
     "text": [
      "531it [00:26, 28.87it/s]"
     ]
    },
    {
     "name": "stdout",
     "output_type": "stream",
     "text": [
      "[2024-12-20 18:56:01,309: INFO: 414825919: Extracting MFCC Feature for c:\\Users\\yasba\\OneDrive\\Documents\\Projects\\Audio_Classification_UrbanSound8K\\data\\raw\\fold7\\107357-8-1-5.wav]\n",
      "[2024-12-20 18:56:01,339: INFO: 414825919: Extracting MFCC Feature for c:\\Users\\yasba\\OneDrive\\Documents\\Projects\\Audio_Classification_UrbanSound8K\\data\\raw\\fold7\\107357-8-1-6.wav]\n",
      "[2024-12-20 18:56:01,371: INFO: 414825919: Extracting MFCC Feature for c:\\Users\\yasba\\OneDrive\\Documents\\Projects\\Audio_Classification_UrbanSound8K\\data\\raw\\fold7\\107357-8-1-7.wav]\n"
     ]
    },
    {
     "name": "stderr",
     "output_type": "stream",
     "text": [
      "534it [00:27, 28.86it/s]"
     ]
    },
    {
     "name": "stdout",
     "output_type": "stream",
     "text": [
      "[2024-12-20 18:56:01,409: INFO: 414825919: Extracting MFCC Feature for c:\\Users\\yasba\\OneDrive\\Documents\\Projects\\Audio_Classification_UrbanSound8K\\data\\raw\\fold7\\107357-8-1-8.wav]\n",
      "[2024-12-20 18:56:01,446: INFO: 414825919: Extracting MFCC Feature for c:\\Users\\yasba\\OneDrive\\Documents\\Projects\\Audio_Classification_UrbanSound8K\\data\\raw\\fold7\\107357-8-1-9.wav]\n",
      "[2024-12-20 18:56:01,471: INFO: 414825919: Extracting MFCC Feature for c:\\Users\\yasba\\OneDrive\\Documents\\Projects\\Audio_Classification_UrbanSound8K\\data\\raw\\fold4\\107653-9-0-12.wav]\n"
     ]
    },
    {
     "name": "stderr",
     "output_type": "stream",
     "text": [
      "537it [00:27, 29.06it/s]"
     ]
    },
    {
     "name": "stdout",
     "output_type": "stream",
     "text": [
      "[2024-12-20 18:56:01,510: INFO: 414825919: Extracting MFCC Feature for c:\\Users\\yasba\\OneDrive\\Documents\\Projects\\Audio_Classification_UrbanSound8K\\data\\raw\\fold4\\107653-9-0-14.wav]\n",
      "[2024-12-20 18:56:01,541: INFO: 414825919: Extracting MFCC Feature for c:\\Users\\yasba\\OneDrive\\Documents\\Projects\\Audio_Classification_UrbanSound8K\\data\\raw\\fold4\\107653-9-0-18.wav]\n",
      "[2024-12-20 18:56:01,579: INFO: 414825919: Extracting MFCC Feature for c:\\Users\\yasba\\OneDrive\\Documents\\Projects\\Audio_Classification_UrbanSound8K\\data\\raw\\fold4\\107653-9-0-3.wav]\n"
     ]
    },
    {
     "name": "stderr",
     "output_type": "stream",
     "text": [
      "540it [00:27, 29.14it/s]"
     ]
    },
    {
     "name": "stdout",
     "output_type": "stream",
     "text": [
      "[2024-12-20 18:56:01,611: INFO: 414825919: Extracting MFCC Feature for c:\\Users\\yasba\\OneDrive\\Documents\\Projects\\Audio_Classification_UrbanSound8K\\data\\raw\\fold4\\107653-9-0-5.wav]\n",
      "[2024-12-20 18:56:01,649: INFO: 414825919: Extracting MFCC Feature for c:\\Users\\yasba\\OneDrive\\Documents\\Projects\\Audio_Classification_UrbanSound8K\\data\\raw\\fold4\\107653-9-0-7.wav]\n",
      "[2024-12-20 18:56:01,685: INFO: 414825919: Extracting MFCC Feature for c:\\Users\\yasba\\OneDrive\\Documents\\Projects\\Audio_Classification_UrbanSound8K\\data\\raw\\fold6\\107842-4-0-0.wav]\n"
     ]
    },
    {
     "name": "stderr",
     "output_type": "stream",
     "text": [
      "543it [00:27, 28.42it/s]"
     ]
    },
    {
     "name": "stdout",
     "output_type": "stream",
     "text": [
      "[2024-12-20 18:56:01,724: INFO: 414825919: Extracting MFCC Feature for c:\\Users\\yasba\\OneDrive\\Documents\\Projects\\Audio_Classification_UrbanSound8K\\data\\raw\\fold6\\107842-4-0-1.wav]\n",
      "[2024-12-20 18:56:01,772: INFO: 414825919: Extracting MFCC Feature for c:\\Users\\yasba\\OneDrive\\Documents\\Projects\\Audio_Classification_UrbanSound8K\\data\\raw\\fold6\\107842-4-0-2.wav]\n",
      "[2024-12-20 18:56:01,803: INFO: 414825919: Extracting MFCC Feature for c:\\Users\\yasba\\OneDrive\\Documents\\Projects\\Audio_Classification_UrbanSound8K\\data\\raw\\fold6\\107842-4-1-0.wav]\n"
     ]
    },
    {
     "name": "stderr",
     "output_type": "stream",
     "text": [
      "546it [00:27, 28.65it/s]"
     ]
    },
    {
     "name": "stdout",
     "output_type": "stream",
     "text": [
      "[2024-12-20 18:56:01,827: INFO: 414825919: Extracting MFCC Feature for c:\\Users\\yasba\\OneDrive\\Documents\\Projects\\Audio_Classification_UrbanSound8K\\data\\raw\\fold6\\107842-4-2-0.wav]\n",
      "[2024-12-20 18:56:01,869: INFO: 414825919: Extracting MFCC Feature for c:\\Users\\yasba\\OneDrive\\Documents\\Projects\\Audio_Classification_UrbanSound8K\\data\\raw\\fold6\\107842-4-2-1.wav]\n",
      "[2024-12-20 18:56:01,906: INFO: 414825919: Extracting MFCC Feature for c:\\Users\\yasba\\OneDrive\\Documents\\Projects\\Audio_Classification_UrbanSound8K\\data\\raw\\fold6\\107842-4-2-2.wav]\n"
     ]
    },
    {
     "name": "stderr",
     "output_type": "stream",
     "text": [
      "549it [00:27, 27.68it/s]"
     ]
    },
    {
     "name": "stdout",
     "output_type": "stream",
     "text": [
      "[2024-12-20 18:56:01,944: INFO: 414825919: Extracting MFCC Feature for c:\\Users\\yasba\\OneDrive\\Documents\\Projects\\Audio_Classification_UrbanSound8K\\data\\raw\\fold6\\107842-4-2-3.wav]\n",
      "[2024-12-20 18:56:01,981: INFO: 414825919: Extracting MFCC Feature for c:\\Users\\yasba\\OneDrive\\Documents\\Projects\\Audio_Classification_UrbanSound8K\\data\\raw\\fold6\\107842-4-2-4.wav]\n",
      "[2024-12-20 18:56:02,016: INFO: 414825919: Extracting MFCC Feature for c:\\Users\\yasba\\OneDrive\\Documents\\Projects\\Audio_Classification_UrbanSound8K\\data\\raw\\fold6\\107842-4-3-0.wav]\n",
      "[2024-12-20 18:56:02,034: INFO: 414825919: Extracting MFCC Feature for c:\\Users\\yasba\\OneDrive\\Documents\\Projects\\Audio_Classification_UrbanSound8K\\data\\raw\\fold1\\108041-9-0-11.wav]\n"
     ]
    },
    {
     "name": "stderr",
     "output_type": "stream",
     "text": [
      "553it [00:27, 28.46it/s]"
     ]
    },
    {
     "name": "stdout",
     "output_type": "stream",
     "text": [
      "[2024-12-20 18:56:02,078: INFO: 414825919: Extracting MFCC Feature for c:\\Users\\yasba\\OneDrive\\Documents\\Projects\\Audio_Classification_UrbanSound8K\\data\\raw\\fold1\\108041-9-0-2.wav]\n",
      "[2024-12-20 18:56:02,109: INFO: 414825919: Extracting MFCC Feature for c:\\Users\\yasba\\OneDrive\\Documents\\Projects\\Audio_Classification_UrbanSound8K\\data\\raw\\fold1\\108041-9-0-4.wav]\n",
      "[2024-12-20 18:56:02,155: INFO: 414825919: Extracting MFCC Feature for c:\\Users\\yasba\\OneDrive\\Documents\\Projects\\Audio_Classification_UrbanSound8K\\data\\raw\\fold1\\108041-9-0-5.wav]\n"
     ]
    },
    {
     "name": "stderr",
     "output_type": "stream",
     "text": [
      "556it [00:27, 27.39it/s]"
     ]
    },
    {
     "name": "stdout",
     "output_type": "stream",
     "text": [
      "[2024-12-20 18:56:02,199: INFO: 414825919: Extracting MFCC Feature for c:\\Users\\yasba\\OneDrive\\Documents\\Projects\\Audio_Classification_UrbanSound8K\\data\\raw\\fold1\\108041-9-0-6.wav]\n",
      "[2024-12-20 18:56:02,236: INFO: 414825919: Extracting MFCC Feature for c:\\Users\\yasba\\OneDrive\\Documents\\Projects\\Audio_Classification_UrbanSound8K\\data\\raw\\fold1\\108041-9-0-7.wav]\n",
      "[2024-12-20 18:56:02,282: INFO: 414825919: Extracting MFCC Feature for c:\\Users\\yasba\\OneDrive\\Documents\\Projects\\Audio_Classification_UrbanSound8K\\data\\raw\\fold1\\108041-9-0-9.wav]\n"
     ]
    },
    {
     "name": "stderr",
     "output_type": "stream",
     "text": [
      "559it [00:27, 26.16it/s]"
     ]
    },
    {
     "name": "stdout",
     "output_type": "stream",
     "text": [
      "[2024-12-20 18:56:02,326: INFO: 414825919: Extracting MFCC Feature for c:\\Users\\yasba\\OneDrive\\Documents\\Projects\\Audio_Classification_UrbanSound8K\\data\\raw\\fold2\\108187-3-2-0.wav]\n",
      "[2024-12-20 18:56:02,357: INFO: 414825919: Extracting MFCC Feature for c:\\Users\\yasba\\OneDrive\\Documents\\Projects\\Audio_Classification_UrbanSound8K\\data\\raw\\fold2\\108187-3-3-0.wav]\n",
      "[2024-12-20 18:56:02,382: INFO: 414825919: Extracting MFCC Feature for c:\\Users\\yasba\\OneDrive\\Documents\\Projects\\Audio_Classification_UrbanSound8K\\data\\raw\\fold2\\108187-3-4-0.wav]\n",
      "[2024-12-20 18:56:02,410: INFO: 414825919: Extracting MFCC Feature for c:\\Users\\yasba\\OneDrive\\Documents\\Projects\\Audio_Classification_UrbanSound8K\\data\\raw\\fold2\\108187-3-6-0.wav]\n"
     ]
    },
    {
     "name": "stderr",
     "output_type": "stream",
     "text": [
      "563it [00:28, 28.69it/s]"
     ]
    },
    {
     "name": "stdout",
     "output_type": "stream",
     "text": [
      "[2024-12-20 18:56:02,440: INFO: 414825919: Extracting MFCC Feature for c:\\Users\\yasba\\OneDrive\\Documents\\Projects\\Audio_Classification_UrbanSound8K\\data\\raw\\fold5\\108357-9-0-15.wav]\n",
      "[2024-12-20 18:56:02,491: INFO: 414825919: Extracting MFCC Feature for c:\\Users\\yasba\\OneDrive\\Documents\\Projects\\Audio_Classification_UrbanSound8K\\data\\raw\\fold5\\108357-9-0-2.wav]\n",
      "[2024-12-20 18:56:02,528: INFO: 414825919: Extracting MFCC Feature for c:\\Users\\yasba\\OneDrive\\Documents\\Projects\\Audio_Classification_UrbanSound8K\\data\\raw\\fold5\\108357-9-0-27.wav]\n"
     ]
    },
    {
     "name": "stderr",
     "output_type": "stream",
     "text": [
      "566it [00:28, 27.30it/s]"
     ]
    },
    {
     "name": "stdout",
     "output_type": "stream",
     "text": [
      "[2024-12-20 18:56:02,567: INFO: 414825919: Extracting MFCC Feature for c:\\Users\\yasba\\OneDrive\\Documents\\Projects\\Audio_Classification_UrbanSound8K\\data\\raw\\fold5\\108357-9-0-30.wav]\n",
      "[2024-12-20 18:56:02,616: INFO: 414825919: Extracting MFCC Feature for c:\\Users\\yasba\\OneDrive\\Documents\\Projects\\Audio_Classification_UrbanSound8K\\data\\raw\\fold5\\108357-9-0-44.wav]\n",
      "[2024-12-20 18:56:02,651: INFO: 414825919: Extracting MFCC Feature for c:\\Users\\yasba\\OneDrive\\Documents\\Projects\\Audio_Classification_UrbanSound8K\\data\\raw\\fold5\\108357-9-0-49.wav]\n"
     ]
    },
    {
     "name": "stderr",
     "output_type": "stream",
     "text": [
      "569it [00:28, 26.13it/s]"
     ]
    },
    {
     "name": "stdout",
     "output_type": "stream",
     "text": [
      "[2024-12-20 18:56:02,691: INFO: 414825919: Extracting MFCC Feature for c:\\Users\\yasba\\OneDrive\\Documents\\Projects\\Audio_Classification_UrbanSound8K\\data\\raw\\fold1\\108362-2-0-11.wav]\n",
      "[2024-12-20 18:56:02,726: INFO: 414825919: Extracting MFCC Feature for c:\\Users\\yasba\\OneDrive\\Documents\\Projects\\Audio_Classification_UrbanSound8K\\data\\raw\\fold1\\108362-2-0-12.wav]\n",
      "[2024-12-20 18:56:02,770: INFO: 414825919: Extracting MFCC Feature for c:\\Users\\yasba\\OneDrive\\Documents\\Projects\\Audio_Classification_UrbanSound8K\\data\\raw\\fold1\\108362-2-0-21.wav]\n"
     ]
    },
    {
     "name": "stderr",
     "output_type": "stream",
     "text": [
      "572it [00:28, 25.50it/s]"
     ]
    },
    {
     "name": "stdout",
     "output_type": "stream",
     "text": [
      "[2024-12-20 18:56:02,817: INFO: 414825919: Extracting MFCC Feature for c:\\Users\\yasba\\OneDrive\\Documents\\Projects\\Audio_Classification_UrbanSound8K\\data\\raw\\fold1\\108362-2-0-23.wav]\n",
      "[2024-12-20 18:56:02,861: INFO: 414825919: Extracting MFCC Feature for c:\\Users\\yasba\\OneDrive\\Documents\\Projects\\Audio_Classification_UrbanSound8K\\data\\raw\\fold1\\108362-2-0-29.wav]\n",
      "[2024-12-20 18:56:02,910: INFO: 414825919: Extracting MFCC Feature for c:\\Users\\yasba\\OneDrive\\Documents\\Projects\\Audio_Classification_UrbanSound8K\\data\\raw\\fold1\\108362-2-0-30.wav]\n"
     ]
    },
    {
     "name": "stderr",
     "output_type": "stream",
     "text": [
      "575it [00:28, 23.44it/s]"
     ]
    },
    {
     "name": "stdout",
     "output_type": "stream",
     "text": [
      "[2024-12-20 18:56:02,968: INFO: 414825919: Extracting MFCC Feature for c:\\Users\\yasba\\OneDrive\\Documents\\Projects\\Audio_Classification_UrbanSound8K\\data\\raw\\fold1\\108362-2-0-7.wav]\n",
      "[2024-12-20 18:56:03,007: INFO: 414825919: Extracting MFCC Feature for c:\\Users\\yasba\\OneDrive\\Documents\\Projects\\Audio_Classification_UrbanSound8K\\data\\raw\\fold1\\108362-2-0-9.wav]\n",
      "[2024-12-20 18:56:03,043: INFO: 414825919: Extracting MFCC Feature for c:\\Users\\yasba\\OneDrive\\Documents\\Projects\\Audio_Classification_UrbanSound8K\\data\\raw\\fold6\\108638-9-0-0.wav]\n"
     ]
    },
    {
     "name": "stderr",
     "output_type": "stream",
     "text": [
      "578it [00:28, 23.21it/s]"
     ]
    },
    {
     "name": "stdout",
     "output_type": "stream",
     "text": [
      "[2024-12-20 18:56:03,102: INFO: 414825919: Extracting MFCC Feature for c:\\Users\\yasba\\OneDrive\\Documents\\Projects\\Audio_Classification_UrbanSound8K\\data\\raw\\fold6\\108638-9-0-1.wav]\n",
      "[2024-12-20 18:56:03,146: INFO: 414825919: Extracting MFCC Feature for c:\\Users\\yasba\\OneDrive\\Documents\\Projects\\Audio_Classification_UrbanSound8K\\data\\raw\\fold6\\108638-9-0-2.wav]\n",
      "[2024-12-20 18:56:03,185: INFO: 414825919: Extracting MFCC Feature for c:\\Users\\yasba\\OneDrive\\Documents\\Projects\\Audio_Classification_UrbanSound8K\\data\\raw\\fold6\\108638-9-0-4.wav]\n"
     ]
    },
    {
     "name": "stderr",
     "output_type": "stream",
     "text": [
      "581it [00:28, 23.72it/s]"
     ]
    },
    {
     "name": "stdout",
     "output_type": "stream",
     "text": [
      "[2024-12-20 18:56:03,221: INFO: 414825919: Extracting MFCC Feature for c:\\Users\\yasba\\OneDrive\\Documents\\Projects\\Audio_Classification_UrbanSound8K\\data\\raw\\fold6\\108638-9-0-5.wav]\n",
      "[2024-12-20 18:56:03,253: INFO: 414825919: Extracting MFCC Feature for c:\\Users\\yasba\\OneDrive\\Documents\\Projects\\Audio_Classification_UrbanSound8K\\data\\raw\\fold6\\108638-9-0-6.wav]\n",
      "[2024-12-20 18:56:03,288: INFO: 414825919: Extracting MFCC Feature for c:\\Users\\yasba\\OneDrive\\Documents\\Projects\\Audio_Classification_UrbanSound8K\\data\\raw\\fold6\\109233-3-0-3.wav]\n"
     ]
    },
    {
     "name": "stderr",
     "output_type": "stream",
     "text": [
      "584it [00:28, 25.14it/s]"
     ]
    },
    {
     "name": "stdout",
     "output_type": "stream",
     "text": [
      "[2024-12-20 18:56:03,325: INFO: 414825919: Extracting MFCC Feature for c:\\Users\\yasba\\OneDrive\\Documents\\Projects\\Audio_Classification_UrbanSound8K\\data\\raw\\fold6\\109233-3-0-4.wav]\n",
      "[2024-12-20 18:56:03,353: INFO: 414825919: Extracting MFCC Feature for c:\\Users\\yasba\\OneDrive\\Documents\\Projects\\Audio_Classification_UrbanSound8K\\data\\raw\\fold6\\109233-3-0-5.wav]\n",
      "[2024-12-20 18:56:03,388: INFO: 414825919: Extracting MFCC Feature for c:\\Users\\yasba\\OneDrive\\Documents\\Projects\\Audio_Classification_UrbanSound8K\\data\\raw\\fold6\\109233-3-0-6.wav]\n",
      "[2024-12-20 18:56:03,420: INFO: 414825919: Extracting MFCC Feature for c:\\Users\\yasba\\OneDrive\\Documents\\Projects\\Audio_Classification_UrbanSound8K\\data\\raw\\fold5\\109263-9-0-34.wav]\n"
     ]
    },
    {
     "name": "stderr",
     "output_type": "stream",
     "text": [
      "588it [00:29, 26.97it/s]"
     ]
    },
    {
     "name": "stdout",
     "output_type": "stream",
     "text": [
      "[2024-12-20 18:56:03,454: INFO: 414825919: Extracting MFCC Feature for c:\\Users\\yasba\\OneDrive\\Documents\\Projects\\Audio_Classification_UrbanSound8K\\data\\raw\\fold5\\109263-9-0-39.wav]\n",
      "[2024-12-20 18:56:03,487: INFO: 414825919: Extracting MFCC Feature for c:\\Users\\yasba\\OneDrive\\Documents\\Projects\\Audio_Classification_UrbanSound8K\\data\\raw\\fold5\\109263-9-0-54.wav]\n",
      "[2024-12-20 18:56:03,522: INFO: 414825919: Extracting MFCC Feature for c:\\Users\\yasba\\OneDrive\\Documents\\Projects\\Audio_Classification_UrbanSound8K\\data\\raw\\fold5\\109263-9-0-61.wav]\n",
      "[2024-12-20 18:56:03,543: INFO: 414825919: Extracting MFCC Feature for c:\\Users\\yasba\\OneDrive\\Documents\\Projects\\Audio_Classification_UrbanSound8K\\data\\raw\\fold5\\109263-9-0-78.wav]\n"
     ]
    },
    {
     "name": "stderr",
     "output_type": "stream",
     "text": [
      "592it [00:29, 28.56it/s]"
     ]
    },
    {
     "name": "stdout",
     "output_type": "stream",
     "text": [
      "[2024-12-20 18:56:03,576: INFO: 414825919: Extracting MFCC Feature for c:\\Users\\yasba\\OneDrive\\Documents\\Projects\\Audio_Classification_UrbanSound8K\\data\\raw\\fold2\\109703-2-0-134.wav]\n",
      "[2024-12-20 18:56:03,619: INFO: 414825919: Extracting MFCC Feature for c:\\Users\\yasba\\OneDrive\\Documents\\Projects\\Audio_Classification_UrbanSound8K\\data\\raw\\fold2\\109703-2-0-14.wav]\n",
      "[2024-12-20 18:56:03,655: INFO: 414825919: Extracting MFCC Feature for c:\\Users\\yasba\\OneDrive\\Documents\\Projects\\Audio_Classification_UrbanSound8K\\data\\raw\\fold2\\109703-2-0-153.wav]\n"
     ]
    },
    {
     "name": "stderr",
     "output_type": "stream",
     "text": [
      "595it [00:29, 27.51it/s]"
     ]
    },
    {
     "name": "stdout",
     "output_type": "stream",
     "text": [
      "[2024-12-20 18:56:03,696: INFO: 414825919: Extracting MFCC Feature for c:\\Users\\yasba\\OneDrive\\Documents\\Projects\\Audio_Classification_UrbanSound8K\\data\\raw\\fold2\\109703-2-0-29.wav]\n",
      "[2024-12-20 18:56:03,740: INFO: 414825919: Extracting MFCC Feature for c:\\Users\\yasba\\OneDrive\\Documents\\Projects\\Audio_Classification_UrbanSound8K\\data\\raw\\fold2\\109703-2-0-32.wav]\n",
      "[2024-12-20 18:56:03,770: INFO: 414825919: Extracting MFCC Feature for c:\\Users\\yasba\\OneDrive\\Documents\\Projects\\Audio_Classification_UrbanSound8K\\data\\raw\\fold2\\109703-2-0-48.wav]\n"
     ]
    },
    {
     "name": "stderr",
     "output_type": "stream",
     "text": [
      "598it [00:29, 26.48it/s]"
     ]
    },
    {
     "name": "stdout",
     "output_type": "stream",
     "text": [
      "[2024-12-20 18:56:03,822: INFO: 414825919: Extracting MFCC Feature for c:\\Users\\yasba\\OneDrive\\Documents\\Projects\\Audio_Classification_UrbanSound8K\\data\\raw\\fold2\\109703-2-0-50.wav]\n",
      "[2024-12-20 18:56:03,868: INFO: 414825919: Extracting MFCC Feature for c:\\Users\\yasba\\OneDrive\\Documents\\Projects\\Audio_Classification_UrbanSound8K\\data\\raw\\fold4\\109711-3-1-0.wav]\n",
      "[2024-12-20 18:56:03,901: INFO: 414825919: Extracting MFCC Feature for c:\\Users\\yasba\\OneDrive\\Documents\\Projects\\Audio_Classification_UrbanSound8K\\data\\raw\\fold4\\109711-3-2-4.wav]\n"
     ]
    },
    {
     "name": "stderr",
     "output_type": "stream",
     "text": [
      "601it [00:29, 26.06it/s]"
     ]
    },
    {
     "name": "stdout",
     "output_type": "stream",
     "text": [
      "[2024-12-20 18:56:03,941: INFO: 414825919: Extracting MFCC Feature for c:\\Users\\yasba\\OneDrive\\Documents\\Projects\\Audio_Classification_UrbanSound8K\\data\\raw\\fold4\\109711-3-2-6.wav]\n",
      "[2024-12-20 18:56:03,983: INFO: 414825919: Extracting MFCC Feature for c:\\Users\\yasba\\OneDrive\\Documents\\Projects\\Audio_Classification_UrbanSound8K\\data\\raw\\fold8\\110134-3-0-0.wav]\n",
      "[2024-12-20 18:56:04,002: INFO: 414825919: Extracting MFCC Feature for c:\\Users\\yasba\\OneDrive\\Documents\\Projects\\Audio_Classification_UrbanSound8K\\data\\raw\\fold5\\110371-3-0-1.wav]\n",
      "[2024-12-20 18:56:04,037: INFO: 414825919: Extracting MFCC Feature for c:\\Users\\yasba\\OneDrive\\Documents\\Projects\\Audio_Classification_UrbanSound8K\\data\\raw\\fold5\\110371-3-1-0.wav]\n"
     ]
    },
    {
     "name": "stderr",
     "output_type": "stream",
     "text": [
      "605it [00:29, 26.99it/s]"
     ]
    },
    {
     "name": "stdout",
     "output_type": "stream",
     "text": [
      "[2024-12-20 18:56:04,083: INFO: 414825919: Extracting MFCC Feature for c:\\Users\\yasba\\OneDrive\\Documents\\Projects\\Audio_Classification_UrbanSound8K\\data\\raw\\fold5\\110371-3-1-1.wav]\n",
      "[2024-12-20 18:56:04,122: INFO: 414825919: Extracting MFCC Feature for c:\\Users\\yasba\\OneDrive\\Documents\\Projects\\Audio_Classification_UrbanSound8K\\data\\raw\\fold9\\110389-3-0-0.wav]\n",
      "[2024-12-20 18:56:04,139: INFO: 414825919: Extracting MFCC Feature for c:\\Users\\yasba\\OneDrive\\Documents\\Projects\\Audio_Classification_UrbanSound8K\\data\\raw\\fold4\\110621-7-0-0.wav]\n",
      "[2024-12-20 18:56:04,164: INFO: 414825919: Extracting MFCC Feature for c:\\Users\\yasba\\OneDrive\\Documents\\Projects\\Audio_Classification_UrbanSound8K\\data\\raw\\fold4\\110621-7-0-1.wav]\n"
     ]
    },
    {
     "name": "stderr",
     "output_type": "stream",
     "text": [
      "609it [00:29, 28.13it/s]"
     ]
    },
    {
     "name": "stdout",
     "output_type": "stream",
     "text": [
      "[2024-12-20 18:56:04,213: INFO: 414825919: Extracting MFCC Feature for c:\\Users\\yasba\\OneDrive\\Documents\\Projects\\Audio_Classification_UrbanSound8K\\data\\raw\\fold4\\110621-7-0-2.wav]\n",
      "[2024-12-20 18:56:04,248: INFO: 414825919: Extracting MFCC Feature for c:\\Users\\yasba\\OneDrive\\Documents\\Projects\\Audio_Classification_UrbanSound8K\\data\\raw\\fold4\\110621-7-0-3.wav]\n",
      "[2024-12-20 18:56:04,389: INFO: 414825919: Extracting MFCC Feature for c:\\Users\\yasba\\OneDrive\\Documents\\Projects\\Audio_Classification_UrbanSound8K\\data\\raw\\fold3\\110622-6-0-0.wav]\n"
     ]
    },
    {
     "name": "stderr",
     "output_type": "stream",
     "text": [
      "612it [00:30, 21.94it/s]"
     ]
    },
    {
     "name": "stdout",
     "output_type": "stream",
     "text": [
      "[2024-12-20 18:56:04,431: INFO: 414825919: Extracting MFCC Feature for c:\\Users\\yasba\\OneDrive\\Documents\\Projects\\Audio_Classification_UrbanSound8K\\data\\raw\\fold8\\110688-3-0-11.wav]\n",
      "[2024-12-20 18:56:04,485: INFO: 414825919: Extracting MFCC Feature for c:\\Users\\yasba\\OneDrive\\Documents\\Projects\\Audio_Classification_UrbanSound8K\\data\\raw\\fold8\\110688-3-0-17.wav]\n",
      "[2024-12-20 18:56:04,528: INFO: 414825919: Extracting MFCC Feature for c:\\Users\\yasba\\OneDrive\\Documents\\Projects\\Audio_Classification_UrbanSound8K\\data\\raw\\fold8\\110688-3-0-2.wav]\n"
     ]
    },
    {
     "name": "stderr",
     "output_type": "stream",
     "text": [
      "615it [00:30, 21.96it/s]"
     ]
    },
    {
     "name": "stdout",
     "output_type": "stream",
     "text": [
      "[2024-12-20 18:56:04,567: INFO: 414825919: Extracting MFCC Feature for c:\\Users\\yasba\\OneDrive\\Documents\\Projects\\Audio_Classification_UrbanSound8K\\data\\raw\\fold8\\110688-3-0-32.wav]\n",
      "[2024-12-20 18:56:04,595: INFO: 414825919: Extracting MFCC Feature for c:\\Users\\yasba\\OneDrive\\Documents\\Projects\\Audio_Classification_UrbanSound8K\\data\\raw\\fold6\\110868-9-0-11.wav]\n",
      "[2024-12-20 18:56:04,642: INFO: 414825919: Extracting MFCC Feature for c:\\Users\\yasba\\OneDrive\\Documents\\Projects\\Audio_Classification_UrbanSound8K\\data\\raw\\fold6\\110868-9-0-13.wav]\n"
     ]
    },
    {
     "name": "stderr",
     "output_type": "stream",
     "text": [
      "618it [00:30, 22.79it/s]"
     ]
    },
    {
     "name": "stdout",
     "output_type": "stream",
     "text": [
      "[2024-12-20 18:56:04,686: INFO: 414825919: Extracting MFCC Feature for c:\\Users\\yasba\\OneDrive\\Documents\\Projects\\Audio_Classification_UrbanSound8K\\data\\raw\\fold6\\110868-9-0-14.wav]\n",
      "[2024-12-20 18:56:04,727: INFO: 414825919: Extracting MFCC Feature for c:\\Users\\yasba\\OneDrive\\Documents\\Projects\\Audio_Classification_UrbanSound8K\\data\\raw\\fold6\\110868-9-0-15.wav]\n",
      "[2024-12-20 18:56:04,775: INFO: 414825919: Extracting MFCC Feature for c:\\Users\\yasba\\OneDrive\\Documents\\Projects\\Audio_Classification_UrbanSound8K\\data\\raw\\fold6\\110868-9-0-6.wav]\n"
     ]
    },
    {
     "name": "stderr",
     "output_type": "stream",
     "text": [
      "621it [00:30, 22.88it/s]"
     ]
    },
    {
     "name": "stdout",
     "output_type": "stream",
     "text": [
      "[2024-12-20 18:56:04,816: INFO: 414825919: Extracting MFCC Feature for c:\\Users\\yasba\\OneDrive\\Documents\\Projects\\Audio_Classification_UrbanSound8K\\data\\raw\\fold6\\110868-9-0-8.wav]\n",
      "[2024-12-20 18:56:04,856: INFO: 414825919: Extracting MFCC Feature for c:\\Users\\yasba\\OneDrive\\Documents\\Projects\\Audio_Classification_UrbanSound8K\\data\\raw\\fold7\\110918-3-0-1.wav]\n",
      "[2024-12-20 18:56:04,903: INFO: 414825919: Extracting MFCC Feature for c:\\Users\\yasba\\OneDrive\\Documents\\Projects\\Audio_Classification_UrbanSound8K\\data\\raw\\fold7\\110918-3-0-26.wav]\n"
     ]
    },
    {
     "name": "stderr",
     "output_type": "stream",
     "text": [
      "624it [00:30, 22.62it/s]"
     ]
    },
    {
     "name": "stdout",
     "output_type": "stream",
     "text": [
      "[2024-12-20 18:56:04,952: INFO: 414825919: Extracting MFCC Feature for c:\\Users\\yasba\\OneDrive\\Documents\\Projects\\Audio_Classification_UrbanSound8K\\data\\raw\\fold7\\110918-3-0-40.wav]\n",
      "[2024-12-20 18:56:05,007: INFO: 414825919: Extracting MFCC Feature for c:\\Users\\yasba\\OneDrive\\Documents\\Projects\\Audio_Classification_UrbanSound8K\\data\\raw\\fold7\\110918-3-0-9.wav]\n",
      "[2024-12-20 18:56:05,048: INFO: 414825919: Extracting MFCC Feature for c:\\Users\\yasba\\OneDrive\\Documents\\Projects\\Audio_Classification_UrbanSound8K\\data\\raw\\fold6\\111048-6-0-0.wav]\n"
     ]
    },
    {
     "name": "stderr",
     "output_type": "stream",
     "text": [
      "627it [00:30, 23.35it/s]"
     ]
    },
    {
     "name": "stdout",
     "output_type": "stream",
     "text": [
      "[2024-12-20 18:56:05,071: INFO: 414825919: Extracting MFCC Feature for c:\\Users\\yasba\\OneDrive\\Documents\\Projects\\Audio_Classification_UrbanSound8K\\data\\raw\\fold6\\111386-5-0-0.wav]\n",
      "[2024-12-20 18:56:05,113: INFO: 414825919: Extracting MFCC Feature for c:\\Users\\yasba\\OneDrive\\Documents\\Projects\\Audio_Classification_UrbanSound8K\\data\\raw\\fold6\\111386-5-0-1.wav]\n",
      "[2024-12-20 18:56:05,157: INFO: 414825919: Extracting MFCC Feature for c:\\Users\\yasba\\OneDrive\\Documents\\Projects\\Audio_Classification_UrbanSound8K\\data\\raw\\fold6\\111386-5-0-2.wav]\n"
     ]
    },
    {
     "name": "stderr",
     "output_type": "stream",
     "text": [
      "630it [00:30, 23.82it/s]"
     ]
    },
    {
     "name": "stdout",
     "output_type": "stream",
     "text": [
      "[2024-12-20 18:56:05,191: INFO: 414825919: Extracting MFCC Feature for c:\\Users\\yasba\\OneDrive\\Documents\\Projects\\Audio_Classification_UrbanSound8K\\data\\raw\\fold6\\111386-5-0-3.wav]\n",
      "[2024-12-20 18:56:05,227: INFO: 414825919: Extracting MFCC Feature for c:\\Users\\yasba\\OneDrive\\Documents\\Projects\\Audio_Classification_UrbanSound8K\\data\\raw\\fold6\\111386-5-0-4.wav]\n",
      "[2024-12-20 18:56:05,260: INFO: 414825919: Extracting MFCC Feature for c:\\Users\\yasba\\OneDrive\\Documents\\Projects\\Audio_Classification_UrbanSound8K\\data\\raw\\fold6\\111386-5-0-5.wav]\n"
     ]
    },
    {
     "name": "stderr",
     "output_type": "stream",
     "text": [
      "633it [00:30, 24.83it/s]"
     ]
    },
    {
     "name": "stdout",
     "output_type": "stream",
     "text": [
      "[2024-12-20 18:56:05,300: INFO: 414825919: Extracting MFCC Feature for c:\\Users\\yasba\\OneDrive\\Documents\\Projects\\Audio_Classification_UrbanSound8K\\data\\raw\\fold6\\111386-5-0-6.wav]\n",
      "[2024-12-20 18:56:05,335: INFO: 414825919: Extracting MFCC Feature for c:\\Users\\yasba\\OneDrive\\Documents\\Projects\\Audio_Classification_UrbanSound8K\\data\\raw\\fold6\\111386-5-0-7.wav]\n",
      "[2024-12-20 18:56:05,386: INFO: 414825919: Extracting MFCC Feature for c:\\Users\\yasba\\OneDrive\\Documents\\Projects\\Audio_Classification_UrbanSound8K\\data\\raw\\fold6\\111386-5-1-0.wav]\n"
     ]
    },
    {
     "name": "stderr",
     "output_type": "stream",
     "text": [
      "636it [00:31, 24.73it/s]"
     ]
    },
    {
     "name": "stdout",
     "output_type": "stream",
     "text": [
      "[2024-12-20 18:56:05,421: INFO: 414825919: Extracting MFCC Feature for c:\\Users\\yasba\\OneDrive\\Documents\\Projects\\Audio_Classification_UrbanSound8K\\data\\raw\\fold6\\111386-5-1-1.wav]\n",
      "[2024-12-20 18:56:05,461: INFO: 414825919: Extracting MFCC Feature for c:\\Users\\yasba\\OneDrive\\Documents\\Projects\\Audio_Classification_UrbanSound8K\\data\\raw\\fold6\\111386-5-1-10.wav]\n",
      "[2024-12-20 18:56:05,503: INFO: 414825919: Extracting MFCC Feature for c:\\Users\\yasba\\OneDrive\\Documents\\Projects\\Audio_Classification_UrbanSound8K\\data\\raw\\fold6\\111386-5-1-11.wav]\n"
     ]
    },
    {
     "name": "stderr",
     "output_type": "stream",
     "text": [
      "639it [00:31, 24.47it/s]"
     ]
    },
    {
     "name": "stdout",
     "output_type": "stream",
     "text": [
      "[2024-12-20 18:56:05,546: INFO: 414825919: Extracting MFCC Feature for c:\\Users\\yasba\\OneDrive\\Documents\\Projects\\Audio_Classification_UrbanSound8K\\data\\raw\\fold6\\111386-5-1-12.wav]\n",
      "[2024-12-20 18:56:05,592: INFO: 414825919: Extracting MFCC Feature for c:\\Users\\yasba\\OneDrive\\Documents\\Projects\\Audio_Classification_UrbanSound8K\\data\\raw\\fold6\\111386-5-1-13.wav]\n",
      "[2024-12-20 18:56:05,631: INFO: 414825919: Extracting MFCC Feature for c:\\Users\\yasba\\OneDrive\\Documents\\Projects\\Audio_Classification_UrbanSound8K\\data\\raw\\fold6\\111386-5-1-14.wav]\n"
     ]
    },
    {
     "name": "stderr",
     "output_type": "stream",
     "text": [
      "642it [00:31, 24.97it/s]"
     ]
    },
    {
     "name": "stdout",
     "output_type": "stream",
     "text": [
      "[2024-12-20 18:56:05,660: INFO: 414825919: Extracting MFCC Feature for c:\\Users\\yasba\\OneDrive\\Documents\\Projects\\Audio_Classification_UrbanSound8K\\data\\raw\\fold6\\111386-5-1-2.wav]\n",
      "[2024-12-20 18:56:05,701: INFO: 414825919: Extracting MFCC Feature for c:\\Users\\yasba\\OneDrive\\Documents\\Projects\\Audio_Classification_UrbanSound8K\\data\\raw\\fold6\\111386-5-1-3.wav]\n",
      "[2024-12-20 18:56:05,737: INFO: 414825919: Extracting MFCC Feature for c:\\Users\\yasba\\OneDrive\\Documents\\Projects\\Audio_Classification_UrbanSound8K\\data\\raw\\fold6\\111386-5-1-4.wav]\n"
     ]
    },
    {
     "name": "stderr",
     "output_type": "stream",
     "text": [
      "645it [00:31, 25.43it/s]"
     ]
    },
    {
     "name": "stdout",
     "output_type": "stream",
     "text": [
      "[2024-12-20 18:56:05,775: INFO: 414825919: Extracting MFCC Feature for c:\\Users\\yasba\\OneDrive\\Documents\\Projects\\Audio_Classification_UrbanSound8K\\data\\raw\\fold6\\111386-5-1-5.wav]\n",
      "[2024-12-20 18:56:05,817: INFO: 414825919: Extracting MFCC Feature for c:\\Users\\yasba\\OneDrive\\Documents\\Projects\\Audio_Classification_UrbanSound8K\\data\\raw\\fold6\\111386-5-1-6.wav]\n",
      "[2024-12-20 18:56:05,859: INFO: 414825919: Extracting MFCC Feature for c:\\Users\\yasba\\OneDrive\\Documents\\Projects\\Audio_Classification_UrbanSound8K\\data\\raw\\fold6\\111386-5-1-7.wav]\n"
     ]
    },
    {
     "name": "stderr",
     "output_type": "stream",
     "text": [
      "648it [00:31, 25.43it/s]"
     ]
    },
    {
     "name": "stdout",
     "output_type": "stream",
     "text": [
      "[2024-12-20 18:56:05,892: INFO: 414825919: Extracting MFCC Feature for c:\\Users\\yasba\\OneDrive\\Documents\\Projects\\Audio_Classification_UrbanSound8K\\data\\raw\\fold6\\111386-5-1-8.wav]\n",
      "[2024-12-20 18:56:05,942: INFO: 414825919: Extracting MFCC Feature for c:\\Users\\yasba\\OneDrive\\Documents\\Projects\\Audio_Classification_UrbanSound8K\\data\\raw\\fold6\\111386-5-1-9.wav]\n",
      "[2024-12-20 18:56:05,989: INFO: 414825919: Extracting MFCC Feature for c:\\Users\\yasba\\OneDrive\\Documents\\Projects\\Audio_Classification_UrbanSound8K\\data\\raw\\fold5\\111671-8-0-0.wav]\n"
     ]
    },
    {
     "name": "stderr",
     "output_type": "stream",
     "text": [
      "651it [00:31, 24.11it/s]"
     ]
    },
    {
     "name": "stdout",
     "output_type": "stream",
     "text": [
      "[2024-12-20 18:56:06,032: INFO: 414825919: Extracting MFCC Feature for c:\\Users\\yasba\\OneDrive\\Documents\\Projects\\Audio_Classification_UrbanSound8K\\data\\raw\\fold5\\111671-8-0-1.wav]\n",
      "[2024-12-20 18:56:06,086: INFO: 414825919: Extracting MFCC Feature for c:\\Users\\yasba\\OneDrive\\Documents\\Projects\\Audio_Classification_UrbanSound8K\\data\\raw\\fold5\\111671-8-0-10.wav]\n",
      "[2024-12-20 18:56:06,133: INFO: 414825919: Extracting MFCC Feature for c:\\Users\\yasba\\OneDrive\\Documents\\Projects\\Audio_Classification_UrbanSound8K\\data\\raw\\fold5\\111671-8-0-11.wav]\n"
     ]
    },
    {
     "name": "stderr",
     "output_type": "stream",
     "text": [
      "654it [00:31, 23.81it/s]"
     ]
    },
    {
     "name": "stdout",
     "output_type": "stream",
     "text": [
      "[2024-12-20 18:56:06,163: INFO: 414825919: Extracting MFCC Feature for c:\\Users\\yasba\\OneDrive\\Documents\\Projects\\Audio_Classification_UrbanSound8K\\data\\raw\\fold5\\111671-8-0-12.wav]\n",
      "[2024-12-20 18:56:06,213: INFO: 414825919: Extracting MFCC Feature for c:\\Users\\yasba\\OneDrive\\Documents\\Projects\\Audio_Classification_UrbanSound8K\\data\\raw\\fold5\\111671-8-0-13.wav]\n",
      "[2024-12-20 18:56:06,256: INFO: 414825919: Extracting MFCC Feature for c:\\Users\\yasba\\OneDrive\\Documents\\Projects\\Audio_Classification_UrbanSound8K\\data\\raw\\fold5\\111671-8-0-14.wav]\n"
     ]
    },
    {
     "name": "stderr",
     "output_type": "stream",
     "text": [
      "657it [00:31, 23.00it/s]"
     ]
    },
    {
     "name": "stdout",
     "output_type": "stream",
     "text": [
      "[2024-12-20 18:56:06,303: INFO: 414825919: Extracting MFCC Feature for c:\\Users\\yasba\\OneDrive\\Documents\\Projects\\Audio_Classification_UrbanSound8K\\data\\raw\\fold5\\111671-8-0-15.wav]\n",
      "[2024-12-20 18:56:06,337: INFO: 414825919: Extracting MFCC Feature for c:\\Users\\yasba\\OneDrive\\Documents\\Projects\\Audio_Classification_UrbanSound8K\\data\\raw\\fold5\\111671-8-0-16.wav]\n",
      "[2024-12-20 18:56:06,373: INFO: 414825919: Extracting MFCC Feature for c:\\Users\\yasba\\OneDrive\\Documents\\Projects\\Audio_Classification_UrbanSound8K\\data\\raw\\fold5\\111671-8-0-17.wav]\n"
     ]
    },
    {
     "name": "stderr",
     "output_type": "stream",
     "text": [
      "660it [00:32, 24.17it/s]"
     ]
    },
    {
     "name": "stdout",
     "output_type": "stream",
     "text": [
      "[2024-12-20 18:56:06,411: INFO: 414825919: Extracting MFCC Feature for c:\\Users\\yasba\\OneDrive\\Documents\\Projects\\Audio_Classification_UrbanSound8K\\data\\raw\\fold5\\111671-8-0-18.wav]\n",
      "[2024-12-20 18:56:06,445: INFO: 414825919: Extracting MFCC Feature for c:\\Users\\yasba\\OneDrive\\Documents\\Projects\\Audio_Classification_UrbanSound8K\\data\\raw\\fold5\\111671-8-0-19.wav]\n",
      "[2024-12-20 18:56:06,477: INFO: 414825919: Extracting MFCC Feature for c:\\Users\\yasba\\OneDrive\\Documents\\Projects\\Audio_Classification_UrbanSound8K\\data\\raw\\fold5\\111671-8-0-2.wav]\n",
      "[2024-12-20 18:56:06,509: INFO: 414825919: Extracting MFCC Feature for c:\\Users\\yasba\\OneDrive\\Documents\\Projects\\Audio_Classification_UrbanSound8K\\data\\raw\\fold5\\111671-8-0-20.wav]\n"
     ]
    },
    {
     "name": "stderr",
     "output_type": "stream",
     "text": [
      "664it [00:32, 25.71it/s]"
     ]
    },
    {
     "name": "stdout",
     "output_type": "stream",
     "text": [
      "[2024-12-20 18:56:06,549: INFO: 414825919: Extracting MFCC Feature for c:\\Users\\yasba\\OneDrive\\Documents\\Projects\\Audio_Classification_UrbanSound8K\\data\\raw\\fold5\\111671-8-0-21.wav]\n",
      "[2024-12-20 18:56:06,584: INFO: 414825919: Extracting MFCC Feature for c:\\Users\\yasba\\OneDrive\\Documents\\Projects\\Audio_Classification_UrbanSound8K\\data\\raw\\fold5\\111671-8-0-22.wav]\n",
      "[2024-12-20 18:56:06,619: INFO: 414825919: Extracting MFCC Feature for c:\\Users\\yasba\\OneDrive\\Documents\\Projects\\Audio_Classification_UrbanSound8K\\data\\raw\\fold5\\111671-8-0-3.wav]\n"
     ]
    },
    {
     "name": "stderr",
     "output_type": "stream",
     "text": [
      "667it [00:32, 26.53it/s]"
     ]
    },
    {
     "name": "stdout",
     "output_type": "stream",
     "text": [
      "[2024-12-20 18:56:06,653: INFO: 414825919: Extracting MFCC Feature for c:\\Users\\yasba\\OneDrive\\Documents\\Projects\\Audio_Classification_UrbanSound8K\\data\\raw\\fold5\\111671-8-0-4.wav]\n",
      "[2024-12-20 18:56:06,693: INFO: 414825919: Extracting MFCC Feature for c:\\Users\\yasba\\OneDrive\\Documents\\Projects\\Audio_Classification_UrbanSound8K\\data\\raw\\fold5\\111671-8-0-5.wav]\n"
     ]
    },
    {
     "name": "stderr",
     "output_type": "stream",
     "text": [
      "668it [00:32, 20.66it/s]\n"
     ]
    },
    {
     "ename": "KeyboardInterrupt",
     "evalue": "",
     "output_type": "error",
     "traceback": [
      "\u001b[1;31m---------------------------------------------------------------------------\u001b[0m",
      "\u001b[1;31mKeyboardInterrupt\u001b[0m                         Traceback (most recent call last)",
      "Cell \u001b[1;32mIn[28], line 6\u001b[0m\n\u001b[0;32m      4\u001b[0m data_ingestion \u001b[38;5;241m=\u001b[39m DataIngestion(config\u001b[38;5;241m=\u001b[39mdata_ingestion_config)\n\u001b[0;32m      5\u001b[0m data_ingestion\u001b[38;5;241m.\u001b[39mget_csv_file()\n\u001b[1;32m----> 6\u001b[0m \u001b[43mdata_ingestion\u001b[49m\u001b[38;5;241;43m.\u001b[39;49m\u001b[43mget_extracted_feature\u001b[49m\u001b[43m(\u001b[49m\u001b[43m)\u001b[49m\n\u001b[0;32m      7\u001b[0m data_ingestion\u001b[38;5;241m.\u001b[39mconvert_mfcc_to_dataframe()\n\u001b[0;32m      8\u001b[0m data_ingestion\u001b[38;5;241m.\u001b[39mencoding_class_variables()\n",
      "Cell \u001b[1;32mIn[27], line 27\u001b[0m, in \u001b[0;36mDataIngestion.get_extracted_feature\u001b[1;34m(self)\u001b[0m\n\u001b[0;32m     25\u001b[0m     file_name \u001b[38;5;241m=\u001b[39m \u001b[38;5;28mstr\u001b[39m(os\u001b[38;5;241m.\u001b[39mpath\u001b[38;5;241m.\u001b[39mjoin(os\u001b[38;5;241m.\u001b[39mpath\u001b[38;5;241m.\u001b[39mabspath(\u001b[38;5;28mself\u001b[39m\u001b[38;5;241m.\u001b[39mconfig\u001b[38;5;241m.\u001b[39maudio_dataset_path), \u001b[38;5;124mf\u001b[39m\u001b[38;5;124m'\u001b[39m\u001b[38;5;124mfold\u001b[39m\u001b[38;5;132;01m{\u001b[39;00mrow[\u001b[38;5;124m\"\u001b[39m\u001b[38;5;124mfold\u001b[39m\u001b[38;5;124m\"\u001b[39m]\u001b[38;5;132;01m}\u001b[39;00m\u001b[38;5;124m'\u001b[39m, row[\u001b[38;5;124m\"\u001b[39m\u001b[38;5;124mslice_file_name\u001b[39m\u001b[38;5;124m\"\u001b[39m]))\n\u001b[0;32m     26\u001b[0m     final_class_labels \u001b[38;5;241m=\u001b[39m row[\u001b[38;5;124m\"\u001b[39m\u001b[38;5;124mclass\u001b[39m\u001b[38;5;124m\"\u001b[39m]\n\u001b[1;32m---> 27\u001b[0m     data \u001b[38;5;241m=\u001b[39m \u001b[38;5;28;43mself\u001b[39;49m\u001b[38;5;241;43m.\u001b[39;49m\u001b[43mfeature_extractor\u001b[49m\u001b[43m(\u001b[49m\u001b[43mfile_name\u001b[49m\u001b[43m)\u001b[49m\n\u001b[0;32m     28\u001b[0m     \u001b[38;5;28mself\u001b[39m\u001b[38;5;241m.\u001b[39mextracted_features\u001b[38;5;241m.\u001b[39mappend([data, final_class_labels])\n\u001b[0;32m     30\u001b[0m logger\u001b[38;5;241m.\u001b[39minfo(\u001b[38;5;124m\"\u001b[39m\u001b[38;5;124mExtraction of MFCC Features Completed\u001b[39m\u001b[38;5;124m\"\u001b[39m)\n",
      "Cell \u001b[1;32mIn[27], line 16\u001b[0m, in \u001b[0;36mDataIngestion.feature_extractor\u001b[1;34m(self, file_name)\u001b[0m\n\u001b[0;32m     13\u001b[0m logger\u001b[38;5;241m.\u001b[39minfo(\u001b[38;5;124mf\u001b[39m\u001b[38;5;124m\"\u001b[39m\u001b[38;5;124mExtracting MFCC Feature for \u001b[39m\u001b[38;5;132;01m{\u001b[39;00mfile_name\u001b[38;5;132;01m}\u001b[39;00m\u001b[38;5;124m\"\u001b[39m)\n\u001b[0;32m     15\u001b[0m audio, sample_rate \u001b[38;5;241m=\u001b[39m librosa\u001b[38;5;241m.\u001b[39mload(file_name)\n\u001b[1;32m---> 16\u001b[0m mfccs_features \u001b[38;5;241m=\u001b[39m \u001b[43mlibrosa\u001b[49m\u001b[38;5;241;43m.\u001b[39;49m\u001b[43mfeature\u001b[49m\u001b[38;5;241;43m.\u001b[39;49m\u001b[43mmfcc\u001b[49m\u001b[43m(\u001b[49m\u001b[43my\u001b[49m\u001b[38;5;241;43m=\u001b[39;49m\u001b[43maudio\u001b[49m\u001b[43m,\u001b[49m\u001b[43m \u001b[49m\u001b[43msr\u001b[49m\u001b[38;5;241;43m=\u001b[39;49m\u001b[43msample_rate\u001b[49m\u001b[43m,\u001b[49m\u001b[43m \u001b[49m\u001b[43mn_mfcc\u001b[49m\u001b[38;5;241;43m=\u001b[39;49m\u001b[38;5;241;43m40\u001b[39;49m\u001b[43m)\u001b[49m\n\u001b[0;32m     17\u001b[0m mfccs_scaled_features \u001b[38;5;241m=\u001b[39m np\u001b[38;5;241m.\u001b[39mmean(mfccs_features\u001b[38;5;241m.\u001b[39mT, axis\u001b[38;5;241m=\u001b[39m\u001b[38;5;241m0\u001b[39m)\n\u001b[0;32m     19\u001b[0m \u001b[38;5;28;01mreturn\u001b[39;00m mfccs_scaled_features\n",
      "File \u001b[1;32mc:\\Users\\yasba\\OneDrive\\Documents\\Projects\\Audio_Classification_UrbanSound8K\\venv\\lib\\site-packages\\librosa\\feature\\spectral.py:1989\u001b[0m, in \u001b[0;36mmfcc\u001b[1;34m(y, sr, S, n_mfcc, dct_type, norm, lifter, **kwargs)\u001b[0m\n\u001b[0;32m   1843\u001b[0m \u001b[38;5;250m\u001b[39m\u001b[38;5;124;03m\"\"\"Mel-frequency cepstral coefficients (MFCCs)\u001b[39;00m\n\u001b[0;32m   1844\u001b[0m \n\u001b[0;32m   1845\u001b[0m \u001b[38;5;124;03m.. warning:: If multi-channel audio input ``y`` is provided, the MFCC\u001b[39;00m\n\u001b[1;32m   (...)\u001b[0m\n\u001b[0;32m   1985\u001b[0m \u001b[38;5;124;03m>>> fig.colorbar(img2, ax=[ax[1]])\u001b[39;00m\n\u001b[0;32m   1986\u001b[0m \u001b[38;5;124;03m\"\"\"\u001b[39;00m\n\u001b[0;32m   1987\u001b[0m \u001b[38;5;28;01mif\u001b[39;00m S \u001b[38;5;129;01mis\u001b[39;00m \u001b[38;5;28;01mNone\u001b[39;00m:\n\u001b[0;32m   1988\u001b[0m     \u001b[38;5;66;03m# multichannel behavior may be different due to relative noise floor differences between channels\u001b[39;00m\n\u001b[1;32m-> 1989\u001b[0m     S \u001b[38;5;241m=\u001b[39m power_to_db(\u001b[43mmelspectrogram\u001b[49m\u001b[43m(\u001b[49m\u001b[43my\u001b[49m\u001b[38;5;241;43m=\u001b[39;49m\u001b[43my\u001b[49m\u001b[43m,\u001b[49m\u001b[43m \u001b[49m\u001b[43msr\u001b[49m\u001b[38;5;241;43m=\u001b[39;49m\u001b[43msr\u001b[49m\u001b[43m,\u001b[49m\u001b[43m \u001b[49m\u001b[38;5;241;43m*\u001b[39;49m\u001b[38;5;241;43m*\u001b[39;49m\u001b[43mkwargs\u001b[49m\u001b[43m)\u001b[49m)\n\u001b[0;32m   1991\u001b[0m M: np\u001b[38;5;241m.\u001b[39mndarray \u001b[38;5;241m=\u001b[39m scipy\u001b[38;5;241m.\u001b[39mfftpack\u001b[38;5;241m.\u001b[39mdct(S, axis\u001b[38;5;241m=\u001b[39m\u001b[38;5;241m-\u001b[39m\u001b[38;5;241m2\u001b[39m, \u001b[38;5;28mtype\u001b[39m\u001b[38;5;241m=\u001b[39mdct_type, norm\u001b[38;5;241m=\u001b[39mnorm)[\n\u001b[0;32m   1992\u001b[0m     \u001b[38;5;241m.\u001b[39m\u001b[38;5;241m.\u001b[39m\u001b[38;5;241m.\u001b[39m, :n_mfcc, :\n\u001b[0;32m   1993\u001b[0m ]\n\u001b[0;32m   1995\u001b[0m \u001b[38;5;28;01mif\u001b[39;00m lifter \u001b[38;5;241m>\u001b[39m \u001b[38;5;241m0\u001b[39m:\n\u001b[0;32m   1996\u001b[0m     \u001b[38;5;66;03m# shape lifter for broadcasting\u001b[39;00m\n",
      "File \u001b[1;32mc:\\Users\\yasba\\OneDrive\\Documents\\Projects\\Audio_Classification_UrbanSound8K\\venv\\lib\\site-packages\\librosa\\feature\\spectral.py:2145\u001b[0m, in \u001b[0;36mmelspectrogram\u001b[1;34m(y, sr, S, n_fft, hop_length, win_length, window, center, pad_mode, power, **kwargs)\u001b[0m\n\u001b[0;32m   2142\u001b[0m \u001b[38;5;66;03m# Build a Mel filter\u001b[39;00m\n\u001b[0;32m   2143\u001b[0m mel_basis \u001b[38;5;241m=\u001b[39m filters\u001b[38;5;241m.\u001b[39mmel(sr\u001b[38;5;241m=\u001b[39msr, n_fft\u001b[38;5;241m=\u001b[39mn_fft, \u001b[38;5;241m*\u001b[39m\u001b[38;5;241m*\u001b[39mkwargs)\n\u001b[1;32m-> 2145\u001b[0m melspec: np\u001b[38;5;241m.\u001b[39mndarray \u001b[38;5;241m=\u001b[39m \u001b[43mnp\u001b[49m\u001b[38;5;241;43m.\u001b[39;49m\u001b[43meinsum\u001b[49m\u001b[43m(\u001b[49m\u001b[38;5;124;43m\"\u001b[39;49m\u001b[38;5;124;43m...ft,mf->...mt\u001b[39;49m\u001b[38;5;124;43m\"\u001b[39;49m\u001b[43m,\u001b[49m\u001b[43m \u001b[49m\u001b[43mS\u001b[49m\u001b[43m,\u001b[49m\u001b[43m \u001b[49m\u001b[43mmel_basis\u001b[49m\u001b[43m,\u001b[49m\u001b[43m \u001b[49m\u001b[43moptimize\u001b[49m\u001b[38;5;241;43m=\u001b[39;49m\u001b[38;5;28;43;01mTrue\u001b[39;49;00m\u001b[43m)\u001b[49m\n\u001b[0;32m   2146\u001b[0m \u001b[38;5;28;01mreturn\u001b[39;00m melspec\n",
      "File \u001b[1;32m<__array_function__ internals>:200\u001b[0m, in \u001b[0;36meinsum\u001b[1;34m(*args, **kwargs)\u001b[0m\n",
      "File \u001b[1;32mc:\\Users\\yasba\\OneDrive\\Documents\\Projects\\Audio_Classification_UrbanSound8K\\venv\\lib\\site-packages\\numpy\\core\\einsumfunc.py:1419\u001b[0m, in \u001b[0;36meinsum\u001b[1;34m(out, optimize, *operands, **kwargs)\u001b[0m\n\u001b[0;32m   1416\u001b[0m     right_pos\u001b[38;5;241m.\u001b[39mappend(input_right\u001b[38;5;241m.\u001b[39mfind(s))\n\u001b[0;32m   1418\u001b[0m \u001b[38;5;66;03m# Contract!\u001b[39;00m\n\u001b[1;32m-> 1419\u001b[0m new_view \u001b[38;5;241m=\u001b[39m \u001b[43mtensordot\u001b[49m\u001b[43m(\u001b[49m\u001b[38;5;241;43m*\u001b[39;49m\u001b[43mtmp_operands\u001b[49m\u001b[43m,\u001b[49m\u001b[43m \u001b[49m\u001b[43maxes\u001b[49m\u001b[38;5;241;43m=\u001b[39;49m\u001b[43m(\u001b[49m\u001b[38;5;28;43mtuple\u001b[39;49m\u001b[43m(\u001b[49m\u001b[43mleft_pos\u001b[49m\u001b[43m)\u001b[49m\u001b[43m,\u001b[49m\u001b[43m \u001b[49m\u001b[38;5;28;43mtuple\u001b[39;49m\u001b[43m(\u001b[49m\u001b[43mright_pos\u001b[49m\u001b[43m)\u001b[49m\u001b[43m)\u001b[49m\u001b[43m)\u001b[49m\n\u001b[0;32m   1421\u001b[0m \u001b[38;5;66;03m# Build a new view if needed\u001b[39;00m\n\u001b[0;32m   1422\u001b[0m \u001b[38;5;28;01mif\u001b[39;00m (tensor_result \u001b[38;5;241m!=\u001b[39m results_index) \u001b[38;5;129;01mor\u001b[39;00m handle_out:\n",
      "File \u001b[1;32m<__array_function__ internals>:200\u001b[0m, in \u001b[0;36mtensordot\u001b[1;34m(*args, **kwargs)\u001b[0m\n",
      "File \u001b[1;32mc:\\Users\\yasba\\OneDrive\\Documents\\Projects\\Audio_Classification_UrbanSound8K\\venv\\lib\\site-packages\\numpy\\core\\numeric.py:1139\u001b[0m, in \u001b[0;36mtensordot\u001b[1;34m(a, b, axes)\u001b[0m\n\u001b[0;32m   1137\u001b[0m at \u001b[38;5;241m=\u001b[39m a\u001b[38;5;241m.\u001b[39mtranspose(newaxes_a)\u001b[38;5;241m.\u001b[39mreshape(newshape_a)\n\u001b[0;32m   1138\u001b[0m bt \u001b[38;5;241m=\u001b[39m b\u001b[38;5;241m.\u001b[39mtranspose(newaxes_b)\u001b[38;5;241m.\u001b[39mreshape(newshape_b)\n\u001b[1;32m-> 1139\u001b[0m res \u001b[38;5;241m=\u001b[39m \u001b[43mdot\u001b[49m\u001b[43m(\u001b[49m\u001b[43mat\u001b[49m\u001b[43m,\u001b[49m\u001b[43m \u001b[49m\u001b[43mbt\u001b[49m\u001b[43m)\u001b[49m\n\u001b[0;32m   1140\u001b[0m \u001b[38;5;28;01mreturn\u001b[39;00m res\u001b[38;5;241m.\u001b[39mreshape(olda \u001b[38;5;241m+\u001b[39m oldb)\n",
      "File \u001b[1;32m<__array_function__ internals>:200\u001b[0m, in \u001b[0;36mdot\u001b[1;34m(*args, **kwargs)\u001b[0m\n",
      "\u001b[1;31mKeyboardInterrupt\u001b[0m: "
     ]
    }
   ],
   "source": [
    "try:\n",
    "    config = ConfigurationManager()\n",
    "    data_ingestion_config = config.get_data_ingestion_config()\n",
    "    data_ingestion = DataIngestion(config=data_ingestion_config)\n",
    "    data_ingestion.get_csv_file()\n",
    "    data_ingestion.get_extracted_feature()\n",
    "    data_ingestion.convert_mfcc_to_dataframe()\n",
    "    data_ingestion.encoding_class_variables()\n",
    "    data_ingestion.save_mfcc_dataframe()\n",
    "except Exception as e:\n",
    "    raise e"
   ]
  },
  {
   "cell_type": "code",
   "execution_count": null,
   "metadata": {},
   "outputs": [],
   "source": []
  }
 ],
 "metadata": {
  "kernelspec": {
   "display_name": "Python 3",
   "language": "python",
   "name": "python3"
  },
  "language_info": {
   "codemirror_mode": {
    "name": "ipython",
    "version": 3
   },
   "file_extension": ".py",
   "mimetype": "text/x-python",
   "name": "python",
   "nbconvert_exporter": "python",
   "pygments_lexer": "ipython3",
   "version": "3.8.20"
  }
 },
 "nbformat": 4,
 "nbformat_minor": 2
}
